{
 "cells": [
  {
   "cell_type": "code",
   "execution_count": 1,
   "id": "620cf281-a404-4296-8930-9e4482cebd58",
   "metadata": {},
   "outputs": [],
   "source": [
    "# function  =  templates \n",
    "# collection of statement \n",
    "# block of statement \n",
    "# code readable \n",
    "# code reusability \n",
    "#functions are two types --> user define \n",
    "#                        --> pred define\n",
    "\n",
    "# there are two types of scopes--> 1.local scope--> inside the function we can't use the outside the function\n",
    "#                                  2.global scope--> we can acess anywhere anytime outside or inside \n",
    "\n",
    "# THERE ARE FIVE TYPES OF ARGUMENTS IN FUNCTIONS \n",
    "# 1) Positional Arguments\n",
    "# 2) Default Arguments\n",
    "# 3) Keyword Arguments\n",
    "# 4) Variable-length Arguments (*args)\n",
    "# 5) Keyword Variable-length Arguments (**kwargs)"
   ]
  },
  {
   "cell_type": "code",
   "execution_count": 2,
   "id": "24849d8e-02d0-43d0-858b-bb6adf8626f4",
   "metadata": {},
   "outputs": [],
   "source": [
    " ## def is used to make a function in pyhton"
   ]
  },
  {
   "cell_type": "code",
   "execution_count": 5,
   "id": "edecda2f-4712-4aa8-8389-43ca9e9734c6",
   "metadata": {},
   "outputs": [],
   "source": [
    "def msg(): # --> user defined function\n",
    "    print(\"hi user\")\n",
    "    print(\"hello\")\n",
    "\n"
   ]
  },
  {
   "cell_type": "code",
   "execution_count": 6,
   "id": "9040e307-e528-4ba8-b4bc-ad3c5216b9cb",
   "metadata": {},
   "outputs": [
    {
     "name": "stdout",
     "output_type": "stream",
     "text": [
      "hi user\n",
      "hello\n"
     ]
    }
   ],
   "source": [
    "msg() ##calling the function"
   ]
  },
  {
   "cell_type": "code",
   "execution_count": 21,
   "id": "fc9e7077-e81f-4557-aefa-ef4ae0b16408",
   "metadata": {},
   "outputs": [
    {
     "name": "stdout",
     "output_type": "stream",
     "text": [
      "hi user 95\n",
      "hello\n"
     ]
    }
   ],
   "source": [
    "def msg():# --> user defined function\n",
    "    c = 95 # --> local variable it will only work inside the function, not outside the function.\n",
    "            # --> life scope variable  = local variable .\n",
    "    print(\"hi user\",c)\n",
    "    print(\"hello\")\n",
    "msg()\n"
   ]
  },
  {
   "cell_type": "code",
   "execution_count": 8,
   "id": "65d5a5bc-550a-4e21-a55b-5779a4f292ba",
   "metadata": {},
   "outputs": [
    {
     "data": {
      "text/plain": [
       "3"
      ]
     },
     "execution_count": 8,
     "metadata": {},
     "output_type": "execute_result"
    }
   ],
   "source": [
    "len(\"hey\") #--> predefined function \n"
   ]
  },
  {
   "cell_type": "code",
   "execution_count": 14,
   "id": "75eef87a-bf1b-4c30-bd26-4961cf9d4cbe",
   "metadata": {},
   "outputs": [
    {
     "name": "stdout",
     "output_type": "stream",
     "text": [
      "hi user 15\n",
      "hello 17\n",
      "17\n"
     ]
    }
   ],
   "source": [
    "y = 17 # global scope --> it can be access anywhere locally or globally both the way (outside the loop and inside also).\n",
    "def msg():\n",
    "    c=15\n",
    "    print(\"hi user\",c)\n",
    "    print(\"hello\",y)\n",
    "msg()\n",
    "print(y)"
   ]
  },
  {
   "cell_type": "code",
   "execution_count": 19,
   "id": "91eed98c-be69-47ef-b67f-908f4145f004",
   "metadata": {},
   "outputs": [
    {
     "name": "stdout",
     "output_type": "stream",
     "text": [
      "hey boy 100\n"
     ]
    }
   ],
   "source": [
    "def msg(c): #(parameter = c ) and ( value, argument   = 100 )\n",
    "    print(\"hey boy\",c)\n",
    "\n",
    "msg(100)"
   ]
  },
  {
   "cell_type": "code",
   "execution_count": 20,
   "id": "0da597c2-5320-4c98-8b51-429fe2a43cb5",
   "metadata": {},
   "outputs": [
    {
     "name": "stdout",
     "output_type": "stream",
     "text": [
      "hey boy 199\n"
     ]
    }
   ],
   "source": [
    "msg(199)"
   ]
  },
  {
   "cell_type": "code",
   "execution_count": 25,
   "id": "ca493707-17db-4f25-a37a-81899fed4848",
   "metadata": {},
   "outputs": [
    {
     "name": "stdout",
     "output_type": "stream",
     "text": [
      "hue 100 154\n"
     ]
    }
   ],
   "source": [
    "def msg(c,d):\n",
    "    print(\"hue\",c,d) # if u have \n",
    "# sequence should mattter in this function \n",
    "msg(100,154)"
   ]
  },
  {
   "cell_type": "markdown",
   "id": "8f76712b-3912-4ccf-828a-e324a04a4fd7",
   "metadata": {},
   "source": [
    "### positional argument "
   ]
  },
  {
   "cell_type": "code",
   "execution_count": 26,
   "id": "66deb29a-a4d9-4a2d-b5e2-7b33dd924d64",
   "metadata": {},
   "outputs": [
    {
     "name": "stdout",
     "output_type": "stream",
     "text": [
      "8\n"
     ]
    }
   ],
   "source": [
    "# postional \n",
    "def add(a,b):\n",
    "    return  a+b\n",
    "print(add(3,5))\n",
    "\n"
   ]
  },
  {
   "cell_type": "markdown",
   "id": "ade0357f-b542-42f6-8cb9-1743bcd2ed9c",
   "metadata": {},
   "source": [
    "### default argumnet"
   ]
  },
  {
   "cell_type": "code",
   "execution_count": 34,
   "id": "71e67f88-0a41-4d62-95a0-515e662a9a8b",
   "metadata": {},
   "outputs": [
    {
     "name": "stdout",
     "output_type": "stream",
     "text": [
      "harsh 25\n",
      "alice 25\n"
     ]
    }
   ],
   "source": [
    "# default \n",
    "def hey(name = \"harsh\",age = 25):\n",
    "    print(name,age)\n",
    "hey()\n",
    "print(\"alice\",25)"
   ]
  },
  {
   "cell_type": "markdown",
   "id": "f114173a-ed48-4729-8017-9f0647af2619",
   "metadata": {},
   "source": [
    "eg of functions "
   ]
  },
  {
   "cell_type": "markdown",
   "id": "dd091c19-a313-4542-b31b-01f772435713",
   "metadata": {},
   "source": [
    "odd , even"
   ]
  },
  {
   "cell_type": "code",
   "execution_count": 35,
   "id": "2559e1d3-61d8-4021-a4ea-82626fac99c5",
   "metadata": {},
   "outputs": [],
   "source": [
    "def func(a):\n",
    "    if(a%2==0):\n",
    "        print(\"even\")\n",
    "\n",
    "    else:\n",
    "        print(\"odd\")\n",
    "        "
   ]
  },
  {
   "cell_type": "code",
   "execution_count": 36,
   "id": "afa29c03-e325-4f0f-80e1-fe78e2822828",
   "metadata": {},
   "outputs": [
    {
     "name": "stdout",
     "output_type": "stream",
     "text": [
      "odd\n",
      "even\n"
     ]
    }
   ],
   "source": [
    "func(11)\n",
    "func(10)"
   ]
  },
  {
   "cell_type": "markdown",
   "id": "f8f32c91-fd7d-4720-b543-4a7bd9104576",
   "metadata": {},
   "source": [
    "pattern"
   ]
  },
  {
   "cell_type": "code",
   "execution_count": 71,
   "id": "9d7ce518-b2dd-4b0e-b213-4ef898d235b0",
   "metadata": {},
   "outputs": [
    {
     "name": "stdout",
     "output_type": "stream",
     "text": [
      "1 2 3 4 5  \n",
      "2 3 4 5  \n",
      "3 4 5  \n",
      "4 5  \n",
      "5  \n"
     ]
    }
   ],
   "source": [
    "\n",
    "def fun(num):\n",
    "    for i in range (1,num+1):\n",
    "        for j in range (i,num+1):\n",
    "            print(j,end = \" \")\n",
    "            \n",
    "        print(\" \")\n",
    "\n",
    "fun(5)"
   ]
  },
  {
   "cell_type": "markdown",
   "id": "9432a6e9-3658-4943-997b-773fcd72ea6d",
   "metadata": {},
   "source": [
    " factor of a number "
   ]
  },
  {
   "cell_type": "code",
   "execution_count": 74,
   "id": "47cbb90f-f392-4919-9945-7d47da92fc3b",
   "metadata": {},
   "outputs": [
    {
     "name": "stdout",
     "output_type": "stream",
     "text": [
      "1\n",
      "2\n",
      "4\n",
      "8\n"
     ]
    }
   ],
   "source": [
    "def factor(num):\n",
    "    for i in range (1,num+1):\n",
    "        if num%i==0:\n",
    "            print(i)\n",
    "            \n",
    "factor(num)    "
   ]
  },
  {
   "cell_type": "markdown",
   "id": "bcac93e4-e19a-48c5-897f-2a8093cacdd1",
   "metadata": {},
   "source": [
    "counting the value "
   ]
  },
  {
   "cell_type": "code",
   "execution_count": 86,
   "id": "501de4f2-a065-4bd0-ac0f-13db439b1f4b",
   "metadata": {},
   "outputs": [
    {
     "name": "stdout",
     "output_type": "stream",
     "text": [
      "greater the 10 \n"
     ]
    }
   ],
   "source": [
    "\n",
    "\n",
    "def name(s):\n",
    "    c = 0\n",
    "    for i in s:\n",
    "        c+=1\n",
    "    if c>10:\n",
    "        print(\"greater the 10 \")\n",
    "        \n",
    "    else:\n",
    "        print(\"smaller than 10\")\n",
    "name(\"bshihuhbscjh\")"
   ]
  },
  {
   "cell_type": "code",
   "execution_count": null,
   "id": "3d50e3c5-97db-4e21-a5f6-8563410002b7",
   "metadata": {},
   "outputs": [],
   "source": []
  }
 ],
 "metadata": {
  "kernelspec": {
   "display_name": "Python 3 (ipykernel)",
   "language": "python",
   "name": "python3"
  },
  "language_info": {
   "codemirror_mode": {
    "name": "ipython",
    "version": 3
   },
   "file_extension": ".py",
   "mimetype": "text/x-python",
   "name": "python",
   "nbconvert_exporter": "python",
   "pygments_lexer": "ipython3",
   "version": "3.12.7"
  }
 },
 "nbformat": 4,
 "nbformat_minor": 5
}
