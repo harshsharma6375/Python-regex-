{
 "cells": [
  {
   "cell_type": "markdown",
   "id": "134da229-e29c-4a14-80e5-4919938caf76",
   "metadata": {},
   "source": [
    "#### default argument "
   ]
  },
  {
   "cell_type": "code",
   "execution_count": 27,
   "id": "8f5e7ae3-4cb3-46ac-a39c-8304df300631",
   "metadata": {},
   "outputs": [],
   "source": [
    "## If no value is provided, the default value is used."
   ]
  },
  {
   "cell_type": "code",
   "execution_count": 28,
   "id": "adbb2556-a863-429d-9179-d1fa80cdad0d",
   "metadata": {},
   "outputs": [
    {
     "name": "stdout",
     "output_type": "stream",
     "text": [
      "hey x 19 value of y abc\n"
     ]
    }
   ],
   "source": [
    "def func(x,y = \"abc\"):\n",
    "    print(\"hey\",\"x\",x,\"value of y\",y)\n",
    "func(x = 19)"
   ]
  },
  {
   "cell_type": "markdown",
   "id": "9106f3ce-135a-4b76-98b5-865311a69ced",
   "metadata": {},
   "source": [
    "#### variable length  argument "
   ]
  },
  {
   "cell_type": "markdown",
   "id": "a50d85f3-2d2a-4349-b135-8b09aa5abedc",
   "metadata": {},
   "source": [
    " ###### *args (Multiple Positional Arguments)"
   ]
  },
  {
   "cell_type": "code",
   "execution_count": 1,
   "id": "dbbf016e-fadc-43d8-8751-37e2e3835657",
   "metadata": {},
   "outputs": [
    {
     "name": "stdout",
     "output_type": "stream",
     "text": [
      "()\n",
      "(10, 20)\n",
      "(1, 2, 3, 4, 5)\n"
     ]
    }
   ],
   "source": [
    "def func(*x):\n",
    "    print(x)\n",
    "func()\n",
    "func(10,20)\n",
    "func(1,2,3,4,5)"
   ]
  },
  {
   "cell_type": "code",
   "execution_count": null,
   "id": "fdc52aa5-cc1f-402b-b129-14fbfd707222",
   "metadata": {},
   "outputs": [],
   "source": []
  },
  {
   "cell_type": "code",
   "execution_count": null,
   "id": "bd25db78-ea59-45d0-bb98-8f0688e9530c",
   "metadata": {},
   "outputs": [],
   "source": [
    "def func(x,y):\n",
    "    print(\"hey\",\"x\":)"
   ]
  },
  {
   "cell_type": "markdown",
   "id": "e1e2db17-3a87-43c3-a318-09a9132b2d6f",
   "metadata": {},
   "source": [
    "##### keyword variable length argument "
   ]
  },
  {
   "cell_type": "markdown",
   "id": "3eeaf7fa-1393-4464-a583-90a0f1bf72f9",
   "metadata": {},
   "source": [
    "###### **kwargs (Multiple Keyword Arguments)"
   ]
  },
  {
   "cell_type": "code",
   "execution_count": 29,
   "id": "42c05ca5-e0a7-49f1-8cc8-745d6cf2a5f2",
   "metadata": {},
   "outputs": [],
   "source": [
    "## Useful for clarity and avoiding confusion in function calls."
   ]
  },
  {
   "cell_type": "code",
   "execution_count": 8,
   "id": "b6b044af-6506-4daf-9a4a-dcd374be9754",
   "metadata": {},
   "outputs": [
    {
     "name": "stdout",
     "output_type": "stream",
     "text": [
      "name: Alice\n",
      "age: 25\n",
      "city: NYC\n"
     ]
    }
   ],
   "source": [
    "def greet(**kwargs):\n",
    "    for key, value in kwargs.items():\n",
    "        print(f\"{key}: {value}\")\n",
    "\n",
    "greet(name=\"Alice\", age=25, city=\"NYC\")\n"
   ]
  },
  {
   "cell_type": "code",
   "execution_count": 11,
   "id": "72550fb7-2aaa-419c-b7c4-256c3fbdbddb",
   "metadata": {},
   "outputs": [
    {
     "name": "stdout",
     "output_type": "stream",
     "text": [
      "{'x': 10}\n",
      "{}\n",
      "{'x': 10, 'y': 20}\n"
     ]
    }
   ],
   "source": [
    "def func(**x):\n",
    "    print(x)\n",
    "func(x = 10)\n",
    "func()\n",
    "func(x = 10 , y = 20)"
   ]
  },
  {
   "cell_type": "code",
   "execution_count": 15,
   "id": "8db1cd12-0982-4519-8a6e-7218064cf221",
   "metadata": {},
   "outputs": [],
   "source": [
    "###  we assign the function name into another name and calling its address "
   ]
  },
  {
   "cell_type": "code",
   "execution_count": 14,
   "id": "79766881-8978-40e9-8347-0430b74ecd62",
   "metadata": {},
   "outputs": [
    {
     "name": "stdout",
     "output_type": "stream",
     "text": [
      "<function func at 0x0000026D361AC540> <function func at 0x0000026D361AC540>\n",
      "hello \n",
      "hello \n"
     ]
    }
   ],
   "source": [
    "def func():\n",
    "    print(\"hello \")\n",
    "out = func\n",
    "print(func,out)\n",
    "func()\n",
    "out()"
   ]
  },
  {
   "cell_type": "code",
   "execution_count": 2,
   "id": "abf5f971-15cd-429b-832d-60456b76d622",
   "metadata": {},
   "outputs": [],
   "source": [
    "## memory reference passes when we pass a value or variable in function "
   ]
  },
  {
   "cell_type": "code",
   "execution_count": 18,
   "id": "18e21c91-758a-4e7a-bc20-416ae549163b",
   "metadata": {},
   "outputs": [
    {
     "name": "stdout",
     "output_type": "stream",
     "text": [
      "a 140712185637912\n",
      "hello 20 140712185637912\n"
     ]
    }
   ],
   "source": [
    "def func(x):\n",
    "    print(\"hello\",x,id(x))\n",
    "a = 20 \n",
    "print(\"a\",id(a))\n",
    "func(a)"
   ]
  },
  {
   "cell_type": "code",
   "execution_count": null,
   "id": "8747b34f-df2a-4f98-8fe0-f410dedcce98",
   "metadata": {},
   "outputs": [],
   "source": [
    "## eg -> call by reference "
   ]
  },
  {
   "cell_type": "code",
   "execution_count": 22,
   "id": "f0654650-7d5c-40d6-9c74-f2c36cfdd663",
   "metadata": {},
   "outputs": [
    {
     "name": "stdout",
     "output_type": "stream",
     "text": [
      "hello 50 140712185638872\n",
      "a 140712185637912\n",
      "hello 20 140712185637912\n",
      "20\n"
     ]
    }
   ],
   "source": [
    "def func(x): #local variable \n",
    "    print(\"hello\",x,id(x))\n",
    "x = 50\n",
    "print(\"hello\",x,id(x))\n",
    "a = 20\n",
    "print(\"a\",id(a))\n",
    "func(a)\n",
    "print(a) \n",
    "## after that  \"a\"  is a global variable that's why it's value can't be change and it passes integer and it is immutable "
   ]
  },
  {
   "cell_type": "code",
   "execution_count": 30,
   "id": "530930c1-62a5-4dbf-b2c7-4add70becd9b",
   "metadata": {},
   "outputs": [
    {
     "name": "stdout",
     "output_type": "stream",
     "text": [
      "before function 140712185637912\n",
      "hello user1  20 140712185637912\n",
      "inside function 50 140712185638872\n",
      "after function a => 140712185637912\n",
      "20\n"
     ]
    }
   ],
   "source": [
    "def func(x):\n",
    "    print(\"hello user1 \",x,id(x))\n",
    "    x = 50\n",
    "    print(\"inside function\",x,id(x))\n",
    "\n",
    "\n",
    "a = 20\n",
    "print(\"before function\",id(a))\n",
    "func(a)\n",
    "print(\"after function a =>\",id(a))\n",
    "print(a)"
   ]
  },
  {
   "cell_type": "code",
   "execution_count": 34,
   "id": "307b4496-059d-4f82-8844-b97f8520064b",
   "metadata": {},
   "outputs": [
    {
     "name": "stdout",
     "output_type": "stream",
     "text": [
      "before function [10, 20] 2668064589568\n",
      "hello user1  [10, 20] 2668064589568\n",
      "inside function [10, 20, 30] 2668064589568\n",
      "after function a => [10, 20, 30] 2668064589568\n"
     ]
    }
   ],
   "source": [
    "def func(y):\n",
    "    print(\"hello user1 \",y,id(y))\n",
    "    y.append(30)\n",
    "    print(\"inside function\",y,id(y))\n",
    "\n",
    "\n",
    "x = [10,20]\n",
    "print(\"before function\",x,id(x))\n",
    "func(x)\n",
    "print(\"after function a =>\",x,id(x))\n",
    "## it is mutuable datatype in a local variable that'swhy it does'nt change any effect in globally ."
   ]
  },
  {
   "cell_type": "markdown",
   "id": "0ffcfda4-d264-4946-adfc-c8c8b6be5f51",
   "metadata": {},
   "source": [
    "#### return keyword "
   ]
  },
  {
   "cell_type": "code",
   "execution_count": 35,
   "id": "9d4af09f-4920-4616-9747-31079392603e",
   "metadata": {},
   "outputs": [],
   "source": [
    "# to take the exit from the function\n",
    "# return will revert back with the value => function call "
   ]
  },
  {
   "cell_type": "code",
   "execution_count": 37,
   "id": "d10cc941-1e28-42bd-a331-a334bc29a590",
   "metadata": {},
   "outputs": [
    {
     "name": "stdout",
     "output_type": "stream",
     "text": [
      "25\n",
      "out value  200\n"
     ]
    }
   ],
   "source": [
    "def func(c,d):\n",
    "    print(c+d)\n",
    "    return 200\n",
    "\n",
    "out = func(10,15) #out = 200\n",
    "print(\"out value \",out)\n"
   ]
  },
  {
   "cell_type": "code",
   "execution_count": 38,
   "id": "48d3f191-5711-4588-b4b6-aee56a5cd5fe",
   "metadata": {},
   "outputs": [
    {
     "name": "stdout",
     "output_type": "stream",
     "text": [
      "150\n"
     ]
    }
   ],
   "source": [
    "def shadi(lifafa):\n",
    "    return lifafa+100\n",
    "    print(\"saree\")\n",
    "\n",
    "x = shadi(50)\n",
    "print(x)"
   ]
  },
  {
   "cell_type": "code",
   "execution_count": 3,
   "id": "acd7a77e-2cf2-4e62-835e-d94b97b7e5e6",
   "metadata": {},
   "outputs": [
    {
     "name": "stdout",
     "output_type": "stream",
     "text": [
      "abc\n"
     ]
    }
   ],
   "source": [
    "def shadi(lifafa):\n",
    "    return \"abc\" # it always gives the 1st return . \n",
    "    return lifafa+100\n",
    "    print(\"saree\")\n",
    "\n",
    "x = shadi(50)\n",
    "print(x)"
   ]
  },
  {
   "cell_type": "code",
   "execution_count": 43,
   "id": "9b46f6af-1bb1-4bed-a44a-d716fb2df37a",
   "metadata": {},
   "outputs": [
    {
     "name": "stdout",
     "output_type": "stream",
     "text": [
      "30\n"
     ]
    }
   ],
   "source": [
    "def add1(x,y):\n",
    "    return x+y\n",
    "\n",
    "a = add1(10,20)\n",
    "print(a)"
   ]
  },
  {
   "cell_type": "code",
   "execution_count": null,
   "id": "13e7c11a-d558-4cb0-a5a4-2cd2569ce387",
   "metadata": {},
   "outputs": [],
   "source": []
  }
 ],
 "metadata": {
  "kernelspec": {
   "display_name": "Python 3 (ipykernel)",
   "language": "python",
   "name": "python3"
  },
  "language_info": {
   "codemirror_mode": {
    "name": "ipython",
    "version": 3
   },
   "file_extension": ".py",
   "mimetype": "text/x-python",
   "name": "python",
   "nbconvert_exporter": "python",
   "pygments_lexer": "ipython3",
   "version": "3.12.7"
  }
 },
 "nbformat": 4,
 "nbformat_minor": 5
}
