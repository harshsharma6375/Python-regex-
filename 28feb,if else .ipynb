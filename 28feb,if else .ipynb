{
 "cells": [
  {
   "cell_type": "code",
   "execution_count": null,
   "id": "3a02aa30-dd8b-4487-8ba5-55f35dca82e3",
   "metadata": {},
   "outputs": [],
   "source": [
    "#ge >= 18 and voter_car\n",
    "age = 18\n",
    "card = False \n",
    "if (age>= 18):\n",
    "    if (card == True):\n",
    "        print(\"i can vote \")\n",
    "    else:\n",
    "        print(\"eligibile for voting\")\n",
    "else :\n",
    "    print(\""
   ]
  },
  {
   "cell_type": "code",
   "execution_count": null,
   "id": "4822006b-61c8-46a9-877f-5973c51db615",
   "metadata": {},
   "outputs": [],
   "source": []
  },
  {
   "cell_type": "code",
   "execution_count": 5,
   "id": "4f69dca6-6297-4149-91bd-f9af1d255002",
   "metadata": {},
   "outputs": [
    {
     "name": "stdout",
     "output_type": "stream",
     "text": [
      "x is greater \n",
      "both are correct\n"
     ]
    }
   ],
   "source": [
    "x= 3\n",
    "y=2\n",
    "z=1\n",
    "if (x>y and x>z ):\n",
    "    print(\"x is greater \")\n",
    "    if (y>z):\n",
    "        print(\"both are correct\")\n",
    "else:\n",
    "    print(\"all conditon unsatisfied\")\n",
    "\n",
    "        "
   ]
  },
  {
   "cell_type": "markdown",
   "id": "664e531c-e4d4-4698-b7ab-401dfa073b55",
   "metadata": {},
   "source": [
    "### string indexing and slicing "
   ]
  },
  {
   "cell_type": "code",
   "execution_count": 3,
   "id": "119e35e7-358a-4739-9c97-55958662087a",
   "metadata": {},
   "outputs": [
    {
     "data": {
      "text/plain": [
       "'r'"
      ]
     },
     "execution_count": 3,
     "metadata": {},
     "output_type": "execute_result"
    }
   ],
   "source": [
    "name = \"harsh\"\n",
    "name [2]"
   ]
  },
  {
   "cell_type": "markdown",
   "id": "9bf08e82-3bde-4aea-a81f-07a16ce36b13",
   "metadata": {},
   "source": [
    "### slicing operator => technique [position]\n",
    "###### slicing => [start : stopping : [step = 1]]"
   ]
  },
  {
   "cell_type": "code",
   "execution_count": 4,
   "id": "328fd87e-c1d9-4e51-af85-17903573c35b",
   "metadata": {},
   "outputs": [
    {
     "data": {
      "text/plain": [
       "'regex'"
      ]
     },
     "execution_count": 4,
     "metadata": {},
     "output_type": "execute_result"
    }
   ],
   "source": [
    "company = \"regexsoftware\"\n",
    "company [0:5]\n",
    "## it gives one data less then that you have wriiti=en in slicing "
   ]
  },
  {
   "cell_type": "code",
   "execution_count": 5,
   "id": "a80b8231-1371-4ced-96a1-55d292ed026d",
   "metadata": {},
   "outputs": [
    {
     "data": {
      "text/plain": [
       "'gex'"
      ]
     },
     "execution_count": 5,
     "metadata": {},
     "output_type": "execute_result"
    }
   ],
   "source": [
    "company = \"regexsoftware\"\n",
    "company [2:5]\n",
    " "
   ]
  },
  {
   "cell_type": "code",
   "execution_count": 6,
   "id": "1c0d451a-f945-4862-978a-96f7f3b57bf2",
   "metadata": {},
   "outputs": [
    {
     "data": {
      "text/plain": [
       "'regex'"
      ]
     },
     "execution_count": 6,
     "metadata": {},
     "output_type": "execute_result"
    }
   ],
   "source": [
    "\n",
    "company [:5] #ending \n",
    " "
   ]
  },
  {
   "cell_type": "code",
   "execution_count": 7,
   "id": "e296fdb8-92e6-4323-97f1-117aeb22942b",
   "metadata": {},
   "outputs": [
    {
     "data": {
      "text/plain": [
       "'regexsoftware'"
      ]
     },
     "execution_count": 7,
     "metadata": {},
     "output_type": "execute_result"
    }
   ],
   "source": [
    "\n",
    "company [0:]"
   ]
  },
  {
   "cell_type": "code",
   "execution_count": 8,
   "id": "15e6fadd-dac4-4cd8-9871-303a24c7abeb",
   "metadata": {},
   "outputs": [
    {
     "data": {
      "text/plain": [
       "'regexsoftwar'"
      ]
     },
     "execution_count": 8,
     "metadata": {},
     "output_type": "execute_result"
    }
   ],
   "source": [
    "\n",
    "company [:-1]"
   ]
  },
  {
   "cell_type": "code",
   "execution_count": 9,
   "id": "dc1e88dd-cfdd-470e-a7a0-eb5a5475270d",
   "metadata": {},
   "outputs": [
    {
     "data": {
      "text/plain": [
       "'rgx'"
      ]
     },
     "execution_count": 9,
     "metadata": {},
     "output_type": "execute_result"
    }
   ],
   "source": [
    "company = \"regexsoftware\"\n",
    "company [0:5:2]\n"
   ]
  },
  {
   "cell_type": "code",
   "execution_count": 10,
   "id": "aa407306-a3d8-4683-961f-e790b0e6de19",
   "metadata": {},
   "outputs": [
    {
     "data": {
      "text/plain": [
       "'xeg'"
      ]
     },
     "execution_count": 10,
     "metadata": {},
     "output_type": "execute_result"
    }
   ],
   "source": [
    "company = \"regexsoftware\"\n",
    "company [4:1:-1]"
   ]
  },
  {
   "cell_type": "code",
   "execution_count": 11,
   "id": "d5b8c1de-f021-4642-9f71-a64f53088ea2",
   "metadata": {},
   "outputs": [
    {
     "data": {
      "text/plain": [
       "'era'"
      ]
     },
     "execution_count": 11,
     "metadata": {},
     "output_type": "execute_result"
    }
   ],
   "source": [
    "company [-1:-4:-1]"
   ]
  },
  {
   "cell_type": "code",
   "execution_count": 12,
   "id": "3bf49155-d568-4e87-8c12-0fa21a20dff2",
   "metadata": {},
   "outputs": [
    {
     "data": {
      "text/plain": [
       "'war'"
      ]
     },
     "execution_count": 12,
     "metadata": {},
     "output_type": "execute_result"
    }
   ],
   "source": [
    "company [-4:-1]"
   ]
  },
  {
   "cell_type": "code",
   "execution_count": 13,
   "id": "5a7a902d-adeb-4a5a-aea1-5fcc5710ab4a",
   "metadata": {},
   "outputs": [
    {
     "data": {
      "text/plain": [
       "'erawtfosxeger'"
      ]
     },
     "execution_count": 13,
     "metadata": {},
     "output_type": "execute_result"
    }
   ],
   "source": [
    "company = \"regexsoftware\"\n",
    "company [::-1]"
   ]
  },
  {
   "cell_type": "code",
   "execution_count": null,
   "id": "4cb5d537-e8af-4d33-a57b-bac7ffb0c189",
   "metadata": {},
   "outputs": [],
   "source": []
  },
  {
   "cell_type": "markdown",
   "id": "d6005124-942e-4f79-83f2-9133b9bfb48a",
   "metadata": {},
   "source": [
    "## bitwise operator \n",
    "###### works on 0 and 1 .\n",
    "###### it works on octat (8421)\n"
   ]
  },
  {
   "cell_type": "markdown",
   "id": "d5d9ee34-d4a4-4357-b9d5-9d111df80ed0",
   "metadata": {},
   "source": [
    "#### and operator \n",
    "###### in this it works on 0 and  1 in such a way that if we have 0 and it gives us 0 . in and condition "
   ]
  },
  {
   "cell_type": "code",
   "execution_count": 15,
   "id": "6e958093-0af8-4e08-bbf0-11c364871df4",
   "metadata": {},
   "outputs": [
    {
     "data": {
      "text/plain": [
       "12"
      ]
     },
     "execution_count": 15,
     "metadata": {},
     "output_type": "execute_result"
    }
   ],
   "source": [
    "12 & 15"
   ]
  },
  {
   "cell_type": "code",
   "execution_count": null,
   "id": "9a1aaa62-2e60-47e2-9f8c-3c52a2de9f62",
   "metadata": {},
   "outputs": [],
   "source": [
    "####or operator \n",
    "###### in this it works on 0 and 1 in such a way that if we have  0 and 1 it gives us 1 . "
   ]
  },
  {
   "cell_type": "code",
   "execution_count": null,
   "id": "698648d9-ec43-4775-abe1-25016be7d58d",
   "metadata": {},
   "outputs": [],
   "source": []
  },
  {
   "cell_type": "markdown",
   "id": "d2fad8ec-c627-4d31-a2f3-aab0f1dd5010",
   "metadata": {},
   "source": [
    "bitwise shift operator \n",
    "number * 2**bit [left shift]\n",
    "number // 2**bit [right shift]\n",
    "20//2**3\n",
    "20//8\n",
    "20>>3\n"
   ]
  },
  {
   "cell_type": "code",
   "execution_count": 19,
   "id": "90d70745-e276-4037-8311-6b5b2eafca64",
   "metadata": {},
   "outputs": [
    {
     "data": {
      "text/plain": [
       "5"
      ]
     },
     "execution_count": 19,
     "metadata": {},
     "output_type": "execute_result"
    }
   ],
   "source": [
    "10>>1"
   ]
  },
  {
   "cell_type": "code",
   "execution_count": 20,
   "id": "014a475d-59d4-49e0-83fa-1c1e0b51bb74",
   "metadata": {},
   "outputs": [
    {
     "data": {
      "text/plain": [
       "2"
      ]
     },
     "execution_count": 20,
     "metadata": {},
     "output_type": "execute_result"
    }
   ],
   "source": [
    "20>>3"
   ]
  },
  {
   "cell_type": "code",
   "execution_count": 21,
   "id": "6af87199-f603-4dd5-9611-82236c7037a7",
   "metadata": {},
   "outputs": [
    {
     "data": {
      "text/plain": [
       "160"
      ]
     },
     "execution_count": 21,
     "metadata": {},
     "output_type": "execute_result"
    }
   ],
   "source": [
    "20<<3"
   ]
  },
  {
   "cell_type": "code",
   "execution_count": null,
   "id": "8b4d5d01-488f-442d-9936-70bbfcefaaa1",
   "metadata": {},
   "outputs": [],
   "source": []
  }
 ],
 "metadata": {
  "kernelspec": {
   "display_name": "Python 3 (ipykernel)",
   "language": "python",
   "name": "python3"
  },
  "language_info": {
   "codemirror_mode": {
    "name": "ipython",
    "version": 3
   },
   "file_extension": ".py",
   "mimetype": "text/x-python",
   "name": "python",
   "nbconvert_exporter": "python",
   "pygments_lexer": "ipython3",
   "version": "3.12.7"
  }
 },
 "nbformat": 4,
 "nbformat_minor": 5
}
