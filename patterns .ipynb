{
 "cells": [
  {
   "cell_type": "code",
   "execution_count": 1,
   "id": "5230e526-3cc7-4e25-ae3c-5c2452ca27e7",
   "metadata": {},
   "outputs": [
    {
     "name": "stdout",
     "output_type": "stream",
     "text": [
      "   A\n",
      "  AB\n",
      " ABC\n",
      "ABCD\n"
     ]
    }
   ],
   "source": [
    "for i in range(1,5):\n",
    "    x = 65\n",
    "    for j in range(i,4):\n",
    "        \n",
    "        print(\" \",end = '')\n",
    "    for k in range(1,i+1):\n",
    "        \n",
    "        print(chr(x),end = '')\n",
    "        x+=1\n",
    "    print()\n",
    "        "
   ]
  },
  {
   "cell_type": "code",
   "execution_count": null,
   "id": "28693156-de2b-4e40-bddc-3fe895e8e5d2",
   "metadata": {},
   "outputs": [],
   "source": []
  },
  {
   "cell_type": "code",
   "execution_count": 6,
   "id": "4f59c14a-6011-45b9-8dcb-15081f9c1862",
   "metadata": {},
   "outputs": [
    {
     "name": "stdout",
     "output_type": "stream",
     "text": [
      "5432\n",
      "432\n",
      "32\n",
      "2\n"
     ]
    }
   ],
   "source": [
    "for i in range(5,1,-1):\n",
    "    for j in range(i):\n",
    "        print(j,end = '')\n",
    "   \n",
    "    print()\n",
    "        "
   ]
  },
  {
   "cell_type": "code",
   "execution_count": 139,
   "id": "c2a5a518-a677-456f-b6ee-0b800e43767c",
   "metadata": {},
   "outputs": [
    {
     "name": "stdout",
     "output_type": "stream",
     "text": [
      "A \n",
      "A B \n",
      "A B C \n",
      "A B C D \n"
     ]
    }
   ],
   "source": [
    "for i in range(1,5):\n",
    "    x = 65\n",
    "    for j in range (1,i+1):\n",
    "        print(chr(x),end = \" \")\n",
    "        x += 1\n",
    "\n",
    "    print()"
   ]
  },
  {
   "cell_type": "code",
   "execution_count": 3,
   "id": "fcb6d9cb-d2f0-4d80-b0b0-bd038e585c5f",
   "metadata": {},
   "outputs": [
    {
     "name": "stdout",
     "output_type": "stream",
     "text": [
      "        A \n",
      "      B A \n",
      "    C B A \n",
      "  D C B A \n"
     ]
    }
   ],
   "source": [
    "for i in range(4):\n",
    "    for j in range(4,i,-1):\n",
    "        print(\" \",end = \" \")\n",
    "    for k in range(i,-1,-1):\n",
    "        print(chr(65+k),end = \" \")\n",
    "    print()"
   ]
  },
  {
   "cell_type": "code",
   "execution_count": 52,
   "id": "88c2c41e-9ece-4430-9640-6e5e3edae63f",
   "metadata": {},
   "outputs": [
    {
     "name": "stdout",
     "output_type": "stream",
     "text": [
      "\n",
      "F \n",
      "H J \n",
      "L N P \n",
      "R T V X \n"
     ]
    }
   ],
   "source": [
    "x = 70\n",
    "for i in range(6,1,-1):\n",
    "    for j in range (i,6):\n",
    "        print(chr(x),end = ' ')\n",
    "        x += 2\n",
    "\n",
    "    print()\n",
    "        "
   ]
  },
  {
   "cell_type": "code",
   "execution_count": 61,
   "id": "d96ebd94-9ef3-47f6-85a7-d483972b2dda",
   "metadata": {},
   "outputs": [
    {
     "name": "stdout",
     "output_type": "stream",
     "text": [
      "1 \n",
      "1 2 \n",
      "1 2 1 \n",
      "1 2 1 2 \n"
     ]
    }
   ],
   "source": [
    "for i in range(1,5):\n",
    "    for j in range(1,i+1):\n",
    "        if (j%2 == 0):\n",
    "            print(\"2\",end = ' ')\n",
    "        else :\n",
    "            print(\"1\",end =  ' ')\n",
    "\n",
    "    print()\n",
    "        "
   ]
  },
  {
   "cell_type": "code",
   "execution_count": 62,
   "id": "d49dd99c-dbeb-4529-b3c5-deb9ad3f0c64",
   "metadata": {},
   "outputs": [
    {
     "name": "stdout",
     "output_type": "stream",
     "text": [
      "\n",
      "10 \n",
      "10 11 \n",
      "10 11 12 \n",
      "10 11 12 13 \n"
     ]
    }
   ],
   "source": [
    "for i in range (6,1,-1):\n",
    "    x = 10\n",
    "    for j in range (i,6):\n",
    "        print(x,end = ' ')\n",
    "        x += 1\n",
    "\n",
    "    print ()"
   ]
  },
  {
   "cell_type": "code",
   "execution_count": 6,
   "id": "457e44a5-9427-493b-aacc-28f0dc57370d",
   "metadata": {},
   "outputs": [
    {
     "name": "stdout",
     "output_type": "stream",
     "text": [
      "* \n",
      "* * \n",
      "* * * \n",
      "* * * * \n"
     ]
    }
   ],
   "source": [
    "for i in range(1,5):\n",
    "    for j in range (1,i+1):\n",
    "        print(\"*\",end = \" \")\n",
    "        i+=1\n",
    "    print()"
   ]
  },
  {
   "cell_type": "code",
   "execution_count": 12,
   "id": "22b9a8d4-b930-4c74-82ff-f50b19531ca8",
   "metadata": {},
   "outputs": [
    {
     "name": "stdout",
     "output_type": "stream",
     "text": [
      "* * * * \n",
      "* * * \n",
      "* * \n",
      "* \n"
     ]
    }
   ],
   "source": [
    "for i in range(5,1,-1):\n",
    "    for j in range (1,i):\n",
    "        print(\"*\",end = ' ')\n",
    "        i+=1\n",
    "\n",
    "    print()"
   ]
  },
  {
   "cell_type": "code",
   "execution_count": 20,
   "id": "393442fd-5c33-4f4c-8a91-3e6de2477499",
   "metadata": {},
   "outputs": [
    {
     "name": "stdout",
     "output_type": "stream",
     "text": [
      "- - - * \n",
      "- - * * \n",
      "- * * * \n",
      "* * * * \n"
     ]
    }
   ],
   "source": [
    "for i in range(1,5):\n",
    "    for j in range (i,4):\n",
    "        print(\"-\",end = \" \")\n",
    "        \n",
    "    for k in range (1,i+1):\n",
    "        print(\"*\",end = \" \")\n",
    "    print()"
   ]
  },
  {
   "cell_type": "code",
   "execution_count": 29,
   "id": "6d5ec741-f619-4e5e-bb57-b15684632cb7",
   "metadata": {},
   "outputs": [
    {
     "name": "stdout",
     "output_type": "stream",
     "text": [
      "* * * * \n",
      "- * * * \n",
      "- - * * \n",
      "- - - * \n"
     ]
    }
   ],
   "source": [
    "for i in range (1,5):\n",
    "    for j in range (1,i):\n",
    "        print(\"-\",end= \" \")\n",
    "\n",
    "    for k in range (i,5):\n",
    "        print(\"*\",end = \" \")\n",
    "    \n",
    "\n",
    "    print()"
   ]
  },
  {
   "cell_type": "code",
   "execution_count": 30,
   "id": "2e14583d-614b-4cac-90aa-e42c78f5b926",
   "metadata": {},
   "outputs": [
    {
     "name": "stdout",
     "output_type": "stream",
     "text": [
      "1 \n",
      "2 2 \n",
      "3 3 3 \n",
      "4 4 4 4 \n"
     ]
    }
   ],
   "source": [
    "for i in range (1,5):\n",
    "    for j in range (1,i+1):\n",
    "        print(i,end = ' ')\n",
    "    \n",
    "    print()"
   ]
  },
  {
   "cell_type": "code",
   "execution_count": 31,
   "id": "138a513b-7958-466d-8ade-0ab37f85e79f",
   "metadata": {},
   "outputs": [
    {
     "name": "stdout",
     "output_type": "stream",
     "text": [
      "1 \n",
      "1 2 \n",
      "1 2 3 \n",
      "1 2 3 4 \n"
     ]
    }
   ],
   "source": [
    "for  i in range (1,5):\n",
    "    for j in range (1,i+1):\n",
    "        print(j,end= \" \")\n",
    "\n",
    "    print()"
   ]
  },
  {
   "cell_type": "code",
   "execution_count": 32,
   "id": "216a85fd-f77f-4d97-bacc-ee55e27e80ef",
   "metadata": {},
   "outputs": [
    {
     "name": "stdout",
     "output_type": "stream",
     "text": [
      "1 \n",
      "2 3 \n",
      "4 5 6 \n",
      "7 8 9 10 \n"
     ]
    }
   ],
   "source": [
    "num = 1\n",
    "for  i in range (1,5):\n",
    "    for j in range (1,i+1):\n",
    "        print(num,end= \" \")\n",
    "        num+=1\n",
    "\n",
    "    print()"
   ]
  },
  {
   "cell_type": "code",
   "execution_count": 33,
   "id": "425dde32-9121-4aba-83a0-7991e5afeda3",
   "metadata": {},
   "outputs": [
    {
     "name": "stdout",
     "output_type": "stream",
     "text": [
      "10 \n",
      "9 8 \n",
      "7 6 5 \n",
      "4 3 2 1 \n"
     ]
    }
   ],
   "source": [
    "num = 10\n",
    "for  i in range (1,5):\n",
    "    for j in range (1,i+1):\n",
    "        print(num,end= \" \")\n",
    "        num-=1\n",
    "\n",
    "    print()"
   ]
  },
  {
   "cell_type": "code",
   "execution_count": 47,
   "id": "64d2e438-68be-47b4-a160-3d3973f9acb1",
   "metadata": {},
   "outputs": [
    {
     "name": "stdout",
     "output_type": "stream",
     "text": [
      "A \n",
      "A B \n",
      "A B C \n",
      "A B C D \n"
     ]
    }
   ],
   "source": [
    "\n",
    "for  i in range (1,5):\n",
    "    x= 65\n",
    "    for j in range (1,i+1):\n",
    "        print(chr(x),end= \" \")\n",
    "        \n",
    "        x+=1\n",
    "\n",
    "    print()"
   ]
  },
  {
   "cell_type": "code",
   "execution_count": 48,
   "id": "1b68ff02-66c8-4c5d-b159-090e51504aad",
   "metadata": {},
   "outputs": [
    {
     "name": "stdout",
     "output_type": "stream",
     "text": [
      "A B C D \n",
      "A B C \n",
      "A B \n",
      "A \n"
     ]
    }
   ],
   "source": [
    "\n",
    "for  i in range (1,5):\n",
    "    x= 65\n",
    "    for j in range (5,i,-1):\n",
    "        print(chr(x),end= \" \")\n",
    "        \n",
    "        x+=1\n",
    "\n",
    "    print()"
   ]
  },
  {
   "cell_type": "code",
   "execution_count": 58,
   "id": "86c924cd-5dbe-401e-988d-3a91460d0d59",
   "metadata": {},
   "outputs": [
    {
     "name": "stdout",
     "output_type": "stream",
     "text": [
      "1 2 3 4 5 \n",
      "1 2 3 4 \n",
      "1 2 3 \n",
      "1 2 \n",
      "1 \n"
     ]
    }
   ],
   "source": [
    "for i in range(6,1,-1):\n",
    "    for j in range(1,i):\n",
    "        print(j,end = \" \")\n",
    "        i+=1\n",
    "    print()"
   ]
  },
  {
   "cell_type": "code",
   "execution_count": 59,
   "id": "e8a2e2d3-d6a0-462c-9009-9395730faa4a",
   "metadata": {},
   "outputs": [
    {
     "name": "stdout",
     "output_type": "stream",
     "text": [
      "A B C D E \n",
      "A B C D \n",
      "A B C \n",
      "A B \n",
      "A \n"
     ]
    }
   ],
   "source": [
    "for i in range(6,1,-1):\n",
    "    x = 65\n",
    "    for j in range(1,i):\n",
    "        print(chr (x),end = \" \")\n",
    "        x+=1\n",
    "    print()"
   ]
  },
  {
   "cell_type": "code",
   "execution_count": 61,
   "id": "dac5261c-1788-48d4-a9ef-350330aae8af",
   "metadata": {},
   "outputs": [
    {
     "name": "stdout",
     "output_type": "stream",
     "text": [
      "E D C B A \n",
      "E D C B \n",
      "E D C \n",
      "E D \n",
      "E \n"
     ]
    }
   ],
   "source": [
    "for i in range(6,1,-1):\n",
    "    x = 69\n",
    "    for j in range(1,i):\n",
    "        print(chr (x),end = \" \")\n",
    "        x-=1\n",
    "    print()"
   ]
  },
  {
   "cell_type": "code",
   "execution_count": 71,
   "id": "03e1fede-f787-4022-9a34-317fae8ce2f5",
   "metadata": {},
   "outputs": [
    {
     "name": "stdout",
     "output_type": "stream",
     "text": [
      "5 4 3 2 1 \n",
      "5 4 3 2 \n",
      "5 4 3 \n",
      "5 4 \n",
      "5 \n",
      "\n"
     ]
    }
   ],
   "source": [
    "for i in range(0,6):\n",
    "    for j in range(5,i,-1):\n",
    "        print(j,end = \" \")\n",
    "        i-=1\n",
    "    print()"
   ]
  },
  {
   "cell_type": "code",
   "execution_count": 77,
   "id": "3a7982ed-9f6a-4c6e-b66c-5a1a18c39c03",
   "metadata": {},
   "outputs": [
    {
     "name": "stdout",
     "output_type": "stream",
     "text": [
      "1 \n",
      "1 2 \n",
      "1 2 1 \n",
      "1 2 1 2 \n",
      "1 2 1 2 1 \n"
     ]
    }
   ],
   "source": [
    "for i in range(1,6):\n",
    "    for j in range (1,i+1):\n",
    "        if j%2==0:\n",
    "            print(\"2\",end= \" \")\n",
    "        else :\n",
    "            print(\"1\",end = \" \")\n",
    "        \n",
    "\n",
    "    print()"
   ]
  },
  {
   "cell_type": "code",
   "execution_count": 78,
   "id": "dd1ff9b8-91c9-43fa-93db-95be4961cc09",
   "metadata": {},
   "outputs": [
    {
     "name": "stdout",
     "output_type": "stream",
     "text": [
      "1 \n",
      "2 2 \n",
      "1 1 1 \n",
      "2 2 2 2 \n",
      "1 1 1 1 1 \n"
     ]
    }
   ],
   "source": [
    "for i in range(1,6):\n",
    "    for j in range (1,i+1):\n",
    "        if i%2==0:\n",
    "            print(\"2\",end= \" \")\n",
    "        else :\n",
    "            print(\"1\",end = \" \")\n",
    "        \n",
    "\n",
    "    print()"
   ]
  },
  {
   "cell_type": "code",
   "execution_count": 79,
   "id": "b3a104f2-c40f-4321-b3b5-199fa85d1d84",
   "metadata": {},
   "outputs": [
    {
     "name": "stdout",
     "output_type": "stream",
     "text": [
      "F \n",
      "H J \n",
      "L N P \n",
      "R T V X \n"
     ]
    }
   ],
   "source": [
    "x = 70\n",
    "for i in range(1,5):\n",
    "    for j in range(1,i+1):\n",
    "        print(chr(x),end = \" \")\n",
    "        x+=2\n",
    "\n",
    "    print()"
   ]
  },
  {
   "cell_type": "code",
   "execution_count": 135,
   "id": "ab984863-2b26-47b9-a58b-b15b3a99e1a2",
   "metadata": {},
   "outputs": [
    {
     "name": "stdout",
     "output_type": "stream",
     "text": [
      "----* \n",
      "---* * \n",
      "--* * * \n",
      "-* * * * \n"
     ]
    }
   ],
   "source": [
    "num = 5\n",
    "for i in range (1,5):\n",
    "    for j in range(i,num):\n",
    "        print(\"-\",end= '')\n",
    "\n",
    "    for k in range (1,i+1):\n",
    "        print(\"*\",end = \" \")\n",
    "        \n",
    "    print()"
   ]
  },
  {
   "cell_type": "code",
   "execution_count": 137,
   "id": "957d579e-83bf-42ed-9532-444d60677780",
   "metadata": {},
   "outputs": [
    {
     "name": "stdout",
     "output_type": "stream",
     "text": [
      "* * * * * \n",
      "-* * * * \n",
      "--* * * \n",
      "---* * \n",
      "----* \n"
     ]
    }
   ],
   "source": [
    "num = 5\n",
    "for i in range (5,0,-1):\n",
    "    for j in range(i,num):\n",
    "        print(\"-\",end= '')\n",
    "\n",
    "    for k in range (1,i+1):\n",
    "        print(\"*\",end = \" \")\n",
    "        \n",
    "    print()"
   ]
  },
  {
   "cell_type": "code",
   "execution_count": 5,
   "id": "31859227-62fb-4d77-82e3-4f3dc666a549",
   "metadata": {},
   "outputs": [
    {
     "name": "stdout",
     "output_type": "stream",
     "text": [
      "- - - - * \n",
      "- - - * * * \n",
      "- - * * * * * \n",
      "- * * * * * * * \n",
      "* * * * * * * * * \n"
     ]
    }
   ],
   "source": [
    "num = 5\n",
    "for i in range (1,num+1):\n",
    "    for j in range(i,num):\n",
    "        print(\"-\",end= ' ')\n",
    "\n",
    "    for k in range (1,2*i):\n",
    "        print(\"*\",end = \" \")\n",
    "\n",
    "        \n",
    "    print()"
   ]
  },
  {
   "cell_type": "code",
   "execution_count": 3,
   "id": "a874c0b5-c861-4e4d-9ca0-fc5448c3d49b",
   "metadata": {},
   "outputs": [
    {
     "name": "stdout",
     "output_type": "stream",
     "text": [
      "* * * * * * * * * \n",
      "- * * * * * * * \n",
      "- - * * * * * \n",
      "- - - * * * \n",
      "- - - - * \n"
     ]
    }
   ],
   "source": [
    "num = 5\n",
    "total = 2*num\n",
    "for i in range (1,num+1):\n",
    "    for j in range(1,i):\n",
    "        print(\"-\",end= ' ')\n",
    "\n",
    "    for k in range (1,total):\n",
    "        print(\"*\",end = \" \")\n",
    "    total-=2\n",
    "        \n",
    "    print()"
   ]
  },
  {
   "cell_type": "code",
   "execution_count": 5,
   "id": "5b7e82fd-81c7-4990-ab91-4833268d46ef",
   "metadata": {},
   "outputs": [
    {
     "name": "stdout",
     "output_type": "stream",
     "text": [
      "- - - - * \n",
      "- - - * * * \n",
      "- - * * * * * \n",
      "- * * * * * * * \n",
      "* * * * * * * * * \n",
      "- * * * * * * * \n",
      "- - * * * * * \n",
      "- - - * * * \n",
      "- - - - * \n"
     ]
    }
   ],
   "source": [
    "num = 5\n",
    "\n",
    "total = 2*num\n",
    "for i in range (1,num):\n",
    "    for j in range(i,num):\n",
    "        print(\"-\",end= ' ')\n",
    "\n",
    "    for k in range (1,2*i):\n",
    "        print(\"*\",end = \" \")\n",
    "  \n",
    "    print()\n",
    "total = 2*num\n",
    "for i in range (1,num+1):\n",
    "    for j in range(1,i):\n",
    "        print(\"-\",end= ' ')\n",
    "\n",
    "    for k in range (1,total):\n",
    "        print(\"*\",end = \" \")\n",
    "    total-=2\n",
    "        \n",
    "    print()"
   ]
  },
  {
   "cell_type": "code",
   "execution_count": 6,
   "id": "4d771cf1-6a77-4256-b3e2-207d1390c70e",
   "metadata": {},
   "outputs": [
    {
     "name": "stdout",
     "output_type": "stream",
     "text": [
      "* * * * * * * * * \n",
      "- * * * * * * * \n",
      "- - * * * * * \n",
      "- - - * * * \n",
      "- - - - * \n",
      "- - - - * \n",
      "- - - * * * \n",
      "- - * * * * * \n",
      "- * * * * * * * \n",
      "* * * * * * * * * \n"
     ]
    }
   ],
   "source": [
    "num = 5\n",
    "\n",
    "total = 2*num\n",
    "for i in range (1,num+1):\n",
    "    for j in range(1,i):\n",
    "        print(\"-\",end= ' ')\n",
    "\n",
    "    for k in range (1,total):\n",
    "        print(\"*\",end = \" \")\n",
    "    total-=2\n",
    "        \n",
    "    print()\n",
    "for i in range (1,num+1):\n",
    "    for j in range(i,num):\n",
    "        print(\"-\",end= ' ')\n",
    "\n",
    "    for k in range (1,2*i):\n",
    "        print(\"*\",end = \" \")\n",
    "   \n",
    "    print()"
   ]
  },
  {
   "cell_type": "code",
   "execution_count": 10,
   "id": "7206cde0-5c7f-4233-8dca-f31185f68ccb",
   "metadata": {},
   "outputs": [
    {
     "name": "stdout",
     "output_type": "stream",
     "text": [
      "* \n",
      "* * \n",
      "*   * \n",
      "* * * * \n"
     ]
    }
   ],
   "source": [
    "for i in range (1,5):\n",
    "    for j in range (1,i+1):\n",
    "        if j==1 or i==j or i==4:\n",
    "            print(\"*\",end = \" \")\n",
    "\n",
    "        else :\n",
    "            print(\" \",end = \" \")\n",
    "    print()"
   ]
  },
  {
   "cell_type": "code",
   "execution_count": 187,
   "id": "947c6a39-1190-48fd-abe7-4e303a731b51",
   "metadata": {},
   "outputs": [
    {
     "name": "stdout",
     "output_type": "stream",
     "text": [
      "* * * * * \n",
      "*     * \n",
      "*   * \n",
      "* * \n",
      "* \n"
     ]
    }
   ],
   "source": [
    "for i in range (5,0,-1):\n",
    "    for j in range (1,i+1):\n",
    "        if i==j or j==1 or i==5:\n",
    "            print(\"*\",end = \" \")\n",
    "\n",
    "        else :\n",
    "            print(\" \",end = \" \")\n",
    "    print()\n",
    "            "
   ]
  },
  {
   "cell_type": "code",
   "execution_count": 190,
   "id": "09188616-cc4b-4937-9b04-581a4f10f9f3",
   "metadata": {},
   "outputs": [
    {
     "name": "stdout",
     "output_type": "stream",
     "text": [
      "* * * * * \n",
      "  *     * \n",
      "    *   * \n",
      "      * * \n",
      "        * \n"
     ]
    }
   ],
   "source": [
    "num = 5\n",
    "for i in range (1,num+1):\n",
    "    for j in range (1,num+1):\n",
    "        if i==1 or j==i or j==5:\n",
    "             print(\"*\",end = \" \")\n",
    "\n",
    "        else :\n",
    "            print(\" \",end = \" \")\n",
    "    print()\n",
    "            \n",
    "            "
   ]
  },
  {
   "cell_type": "code",
   "execution_count": 126,
   "id": "a38f2a07-fc64-415e-b68f-529919c303f1",
   "metadata": {},
   "outputs": [
    {
     "name": "stdout",
     "output_type": "stream",
     "text": [
      "* * * * * \n",
      "* *     * \n",
      "*   *   * \n",
      "*     * * \n",
      "* * * * * \n"
     ]
    }
   ],
   "source": [
    "\n",
    "for i in range (1,6):\n",
    "    for j in range (1,6):\n",
    "        if i==1 or i==j or j==1 or j==5 or i==5:\n",
    "             print(\"*\",end = \" \")\n",
    "\n",
    "        else :\n",
    "            print(\" \",end = \" \")\n",
    "    print()\n",
    "            \n",
    "            "
   ]
  },
  {
   "cell_type": "code",
   "execution_count": 196,
   "id": "a41bb6d5-8d6d-4ee6-ba8d-31ebba39be76",
   "metadata": {},
   "outputs": [
    {
     "name": "stdout",
     "output_type": "stream",
     "text": [
      "* * * * * \n",
      "*       * \n",
      "*       * \n",
      "*       * \n",
      "* * * * * \n"
     ]
    }
   ],
   "source": [
    "for i in range (1,6):\n",
    "    for j in range (1,6):\n",
    "        if i==1 or i==5 or j==1 or j==5:\n",
    "             print(\"*\",end = \" \")\n",
    "\n",
    "        else :\n",
    "            print(\" \",end = \" \")\n",
    "    print()\n",
    "            "
   ]
  },
  {
   "cell_type": "code",
   "execution_count": 13,
   "id": "c9041ca5-cc45-47bb-b27b-d9ea47495f4f",
   "metadata": {},
   "outputs": [
    {
     "name": "stdout",
     "output_type": "stream",
     "text": [
      "* * * * * \n",
      "  *     * \n",
      "    *   * \n",
      "      * * \n",
      "        * \n"
     ]
    }
   ],
   "source": [
    "for i in range (1,6):\n",
    "    for j in range (1,6):\n",
    "        if i==1 or j==i or j==5:\n",
    "             print(\"*\",end = \" \")\n",
    "\n",
    "        else :\n",
    "            print(\" \",end = \" \")\n",
    "    print()\n",
    "            "
   ]
  },
  {
   "cell_type": "code",
   "execution_count": 129,
   "id": "58e5ef35-c7e7-49d7-a60a-123807e6b915",
   "metadata": {},
   "outputs": [
    {
     "name": "stdout",
     "output_type": "stream",
     "text": [
      "        * \n",
      "      * * * \n",
      "    * * * * * \n",
      "  * * * * * * * \n",
      "* * * * * * * * * \n"
     ]
    }
   ],
   "source": [
    "num = 5 \n",
    "for i in range (1,num+1):\n",
    "    for j in range (i,num):\n",
    "        print(\" \",end = \" \")\n",
    "\n",
    "    for k in  range (1,2*i):\n",
    "        print(\"*\",end = ' ')\n",
    "\n",
    "    print()"
   ]
  },
  {
   "cell_type": "code",
   "execution_count": 128,
   "id": "7ad54d57-3e34-4acd-b274-db87f5098e16",
   "metadata": {},
   "outputs": [
    {
     "name": "stdout",
     "output_type": "stream",
     "text": [
      "* * * * * * * * * \n",
      "  * * * * * * * \n",
      "    * * * * * \n",
      "      * * * \n",
      "        * \n"
     ]
    }
   ],
   "source": [
    "num = 5\n",
    "total = num*2\n",
    "for i in range(1,num+1):\n",
    "    for j in range (1,i):\n",
    "        print(\" \",end = \" \")\n",
    "    for k in range (1,total):\n",
    "        print(\"*\",end = \" \")\n",
    "    total-=2\n",
    "    print()\n",
    "    "
   ]
  },
  {
   "cell_type": "code",
   "execution_count": 26,
   "id": "edf91953-c8c6-4c12-bf39-e489d9b6e6ba",
   "metadata": {},
   "outputs": [
    {
     "name": "stdout",
     "output_type": "stream",
     "text": [
      "- - - * \n",
      "- - * * \n",
      "- * * * \n",
      "* * * * \n",
      "- * * * \n",
      "- - * * \n",
      "- - - * \n"
     ]
    }
   ],
   "source": [
    "for i in range (4,1,-1):\n",
    "    for j in range (1,i):\n",
    "        print(\"-\",end = \" \")\n",
    "\n",
    "    for k in range (i,5):\n",
    "        print(\"*\",end = \" \")\n",
    "\n",
    "    print()\n",
    "for i in  range (5,1,-1):\n",
    "    for j in range (i,5):\n",
    "        print(\"-\",end = \" \")\n",
    "    for k in range (1,i):\n",
    "        print(\"*\",end = \" \")\n",
    "    print()\n",
    "        "
   ]
  },
  {
   "cell_type": "code",
   "execution_count": 57,
   "id": "0ff22bac-237d-4eb9-b7ba-2c463e956a7e",
   "metadata": {},
   "outputs": [
    {
     "name": "stdout",
     "output_type": "stream",
     "text": [
      "----* \n",
      "---* * \n",
      "--* * * \n",
      "-* * * * \n",
      "* * * * * \n",
      "-* * * * \n",
      "--* * * \n",
      "---* * \n",
      "----* \n"
     ]
    }
   ],
   "source": [
    "num = 5\n",
    "for i in range (1,num+1):\n",
    "    for j in range (i,num):\n",
    "        print(\"-\",end = \"\")\n",
    "    for k in range (1,i+1):\n",
    "        print(\"*\",end = ' ')\n",
    "\n",
    "    print()\n",
    "for i in range (5,1,-1):\n",
    "    for j in range (6,i,-1):\n",
    "        print(\"-\",end = \"\")\n",
    "    for k in range (1,i):\n",
    "        print(\"*\",end = \" \")\n",
    "        \n",
    "    print()\n",
    "        "
   ]
  },
  {
   "cell_type": "code",
   "execution_count": 63,
   "id": "153da2b3-5547-4682-81aa-7f35aa226cea",
   "metadata": {},
   "outputs": [
    {
     "name": "stdout",
     "output_type": "stream",
     "text": [
      "\n",
      "1 \n",
      "1 2 \n",
      "1 2 3 \n",
      "1 2 3 4 \n",
      "1 2 3 4 5 \n"
     ]
    }
   ],
   "source": [
    "for i in range (1,7):\n",
    "    for j in range (1,i):\n",
    "        print(j,end = \" \")\n",
    "\n",
    "    print()"
   ]
  },
  {
   "cell_type": "code",
   "execution_count": 86,
   "id": "ba62d185-6dea-4f11-800a-21dd3355acf7",
   "metadata": {},
   "outputs": [
    {
     "name": "stdout",
     "output_type": "stream",
     "text": [
      "1 2 3 4 5 \n",
      "1 2 3 4 \n",
      "1 2 3 \n",
      "1 2 \n",
      "1 \n"
     ]
    }
   ],
   "source": [
    "for i in range (6,1,-1):\n",
    "    for j in range (1,i):\n",
    "        print(j,end = \" \")\n",
    "        j+=1\n",
    "    print()"
   ]
  },
  {
   "cell_type": "code",
   "execution_count": 104,
   "id": "2aed1612-1288-4a2b-8165-590cf71c4c56",
   "metadata": {},
   "outputs": [
    {
     "name": "stdout",
     "output_type": "stream",
     "text": [
      "1 \n",
      "1 2 \n",
      "1   3 \n",
      "1     4 \n",
      "1 2 3 4 5 \n"
     ]
    }
   ],
   "source": [
    "for i in range (1,6):\n",
    "    for j in range (1,i+1):\n",
    "        if j==1 or i==j or i==5:\n",
    "            print(j,end = \" \")\n",
    "\n",
    "        else :\n",
    "            print(\" \",end = \" \")\n",
    "\n",
    "    print()"
   ]
  },
  {
   "cell_type": "code",
   "execution_count": 111,
   "id": "0caa126c-d60d-4934-b5be-1d9ece3c9427",
   "metadata": {},
   "outputs": [
    {
     "name": "stdout",
     "output_type": "stream",
     "text": [
      "- - - - 1 \n",
      "- - - 1 2 3 \n",
      "- - 1 2 3 4 5 \n",
      "- 1 2 3 4 5 6 7 \n",
      "1 2 3 4 5 6 7 8 9 \n"
     ]
    }
   ],
   "source": [
    "num = 5\n",
    "for i in range (1,num+1):\n",
    "    for j in range (5,i,-1):\n",
    "        print(\"-\",end = \" \")\n",
    "\n",
    "    for k in range (1,i*2):\n",
    "        print(k,end = \" \")\n",
    "\n",
    "    print()"
   ]
  },
  {
   "cell_type": "code",
   "execution_count": 116,
   "id": "da8544cb-7cf5-49c9-8dc3-5ef47789762d",
   "metadata": {},
   "outputs": [
    {
     "name": "stdout",
     "output_type": "stream",
     "text": [
      "- - - - 1 \n",
      "- - - 2 2 2 \n",
      "- - 3 3 3 3 3 \n",
      "- 4 4 4 4 4 4 4 \n",
      "5 5 5 5 5 5 5 5 5 \n"
     ]
    }
   ],
   "source": [
    "num = 5\n",
    "for i in range (1,num+1):\n",
    "    for j in range (5,i,-1):\n",
    "        print(\"-\",end = \" \")\n",
    "\n",
    "    for k in range (1,i*2):\n",
    "        print(i,end = \" \")\n",
    "\n",
    "    print()"
   ]
  },
  {
   "cell_type": "code",
   "execution_count": null,
   "id": "cf9095c8-aaac-49fc-93a4-9444f29aa208",
   "metadata": {},
   "outputs": [],
   "source": []
  },
  {
   "cell_type": "code",
   "execution_count": 6,
   "id": "4a5c9bdb-a961-4b9e-9fd3-267a632c4332",
   "metadata": {},
   "outputs": [
    {
     "name": "stdout",
     "output_type": "stream",
     "text": [
      "----* \n",
      "---* * \n",
      "--*   * \n",
      "-* * * * \n"
     ]
    }
   ],
   "source": [
    "for i in range (1,5):\n",
    "    for j in range (i,5):\n",
    "        print(\"-\",end = \"\")\n",
    "    for k in range (1,i+1):\n",
    "        if k==1 or k==i or i==4:\n",
    "            print(\"*\",end = \" \")\n",
    "\n",
    "        else :\n",
    "            print(\" \",end = \" \")\n",
    "    print()"
   ]
  },
  {
   "cell_type": "markdown",
   "id": "9313280d-9f37-4748-ba69-42806076920c",
   "metadata": {},
   "source": [
    "for i in range (1,5):\n",
    "    for j in range (i,5):\n",
    "        print(\"-\",end = \"\")\n",
    "    for k in range (1,i+1):\n",
    "        if k==1 or k==i or i==4:\n",
    "            print(k,end = \" \")\n",
    "\n",
    "        else :\n",
    "            print(\" \",end = \" \")\n",
    "    print()"
   ]
  },
  {
   "cell_type": "code",
   "execution_count": 30,
   "id": "c23e4e12-ef3d-42ed-aaaa-c2c4bef3f156",
   "metadata": {},
   "outputs": [
    {
     "name": "stdout",
     "output_type": "stream",
     "text": [
      "1 \n",
      "1 2 \n",
      "1   3 \n",
      "1     4 \n",
      "1 2 3 4 5 \n"
     ]
    }
   ],
   "source": [
    "for i in range (1,6):\n",
    "    for j in range (1,i+1):\n",
    "        if j==1 or i==j or i==5:\n",
    "            print(j,end = \" \")\n",
    "\n",
    "        else :\n",
    "            print(\" \",end = \" \")\n",
    "\n",
    "    print()"
   ]
  },
  {
   "cell_type": "code",
   "execution_count": 52,
   "id": "fca549b1-fb90-4aef-b9b8-64c4a6514238",
   "metadata": {},
   "outputs": [
    {
     "name": "stdout",
     "output_type": "stream",
     "text": [
      "5 5 5 5 5 \n",
      "4     4 \n",
      "3   3 \n",
      "2 2 \n",
      "1 \n"
     ]
    }
   ],
   "source": [
    "for i in range (5,0,-1):\n",
    "    for j in range (1,i+1):\n",
    "        if i==5 or i==j or j==1:\n",
    "              print(i,end = \" \")\n",
    "\n",
    "        else :\n",
    "            print(\" \",end = \" \")\n",
    "\n",
    "    print()\n",
    "            "
   ]
  },
  {
   "cell_type": "code",
   "execution_count": 52,
   "id": "0c3d5418-dd1f-44b1-8e7f-6e4d503d484e",
   "metadata": {},
   "outputs": [
    {
     "name": "stdout",
     "output_type": "stream",
     "text": [
      "1 \n",
      "2 2   \n",
      "3   3     \n",
      "4     4       \n"
     ]
    }
   ],
   "source": [
    "for i in range (1,5):\n",
    "    for j in range (1,i*2):\n",
    "        if i==5 or j==i or j==1:\n",
    "              print(i,end = \" \")\n",
    "\n",
    "        else :\n",
    "            print(\" \",end = \" \")\n",
    "\n",
    "    print()"
   ]
  },
  {
   "cell_type": "code",
   "execution_count": 72,
   "id": "ff3c6bcb-196c-432a-96a3-af161e97da96",
   "metadata": {},
   "outputs": [
    {
     "name": "stdout",
     "output_type": "stream",
     "text": [
      "- - - - 1 \n",
      "- - - 1 2 3 \n",
      "- - 1 2 3 4 5 \n",
      "- 1 2 3 4 5 6 7 \n",
      "1 2 3 4 5 6 7 8 9 \n",
      "- 1 2 3 4 5 6 7 \n",
      "- - 1 2 3 4 5 \n",
      "- - - 1 2 3 \n",
      "- - - - 1 \n"
     ]
    }
   ],
   "source": [
    "num = 5\n",
    "for i in range (1,num+1):\n",
    "    for j in range (5,i,-1):\n",
    "        print(\"-\",end = \" \")\n",
    "\n",
    "    for k in range (1,i*2):\n",
    "        print(k,end = \" \")\n",
    "\n",
    "    print()\n",
    "\n",
    "for i in range (4,0,-1):\n",
    "    for j in range (i,num):\n",
    "        print(\"-\",end = \" \")\n",
    "\n",
    "    for k in range (1,i*2):\n",
    "        print(k,end = \" \")\n",
    "\n",
    "    print()"
   ]
  },
  {
   "cell_type": "code",
   "execution_count": 75,
   "id": "ee501130-a72b-4fbe-b6c1-fd1aead770e4",
   "metadata": {},
   "outputs": [
    {
     "name": "stdout",
     "output_type": "stream",
     "text": [
      "1 2 3 4 5 6 7 8 9 \n",
      "- 1 2 3 4 5 6 7 \n",
      "- - 1 2 3 4 5 \n",
      "- - - 1 2 3 \n",
      "- - - - 1 \n",
      "- - - 1 2 3 \n",
      "- - 1 2 3 4 5 \n",
      "- 1 2 3 4 5 6 7 \n",
      "1 2 3 4 5 6 7 8 9 \n"
     ]
    }
   ],
   "source": [
    "num = 5\n",
    "for i in range (5,1,-1):\n",
    "    for j in range (i,num):\n",
    "        print(\"-\",end = \" \")\n",
    "\n",
    "    for k in range (1,i*2):\n",
    "        print(k,end = \" \")\n",
    "\n",
    "    print()\n",
    "\n",
    "num = 5\n",
    "for i in range (1,num+1):\n",
    "    for j in range (5,i,-1):\n",
    "        print(\"-\",end = \" \")\n",
    "\n",
    "    for k in range (1,i*2):\n",
    "        print(k,end = \" \")\n",
    "\n",
    "    print()"
   ]
  },
  {
   "cell_type": "code",
   "execution_count": 82,
   "id": "3172312d-2dab-48c7-8ff7-e19a6f52477c",
   "metadata": {},
   "outputs": [
    {
     "name": "stdout",
     "output_type": "stream",
     "text": [
      "A B C D E F G H I \n",
      "- A B C D E F G \n",
      "- - A B C D E \n",
      "- - - A B C \n",
      "- - - - A \n",
      "- - - A B C \n",
      "- - A B C D E \n",
      "- A B C D E F G \n",
      "A B C D E F G H I \n"
     ]
    }
   ],
   "source": [
    "num = 5\n",
    "\n",
    "for i in range (5,1,-1):\n",
    "    x = 65\n",
    "    for j in range (i,num):\n",
    "        print(\"-\",end = \" \")\n",
    "\n",
    "    for k in range (1,i*2):\n",
    "        print(chr(x),end = \" \")\n",
    "        x+=1\n",
    "    print()\n",
    "\n",
    "num = 5\n",
    "for i in range (1,num+1):\n",
    "    x= 65\n",
    "    for j in range (5,i,-1):\n",
    "        print(\"-\",end = \" \")\n",
    "\n",
    "    for k in range (1,i*2):\n",
    "        print(chr(x),end = \" \")\n",
    "        x+=1\n",
    "    print()"
   ]
  },
  {
   "cell_type": "code",
   "execution_count": 116,
   "id": "56e1d36e-4f69-4493-9e43-8608ea280f1a",
   "metadata": {},
   "outputs": [
    {
     "name": "stdout",
     "output_type": "stream",
     "text": [
      "----* \n",
      "---* * \n",
      "--*   * \n",
      "-*     * \n",
      "*       * \n",
      "-*     * \n",
      "--*   * \n",
      "---* * \n",
      "----* \n"
     ]
    }
   ],
   "source": [
    "for i in range (1,5):\n",
    "    for j in range (i,5):\n",
    "        print(\"-\",end = \"\")\n",
    "    for k in range (1,i+1):\n",
    "        if k==1 or k==i :\n",
    "            print(\"*\",end = \" \")\n",
    "\n",
    "        else :\n",
    "            print(\" \",end = \" \")\n",
    "    print()\n",
    "for i in range (5,0,-1):\n",
    "    for j in range (5,i,-1):\n",
    "        print(\"-\",end = \"\")\n",
    "\n",
    "    for k in range (1,i+1):\n",
    "        if k==1 or k==i:\n",
    "            print(\"*\",end = \" \")\n",
    "\n",
    "        else :\n",
    "            print(\" \",end = \" \")\n",
    "\n",
    "    print()\n",
    "\n",
    "\n"
   ]
  },
  {
   "cell_type": "code",
   "execution_count": 7,
   "id": "575b1fbe-5772-4af8-a042-6a6c0e4f9ced",
   "metadata": {},
   "outputs": [
    {
     "name": "stdout",
     "output_type": "stream",
     "text": [
      "----A \n",
      "---A B \n",
      "--A   B \n",
      "-A     B \n",
      "A       C \n",
      "-A     C \n",
      "--A   C \n",
      "---A C \n",
      "----A \n"
     ]
    }
   ],
   "source": [
    "for i in range (1,5):\n",
    "    x= 65\n",
    "    for j in range (i,5):\n",
    "        print(\"-\",end = \"\")\n",
    "    for k in range (1,i+1):\n",
    "        if k==1 or k==i :\n",
    "            print(chr(x),end = \" \")\n",
    "            x+=1\n",
    "        else :\n",
    "            print(\" \",end = \" \")\n",
    "    print()\n",
    "for i in range (5,0,-1):\n",
    "    x = 65\n",
    "    for j in range (5,i,-1):\n",
    "        print(\"-\",end = \"\")\n",
    "        \n",
    "    for k in range (1,i+1):\n",
    "        if k==1 or k==i:\n",
    "            print(chr(x),end = \" \")\n",
    "            x+=2\n",
    "        else :\n",
    "            print(\" \",end = \" \")\n",
    "\n",
    "    print()\n",
    "\n"
   ]
  },
  {
   "cell_type": "code",
   "execution_count": 53,
   "id": "ba132722-1147-4904-b022-6a893f63ab04",
   "metadata": {},
   "outputs": [
    {
     "name": "stdout",
     "output_type": "stream",
     "text": [
      "- - - - * \n",
      "- - - *   * \n",
      "- - *       * \n",
      "- *           * \n",
      "*               * \n",
      "- *           *     \n",
      "- - *       *         \n",
      "- - - *   *             \n",
      "- - - - *                 \n"
     ]
    }
   ],
   "source": [
    "num = 5\n",
    "for i in range (1,num+1):\n",
    "    for j in range(i,num):\n",
    "        print(\"-\",end= ' ')\n",
    "\n",
    "    for k in range (1,2*i):\n",
    "        if (k==1 or k==2*i-1 ):\n",
    "            print(\"*\",end = \" \")\n",
    "        \n",
    "        else :\n",
    "            print(\" \",end = \" \")\n",
    "        \n",
    "        \n",
    "    print()\n",
    "\n",
    "for i in range (4,0,-1):\n",
    "    for j in range (5,i,-1):\n",
    "        print(\"-\",end = \" \")\n",
    "\n",
    "    for k in range (1,num*2):\n",
    "        if (k==1 or k == 2*i-1):\n",
    "            print(\"*\",end = \" \")\n",
    "\n",
    "        else :\n",
    "            print(\" \",end = \" \")\n",
    "\n",
    "    print()\n",
    "        "
   ]
  },
  {
   "cell_type": "code",
   "execution_count": 58,
   "id": "ca64fba3-22e9-4ae4-806e-cb68e715a0dc",
   "metadata": {
    "jp-MarkdownHeadingCollapsed": true
   },
   "outputs": [
    {
     "name": "stdout",
     "output_type": "stream",
     "text": [
      "- - - - * \n",
      "- - - *   * \n",
      "- - *       * \n",
      "- *           * \n",
      "* * * * * * * * * \n"
     ]
    }
   ],
   "source": [
    "num = 5\n",
    "for i in range (1,num+1):\n",
    "    for j in range(i,num):\n",
    "        print(\"-\",end= ' ')\n",
    "\n",
    "    for k in range (1,2*i):\n",
    "        if (k==1 or k==2*i-1 or i==5):\n",
    "            print(\"*\",end = \" \")\n",
    "        \n",
    "        else :\n",
    "            print(\" \",end = \" \")\n",
    "        \n",
    "        \n",
    "    print()"
   ]
  },
  {
   "cell_type": "code",
   "execution_count": null,
   "id": "8de88f62-2e7a-4988-9a2c-c9fd7cc45e71",
   "metadata": {},
   "outputs": [],
   "source": []
  }
 ],
 "metadata": {
  "kernelspec": {
   "display_name": "Python 3 (ipykernel)",
   "language": "python",
   "name": "python3"
  },
  "language_info": {
   "codemirror_mode": {
    "name": "ipython",
    "version": 3
   },
   "file_extension": ".py",
   "mimetype": "text/x-python",
   "name": "python",
   "nbconvert_exporter": "python",
   "pygments_lexer": "ipython3",
   "version": "3.12.7"
  }
 },
 "nbformat": 4,
 "nbformat_minor": 5
}
