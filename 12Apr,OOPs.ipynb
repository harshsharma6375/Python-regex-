{
 "cells": [
  {
   "cell_type": "code",
   "execution_count": null,
   "id": "61efb3d1-959b-42f7-9106-253e2e01171c",
   "metadata": {},
   "outputs": [],
   "source": [
    "# class is a blueprint , as an object initiate.\n",
    "# self --> use for connectivity for multiple purpose.\n",
    "# attributes --> are variables that hold data about an object. \n",
    "#                they are defined inside a class and represent the properties and states of an object."
   ]
  },
  {
   "cell_type": "code",
   "execution_count": null,
   "id": "5735a205-3315-4e6a-88a9-6614abbbee98",
   "metadata": {},
   "outputs": [],
   "source": []
  },
  {
   "cell_type": "code",
   "execution_count": 9,
   "id": "d95132d7-fd2c-4f30-981a-1960358d2246",
   "metadata": {},
   "outputs": [],
   "source": [
    "# example\n",
    "class dog:\n",
    "    def __init__(self,name,breed):\n",
    "        self.name = name    # attributes\n",
    "        self.breed = breed  # atrributes\n",
    "\n",
    "# Here , name and breed are the attributes of the dog class."
   ]
  },
  {
   "cell_type": "code",
   "execution_count": null,
   "id": "0851d04f-0b29-40d8-9f34-7549fa3109de",
   "metadata": {},
   "outputs": [],
   "source": []
  },
  {
   "cell_type": "code",
   "execution_count": 7,
   "id": "5fca68d5-8e39-42cb-9f14-3f05dffb9991",
   "metadata": {},
   "outputs": [
    {
     "name": "stdout",
     "output_type": "stream",
     "text": [
      "Buddy says woof!\n"
     ]
    }
   ],
   "source": [
    "# Example\n",
    "\n",
    "class dog:\n",
    "    def __init__(self,name,breed):\n",
    "        self.name = name\n",
    "        self.breed = breed\n",
    "\n",
    "    def bark(self):    # Method\n",
    "        print(f\"{self.name} says woof!\")\n",
    "\n",
    "\n",
    "my_dog = dog(\"Buddy\", \"Golden Retriever\")\n",
    "\n",
    "\n",
    "my_dog.bark()\n",
    "\n"
   ]
  },
  {
   "cell_type": "code",
   "execution_count": null,
   "id": "9832b04c-d800-4e06-9a69-10de22bc2068",
   "metadata": {},
   "outputs": [],
   "source": []
  },
  {
   "cell_type": "code",
   "execution_count": null,
   "id": "f7bff9da-60d7-4986-a921-6d2f6f740957",
   "metadata": {},
   "outputs": [],
   "source": []
  },
  {
   "cell_type": "markdown",
   "id": "2a47c134-b69c-42e5-9b0e-077f3669dc91",
   "metadata": {},
   "source": [
    "## Q1) create a calculator "
   ]
  },
  {
   "cell_type": "code",
   "execution_count": 3,
   "id": "92cd2c37-b2af-494e-9b99-9324b6896949",
   "metadata": {},
   "outputs": [
    {
     "name": "stdout",
     "output_type": "stream",
     "text": [
      "12\n",
      "8\n",
      "20\n",
      "5.0\n"
     ]
    }
   ],
   "source": [
    "class calculator :\n",
    "    def __init__(self,num1,num2):\n",
    "        self.num1 = num1\n",
    "        self.num2 = num2\n",
    "    def add (self):\n",
    "        return self.num1 + self.num2\n",
    "\n",
    "    def subtract(self):\n",
    "        return self.num1 - self.num2\n",
    "\n",
    "    def multiply(self):\n",
    "        return self.num1 * self.num2\n",
    "\n",
    "    def divide(self):\n",
    "        if self.num2 != 0:\n",
    "            return self.num1  / self.num2\n",
    "\n",
    "        else:\n",
    "            return \"division by sero is not allowed \"\n",
    "\n",
    "cal = calculator(10,2)\n",
    "print(cal.add())\n",
    "print(cal.subtract())\n",
    "print(cal.multiply())\n",
    "print(cal.divide())"
   ]
  },
  {
   "cell_type": "markdown",
   "id": "decbd6be-6a90-4f7c-be90-da0e00c736a2",
   "metadata": {},
   "source": [
    "## Q2) Create a Bank Account class "
   ]
  },
  {
   "cell_type": "code",
   "execution_count": 4,
   "id": "a537239b-79cb-42dc-bd51-fa5a81ee969e",
   "metadata": {},
   "outputs": [],
   "source": [
    "# define a bank account class \n",
    "# Add attributes for account holder name and balance \n",
    "# Add methods to deposit , withdraw and checkbalance "
   ]
  },
  {
   "cell_type": "code",
   "execution_count": 1,
   "id": "3f226ce1-429f-4749-9c77-637beab8f60a",
   "metadata": {},
   "outputs": [
    {
     "name": "stdout",
     "output_type": "stream",
     "text": [
      "500 deposited. new balance 5500\n",
      "300 withdraw.remaining balance :5200\n",
      "account balance for harsh:5200\n"
     ]
    }
   ],
   "source": [
    "class bankaccount:\n",
    "    def __init__(self,holder_name,balance = 0):\n",
    "        self.holder_name = holder_name\n",
    "        self.balance = balance\n",
    "\n",
    "    def deposit (self,amount):\n",
    "        self.balance +=amount\n",
    "        print(f\"{amount} deposited. new balance {self.balance}\")\n",
    "\n",
    "    def withdraw (self,amount):\n",
    "        if amount <= self.balance:\n",
    "            self.balance -= amount ##self.balance = selfbalance - amount\n",
    "            print(f\"{amount} withdraw.remaining balance :{self.balance}\" )\n",
    "\n",
    "        else:\n",
    "            print(\"insufficient funds \")\n",
    "\n",
    "\n",
    "    def check_balance(self):\n",
    "        return f\"account balance for {self.holder_name}:{self.balance}\"\n",
    "\n",
    "\n",
    "#test the bankaccount class\n",
    "account = bankaccount(\"harsh\",5000)\n",
    "account.deposit(500)\n",
    "account.withdraw(300)\n",
    "print(account.check_balance())"
   ]
  },
  {
   "cell_type": "markdown",
   "id": "2b936e3b-e2c2-45be-9db5-598ab7609d5c",
   "metadata": {},
   "source": [
    "## Q3) Create a student class."
   ]
  },
  {
   "cell_type": "code",
   "execution_count": 10,
   "id": "e18e2ae7-662a-41a0-ad95-08df0c05fad7",
   "metadata": {},
   "outputs": [],
   "source": [
    "#Task\n",
    "# Define a Student class with attributes like name , age ,and marks.\n",
    "# Add a method to display the student details.\n",
    "# Add a method to check if the student passed(marks >= 40)"
   ]
  },
  {
   "cell_type": "code",
   "execution_count": 18,
   "id": "b2a81a9f-70ea-4fe3-b338-f04609844dfd",
   "metadata": {},
   "outputs": [
    {
     "name": "stdout",
     "output_type": "stream",
     "text": [
      "passed : 50\n",
      "Name : ram , age is 20 , marks is 50\n"
     ]
    }
   ],
   "source": [
    "class student:\n",
    "    def __init__(self,name,age,marks):\n",
    "        self.name = name\n",
    "        self.age = age\n",
    "        self.marks = marks\n",
    "\n",
    "    def display(self):\n",
    "        print(f\"Name : {self.name} , age is {self.age} , marks is {self.marks}\")\n",
    "   \n",
    "    def passed(self):\n",
    "        if self.marks >= 40 :\n",
    "            return(f\"passed : {self.marks}\")\n",
    "\n",
    "        else:\n",
    "            return(\"failed\")\n",
    "\n",
    "result = student(\"ram\",20,50)\n",
    "print(result.passed())\n",
    "result.display()"
   ]
  },
  {
   "cell_type": "code",
   "execution_count": null,
   "id": "4513d018-6833-4030-b72e-9d41916f0ae2",
   "metadata": {},
   "outputs": [],
   "source": []
  }
 ],
 "metadata": {
  "kernelspec": {
   "display_name": "Python 3 (ipykernel)",
   "language": "python",
   "name": "python3"
  },
  "language_info": {
   "codemirror_mode": {
    "name": "ipython",
    "version": 3
   },
   "file_extension": ".py",
   "mimetype": "text/x-python",
   "name": "python",
   "nbconvert_exporter": "python",
   "pygments_lexer": "ipython3",
   "version": "3.12.7"
  }
 },
 "nbformat": 4,
 "nbformat_minor": 5
}
