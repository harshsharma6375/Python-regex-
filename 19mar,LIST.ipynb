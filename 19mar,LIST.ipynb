{
 "cells": [
  {
   "cell_type": "markdown",
   "id": "bad43a09-a311-46b5-a192-6f49ff72e7bb",
   "metadata": {},
   "source": [
    "## Pascal tiangle "
   ]
  },
  {
   "cell_type": "markdown",
   "id": "6e221340-6f2d-4bbc-bc65-8718ac703231",
   "metadata": {},
   "source": [
    "leetcode interview based question"
   ]
  },
  {
   "cell_type": "code",
   "execution_count": 2,
   "id": "67db0cae-a309-428c-bd20-654b1c2def63",
   "metadata": {},
   "outputs": [
    {
     "name": "stdout",
     "output_type": "stream",
     "text": [
      "----1 \n",
      "---1 1 \n",
      "--1 * 1 \n",
      "-1 * * 1 \n",
      "1 * * * 1 \n"
     ]
    }
   ],
   "source": [
    "\n",
    "for i in range (1,6):\n",
    "    for j in range (i,5):\n",
    "        print(\"-\",end = \"\")\n",
    "\n",
    "    for k in range (1,i+1):\n",
    "        if (k==1 or k==i):\n",
    "            print(1,end = \" \")\n",
    "\n",
    "        else :\n",
    "            print(\"*\",end = \" \")\n",
    "\n",
    "    print()\n"
   ]
  },
  {
   "cell_type": "code",
   "execution_count": 11,
   "id": "2874564b-1b10-48eb-852e-fa40949346ce",
   "metadata": {},
   "outputs": [
    {
     "name": "stdout",
     "output_type": "stream",
     "text": [
      "---1 \n",
      "--1 1 \n",
      "-1 * 1 \n",
      "1 * * 1 \n",
      "[[1], [1, 1], [1, '*', 1], [1, '*', '*', 1]]\n"
     ]
    }
   ],
   "source": [
    "mylist = []\n",
    "num = 4\n",
    "for i in range (1,num+1):\n",
    "    temp = []\n",
    "    for j in range (i,num):\n",
    "        print(\"-\",end  = \"\")\n",
    "\n",
    "    for k in range (1,i+1):\n",
    "        if(k==1 or k==i):\n",
    "            temp.append(1)\n",
    "            print(1,end = \" \")\n",
    "\n",
    "        else :\n",
    "            temp.append (\"*\")\n",
    "            print(\"*\",end =\" \")\n",
    "        #appending temporary list to mylist\n",
    "    mylist.append (temp)\n",
    "\n",
    "    print(\"\")\n",
    "print(mylist)"
   ]
  },
  {
   "cell_type": "code",
   "execution_count": null,
   "id": "aae19641-4958-41f2-9047-120a5747a8b9",
   "metadata": {},
   "outputs": [],
   "source": []
  },
  {
   "cell_type": "code",
   "execution_count": 18,
   "id": "92ead967-a64c-498d-9149-64d4c37eb11b",
   "metadata": {},
   "outputs": [
    {
     "name": "stdout",
     "output_type": "stream",
     "text": [
      "----1 \n",
      "---1 1 \n",
      "--1 2 1 \n",
      "-1 3 3 1 \n",
      "1 4 6 4 1 \n",
      "[[1], [1, 1], [1, 2, 1], [1, 3, 3, 1], [1, 4, 6, 4, 1]]\n"
     ]
    }
   ],
   "source": [
    "mylist = []\n",
    "num = 4\n",
    "for i in range (0,num+1):\n",
    "    temp = []\n",
    "    for j in range (i,num):\n",
    "        print(\"-\",end  = \"\")\n",
    "\n",
    "    for k in range (0,i+1):\n",
    "        if(k==0 or k==i):\n",
    "            temp.append(1)\n",
    "            print(1,end = \" \")\n",
    "\n",
    "        else :\n",
    "            data = mylist [i-1][k] + mylist[i-1][k-1]\n",
    "            temp.append (data)\n",
    "            print(data,end =\" \")\n",
    "        #appending temporary list to mylist\n",
    "    mylist.append (temp)\n",
    "\n",
    "    print(\"\")\n",
    "print(mylist)"
   ]
  },
  {
   "cell_type": "code",
   "execution_count": null,
   "id": "08813d77-ec63-45bd-a4a3-5570d87ff1be",
   "metadata": {},
   "outputs": [],
   "source": []
  }
 ],
 "metadata": {
  "kernelspec": {
   "display_name": "Python 3 (ipykernel)",
   "language": "python",
   "name": "python3"
  },
  "language_info": {
   "codemirror_mode": {
    "name": "ipython",
    "version": 3
   },
   "file_extension": ".py",
   "mimetype": "text/x-python",
   "name": "python",
   "nbconvert_exporter": "python",
   "pygments_lexer": "ipython3",
   "version": "3.12.7"
  }
 },
 "nbformat": 4,
 "nbformat_minor": 5
}
