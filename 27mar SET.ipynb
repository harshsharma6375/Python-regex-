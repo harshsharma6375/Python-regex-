{
 "cells": [
  {
   "cell_type": "markdown",
   "id": "2d6d7c9b-379c-4c39-9fd3-a1934ab6ea41",
   "metadata": {},
   "source": [
    "## sets "
   ]
  },
  {
   "cell_type": "code",
   "execution_count": 1,
   "id": "2f8cd575-96b4-4d59-9ae7-5a0a590f35f2",
   "metadata": {},
   "outputs": [],
   "source": [
    "# set \n",
    "# set datatype \n",
    "# unique element \n",
    "# unordered \n",
    " # and element are unique \n",
    "# elemnet they should be immutable datatype "
   ]
  },
  {
   "cell_type": "code",
   "execution_count": 2,
   "id": "4e1b9e0c-c60c-440a-8f1b-7ba42cd5ab56",
   "metadata": {},
   "outputs": [
    {
     "name": "stdout",
     "output_type": "stream",
     "text": [
      "<class 'set'>\n"
     ]
    }
   ],
   "source": [
    "myset  = set( {} )\n",
    "print(type(myset))"
   ]
  },
  {
   "cell_type": "code",
   "execution_count": 5,
   "id": "43540491-0706-49a8-924b-fad7b02d5ed5",
   "metadata": {},
   "outputs": [
    {
     "name": "stdout",
     "output_type": "stream",
     "text": [
      "{0, 2, 3, 4, 82, 10}\n"
     ]
    }
   ],
   "source": [
    "myset = {10,2,3,4,0,82,10,4}  #it can't give repeated value because it is unique and unorderd also that does'nt show the element as same as given \n",
    "print(myset)"
   ]
  },
  {
   "cell_type": "code",
   "execution_count": 8,
   "id": "404cc101-b48f-4d16-9c36-d9d541c1b892",
   "metadata": {
    "jp-MarkdownHeadingCollapsed": true
   },
   "outputs": [
    {
     "name": "stdout",
     "output_type": "stream",
     "text": [
      "{80, 50, 20, 40, 10, 30, 'hey'}\n"
     ]
    }
   ],
   "source": [
    "myset = {10,20,30,40,50,10}\n",
    "myset.add(80)  #it helps to add the new elemnet in set . \n",
    "myset.add(\"hey\")\n",
    "print(myset)\n"
   ]
  },
  {
   "cell_type": "code",
   "execution_count": 11,
   "id": "c0deb2ef-244f-4fd3-9336-154972ec3750",
   "metadata": {},
   "outputs": [
    {
     "name": "stdout",
     "output_type": "stream",
     "text": [
      "{'hey', 'e', 30, 40, 'h', 'y', 50}\n"
     ]
    }
   ],
   "source": [
    "myset = {10,20,30,40,50,10}\n",
    "myset.add (\"hey\")\n",
    "myset.update (\"hey\") #insert each character \n",
    "myset.pop() # any element \n",
    "myset.remove(20) #individual elements \n",
    "print(myset)"
   ]
  },
  {
   "cell_type": "code",
   "execution_count": 13,
   "id": "f8257af1-402a-42ee-bd81-09123c01f95a",
   "metadata": {},
   "outputs": [
    {
     "name": "stdout",
     "output_type": "stream",
     "text": [
      "{1, 2, 3, 4, 5, 6, 7, 8, 9, 10}\n"
     ]
    }
   ],
   "source": [
    "myset1 = {1,2,3,4,5}\n",
    "myset2 = {6,7,8,9,10} # union is used to add two sets\n",
    "print(myset1.union(myset2))"
   ]
  },
  {
   "cell_type": "code",
   "execution_count": 18,
   "id": "6371e83e-5d55-47d0-8e71-f72f515d58d5",
   "metadata": {},
   "outputs": [
    {
     "name": "stdout",
     "output_type": "stream",
     "text": [
      "{1, 7}\n"
     ]
    }
   ],
   "source": [
    "myset1 = {1,2,7,4,1}\n",
    "myset2 = {6,7,1,9,10} #intersection is used to take out the common element from both the sets. \n",
    "print(myset1.intersection(myset2))"
   ]
  },
  {
   "cell_type": "code",
   "execution_count": 24,
   "id": "aa115e8d-31df-45bf-88cc-ab41d3c72283",
   "metadata": {},
   "outputs": [
    {
     "name": "stdout",
     "output_type": "stream",
     "text": [
      "{2, 4}\n"
     ]
    }
   ],
   "source": [
    "myset1 = {1,2,7,4,1}\n",
    "myset2 = {6,7,9,10,1}\n",
    "print(myset1.difference (myset2))"
   ]
  },
  {
   "cell_type": "markdown",
   "id": "08e7c81a-e2ab-4ac7-a085-fdcccba6c79e",
   "metadata": {},
   "source": [
    "## list comphrension"
   ]
  },
  {
   "cell_type": "code",
   "execution_count": 25,
   "id": "e7d7be19-9937-41f7-87df-cc4fbdbf912a",
   "metadata": {},
   "outputs": [
    {
     "name": "stdout",
     "output_type": "stream",
     "text": [
      "[2, 3, 4, 5, 6, 7]\n"
     ]
    }
   ],
   "source": [
    "mylist = []\n",
    "for i in  range (2,8):\n",
    "    mylist.append(i)\n",
    "\n",
    "print(mylist)"
   ]
  },
  {
   "cell_type": "code",
   "execution_count": 44,
   "id": "6127e2c4-daea-47ce-b5ac-23bc21a2145e",
   "metadata": {},
   "outputs": [
    {
     "data": {
      "text/plain": [
       "[4, 9, 16, 25, 36, 49]"
      ]
     },
     "execution_count": 44,
     "metadata": {},
     "output_type": "execute_result"
    }
   ],
   "source": [
    "[i**2 for i in range(2,8)]"
   ]
  },
  {
   "cell_type": "markdown",
   "id": "c5becdab-831e-4ea4-bbb8-721c7b854c04",
   "metadata": {},
   "source": [
    "# Dictionary comphrension"
   ]
  },
  {
   "cell_type": "code",
   "execution_count": 33,
   "id": "c61ea1c2-3cd9-4f16-8c81-fd64305daab1",
   "metadata": {},
   "outputs": [
    {
     "name": "stdout",
     "output_type": "stream",
     "text": [
      "{1: 1, 2: 1, 3: 1, 4: 1, 5: 1}\n"
     ]
    }
   ],
   "source": [
    "l = [1,2,3,4,5]\n",
    "mydict = {}\n",
    "for i in l:\n",
    "    mydict[i] = 1\n",
    "\n",
    "print(mydict)"
   ]
  },
  {
   "cell_type": "code",
   "execution_count": 32,
   "id": "1f825fcd-f81f-4f89-8d7a-b83de54e0586",
   "metadata": {},
   "outputs": [
    {
     "name": "stdout",
     "output_type": "stream",
     "text": [
      "{4: 1, 5: 1, 6: 1, 7: 1, 8: 1}\n"
     ]
    }
   ],
   "source": [
    "l = [4,5,6,7,8]\n",
    "mydict = {i:1 for i in l}\n",
    "print(mydict)"
   ]
  },
  {
   "cell_type": "code",
   "execution_count": 39,
   "id": "c7707fad-f1c9-423e-a437-755c39954582",
   "metadata": {},
   "outputs": [
    {
     "name": "stdout",
     "output_type": "stream",
     "text": [
      "{4: 5, 5: 6, 15: 16, 3: 4}\n"
     ]
    }
   ],
   "source": [
    "l = [4,5,5,15,3]\n",
    "mydict = {i:i+1 for i in l}\n",
    "print(mydict)"
   ]
  },
  {
   "cell_type": "markdown",
   "id": "c2f27f20-31b7-4e84-8aa6-3fefabdb5a79",
   "metadata": {},
   "source": [
    "## set comphresnion"
   ]
  },
  {
   "cell_type": "code",
   "execution_count": 40,
   "id": "db68d222-22ed-4663-b213-a3f889ffcec6",
   "metadata": {},
   "outputs": [
    {
     "name": "stdout",
     "output_type": "stream",
     "text": [
      "[(1, 1), (1, 2), (1, 3), (1, 4), (2, 1), (2, 2), (2, 3), (2, 4), (3, 1), (3, 2), (3, 3), (3, 4)]\n"
     ]
    }
   ],
   "source": [
    "l = [4,9]\n",
    "mydict = [ (i,j) for i in range (1,4) for j in  range (1,5)]\n",
    "print(mydict)"
   ]
  },
  {
   "cell_type": "code",
   "execution_count": 41,
   "id": "ea50db75-63b5-40fa-9522-691ad690f14a",
   "metadata": {},
   "outputs": [
    {
     "data": {
      "text/plain": [
       "{4: 4, 5: 5, 6: 6, 7: 7}"
      ]
     },
     "execution_count": 41,
     "metadata": {},
     "output_type": "execute_result"
    }
   ],
   "source": [
    " l = [4,5,6,5,4,7]\n",
    "d = {i:i for i in l}\n",
    "d"
   ]
  },
  {
   "cell_type": "code",
   "execution_count": null,
   "id": "f4429f7c-ad5b-473a-87b3-ceded6fd73d1",
   "metadata": {},
   "outputs": [],
   "source": []
  }
 ],
 "metadata": {
  "kernelspec": {
   "display_name": "Python 3 (ipykernel)",
   "language": "python",
   "name": "python3"
  },
  "language_info": {
   "codemirror_mode": {
    "name": "ipython",
    "version": 3
   },
   "file_extension": ".py",
   "mimetype": "text/x-python",
   "name": "python",
   "nbconvert_exporter": "python",
   "pygments_lexer": "ipython3",
   "version": "3.12.7"
  }
 },
 "nbformat": 4,
 "nbformat_minor": 5
}
