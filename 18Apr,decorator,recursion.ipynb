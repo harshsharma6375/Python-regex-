{
 "cells": [
  {
   "cell_type": "markdown",
   "id": "8119a7ce-6ec4-437c-8235-51389574e32b",
   "metadata": {},
   "source": [
    "what is abstraction is OOPs. "
   ]
  },
  {
   "cell_type": "markdown",
   "id": "1aa3edbb-fd2b-41e8-84c0-7b595b2892eb",
   "metadata": {},
   "source": [
    "#abstraction is a concept in oops that hide unecessary details from the user and only show the essential features of an object\n",
    "\n",
    "\n",
    "#it allows us to focus on what an object does rather than how it does it ."
   ]
  },
  {
   "cell_type": "markdown",
   "id": "37f4d3ab-6706-45c4-bb5f-4418c1b3490b",
   "metadata": {
    "jp-MarkdownHeadingCollapsed": true
   },
   "source": [
    "how abstraction works in python \n",
    "\n",
    "#abstraction can be implemented using abstract base class these are the classes that serves as a blueprint for another classes .\n",
    "\n",
    "#we cannot create object directly from an abstract class ."
   ]
  },
  {
   "cell_type": "code",
   "execution_count": null,
   "id": "8eb4098e-77ce-4a72-bf64-8a39fa4b1d1e",
   "metadata": {},
   "outputs": [],
   "source": [
    "decoraters -->  (that defines method in the abstract class but doesnot provide  their implemneetation )\n",
    " to use abstaraction we use \"ABC\" module abstract base class ."
   ]
  },
  {
   "cell_type": "markdown",
   "id": "d64b154d-27b7-42db-af21-ac9226618264",
   "metadata": {},
   "source": [
    "## example 1 shape classes (circle and rectangle )"
   ]
  },
  {
   "cell_type": "code",
   "execution_count": 9,
   "id": "13f6a65c-a2cc-4797-8835-fe49e81b051b",
   "metadata": {},
   "outputs": [
    {
     "name": "stdout",
     "output_type": "stream",
     "text": [
      "78.5\n",
      "31.400000000000002\n"
     ]
    }
   ],
   "source": [
    "from  abc import ABC , abstractmethod\n",
    "#abstract class\n",
    "class shape (ABC):\n",
    "    @abstractmethod\n",
    "    def area(self):\n",
    "        pass # abstract method , no implementtaion\n",
    "\n",
    "    @abstractmethod \n",
    "    def perimeter (self):\n",
    "        pass # abstract method , no implementtation\n",
    "\n",
    "#concrete class for circle \n",
    "\n",
    "class Circle (shape):\n",
    "    def __init__(self,radius):\n",
    "        self.radius = radius\n",
    "\n",
    "    def area(self):\n",
    "        return 3.14 * self.radius * self. radius\n",
    "\n",
    "    def perimeter(self):\n",
    "        return 2 * 3.14 * self.radius\n",
    "\n",
    "#using the class \n",
    "circle = Circle(5)\n",
    "print(circle.area())\n",
    "print(circle.perimeter())"
   ]
  },
  {
   "cell_type": "markdown",
   "id": "77408ec2-1477-4410-8a5e-71904836e2f6",
   "metadata": {},
   "source": [
    "## recursion"
   ]
  },
  {
   "cell_type": "markdown",
   "id": "3729ae2e-82da-4fb9-8b00-133f42a1d9f7",
   "metadata": {},
   "source": [
    "recursion in python refers two way process were a function call itself to solve smaller intances of the same problem\n",
    "\n",
    "\n",
    "#in oops recursion can be used within class methods to perform repetitive tasks ."
   ]
  },
  {
   "cell_type": "code",
   "execution_count": null,
   "id": "5dfce616-a80a-44dd-adbe-76c547c21103",
   "metadata": {},
   "outputs": [],
   "source": []
  },
  {
   "cell_type": "markdown",
   "id": "d9fa6d39-55f3-4717-9fd6-7cad44c5784f",
   "metadata": {},
   "source": [
    "key features of recursion:\n",
    "\n",
    "1) base case -> a condition that stops the recursion to prevent infinite cause .\n",
    "\n",
    "2) recursive case -> the part where the function call itself with a modified arguments "
   ]
  },
  {
   "cell_type": "code",
   "execution_count": 13,
   "id": "783f8a7a-ed23-44be-a125-27a52e8bc4b4",
   "metadata": {},
   "outputs": [
    {
     "name": "stdout",
     "output_type": "stream",
     "text": [
      "the factorial of 5 is 120\n"
     ]
    }
   ],
   "source": [
    "# example : factorial calculation using recusrion in oop\n",
    "\n",
    "class factorialcalculator :\n",
    "    def calculate_factorial(self,n):\n",
    "        #base case : factorial of 0 or 1 is 1 \n",
    "        if n == 0 or n  ==  1:\n",
    "            return 1\n",
    "\n",
    "        else:\n",
    "            # recursive case : n* factorial of (n-1)\n",
    "            return n* self.calculate_factorial(n -1)\n",
    "\n",
    "calculator = factorialcalculator()\n",
    "number = 5\n",
    "result = calculator. calculate_factorial(number)\n",
    "print(f\"the factorial of {number} is {result}\")\n",
    "            "
   ]
  },
  {
   "cell_type": "markdown",
   "id": "ca1c5382-d2e2-4048-b14c-64d7095f1f95",
   "metadata": {},
   "source": [
    "## Decorators in PYTHON"
   ]
  },
  {
   "cell_type": "markdown",
   "id": "3b36b4fa-9fd9-4213-a212-7acbf5b26756",
   "metadata": {},
   "source": [
    "In python decorators are way to modify or enhances the behaviour of function or methods without directly changing their code ."
   ]
  },
  {
   "cell_type": "markdown",
   "id": "c95406d9-9ebf-4876-8e21-c03ef6a0610b",
   "metadata": {},
   "source": [
    "# decorator function"
   ]
  },
  {
   "cell_type": "code",
   "execution_count": 17,
   "id": "6ee4502b-8ca5-49e4-b57c-aa508a6ac70d",
   "metadata": {},
   "outputs": [
    {
     "name": "stdout",
     "output_type": "stream",
     "text": [
      "function 'greet' is called \n",
      "hello,sam\n",
      "function'greet' finished execution\n"
     ]
    }
   ],
   "source": [
    "def log_decorator (func):\n",
    "    def wrapper(*args,**kwargs):\n",
    "        print(f\"function '{func.__name__}' is called \")\n",
    "        result = func(*args , **kwargs) #call the original function \n",
    "        print(f\"function'{func.__name__}' finished execution\")\n",
    "        return result\n",
    "\n",
    "    return wrapper\n",
    "\n",
    "# using the decorator \n",
    "@log_decorator \n",
    "def greet(name):\n",
    "    print(f\"hello,{name}\")\n",
    "\n",
    "# call the function\n",
    "greet (\"sam\")"
   ]
  },
  {
   "cell_type": "code",
   "execution_count": null,
   "id": "d0baf6b2-7adf-43dc-b92e-da76b802fc59",
   "metadata": {},
   "outputs": [],
   "source": []
  }
 ],
 "metadata": {
  "kernelspec": {
   "display_name": "Python 3 (ipykernel)",
   "language": "python",
   "name": "python3"
  },
  "language_info": {
   "codemirror_mode": {
    "name": "ipython",
    "version": 3
   },
   "file_extension": ".py",
   "mimetype": "text/x-python",
   "name": "python",
   "nbconvert_exporter": "python",
   "pygments_lexer": "ipython3",
   "version": "3.12.7"
  }
 },
 "nbformat": 4,
 "nbformat_minor": 5
}
