{
 "cells": [
  {
   "cell_type": "code",
   "execution_count": null,
   "id": "7e69b3dd-263a-42a5-bee3-8207b25b0d6e",
   "metadata": {},
   "outputs": [],
   "source": [
    "r+ means it can read and write both "
   ]
  },
  {
   "cell_type": "code",
   "execution_count": 17,
   "id": "b0733bd2-d289-4a22-897e-f4cbc867a86b",
   "metadata": {},
   "outputs": [
    {
     "name": "stdout",
     "output_type": "stream",
     "text": [
      "amanamanamanaman\n"
     ]
    }
   ],
   "source": [
    "fi = open(\"data1.txt\",\"r+\")\n",
    "x = fi.read ()\n",
    "fi.write(\"aman\")\n",
    "fi.close()\n",
    "print(x)\n",
    "\n"
   ]
  },
  {
   "cell_type": "code",
   "execution_count": 19,
   "id": "265979d8-ed1f-4dea-83b2-517577f68f48",
   "metadata": {},
   "outputs": [
    {
     "name": "stdout",
     "output_type": "stream",
     "text": [
      "\n"
     ]
    }
   ],
   "source": [
    "fi  = open(\"data.txt\",\"r+\")\n",
    "fi.write(\"$$$\")\n",
    "x = fi.read()\n",
    "fi.close()\n",
    "print(x)"
   ]
  },
  {
   "cell_type": "markdown",
   "id": "1559e678-172e-4fec-9609-5891565e62e2",
   "metadata": {},
   "source": [
    "w+ it deletes the old content  and then we can read and write "
   ]
  },
  {
   "cell_type": "code",
   "execution_count": 21,
   "id": "6002da1c-57c7-49f8-86d2-53332d23cfc8",
   "metadata": {},
   "outputs": [
    {
     "name": "stdout",
     "output_type": "stream",
     "text": [
      "\n"
     ]
    }
   ],
   "source": [
    "fi  = open(\"data.txt\",\"w+\")\n",
    "x = fi.read()\n",
    "fi.write(\"#\")\n",
    "fi.close()\n",
    "print(x)"
   ]
  },
  {
   "cell_type": "code",
   "execution_count": 22,
   "id": "1ff25adf-c927-4356-9b02-831fdd906e0e",
   "metadata": {},
   "outputs": [],
   "source": [
    "## new syntax \n",
    "# as f is a variable which store the data . "
   ]
  },
  {
   "cell_type": "code",
   "execution_count": 23,
   "id": "10618a45-d7e1-4dea-b47a-b0e18cd4d3ea",
   "metadata": {},
   "outputs": [
    {
     "name": "stdout",
     "output_type": "stream",
     "text": [
      "#\n"
     ]
    }
   ],
   "source": [
    "with open(\"data.txt\",\"r\") as f:\n",
    "    x = f.read()\n",
    "print(x)"
   ]
  },
  {
   "cell_type": "code",
   "execution_count": null,
   "id": "0b0a460f-7097-4bd8-98fd-810274181d76",
   "metadata": {},
   "outputs": [],
   "source": [
    "it writes the output in the text file . "
   ]
  },
  {
   "cell_type": "code",
   "execution_count": 29,
   "id": "4da8c31e-8ac3-45b3-af52-501803e7f46f",
   "metadata": {},
   "outputs": [
    {
     "name": "stdout",
     "output_type": "stream",
     "text": [
      "#\n"
     ]
    }
   ],
   "source": [
    "with open(\"data.txt\",\"r+\") as f:\n",
    "    x = f.read()\n",
    "    f.write(\"abc\")\n",
    "print(x)"
   ]
  },
  {
   "cell_type": "markdown",
   "id": "0a23df77-e3ed-4fc2-8a36-9aed18922249",
   "metadata": {},
   "source": [
    "f.tell () it shows the position of the cursor "
   ]
  },
  {
   "cell_type": "code",
   "execution_count": 34,
   "id": "c40bf213-41e2-4086-a2fb-e40a2706da3d",
   "metadata": {},
   "outputs": [
    {
     "name": "stdout",
     "output_type": "stream",
     "text": [
      "Cur1 0\n",
      "Cur2 5\n"
     ]
    }
   ],
   "source": [
    "with open(\"data.txt\",\"w+\") as f:\n",
    "    print(\"Cur1\",f.tell())\n",
    "    f.write(\"hello\")\n",
    "    print(\"Cur2\",f.tell())\n"
   ]
  },
  {
   "cell_type": "code",
   "execution_count": null,
   "id": "3e6a5c4e-8aa6-4f8a-9952-9d72983a72b9",
   "metadata": {},
   "outputs": [],
   "source": [
    "changing the position of a cursor \n",
    "#f.seek() is used to changing the position of the cursor "
   ]
  },
  {
   "cell_type": "code",
   "execution_count": 33,
   "id": "c8fc001e-d18a-4f0b-bcec-a4891ff22d42",
   "metadata": {},
   "outputs": [
    {
     "name": "stdout",
     "output_type": "stream",
     "text": [
      "Cur1 0\n",
      "Cur2 5\n",
      "Cur3 2\n",
      "llo\n",
      "Cur4 5\n"
     ]
    }
   ],
   "source": [
    "with open(\"data.txt\",\"w+\") as f:\n",
    "    print(\"Cur1\",f.tell())\n",
    "    f.write(\"hello\")\n",
    "    print(\"Cur2\",f.tell())\n",
    "    f.seek(2)\n",
    "    print(\"Cur3\",f.tell())\n",
    "    print(f.read() )\n",
    "    print(\"Cur4\",f.tell())\n"
   ]
  },
  {
   "cell_type": "code",
   "execution_count": 39,
   "id": "db0d4f3f-4600-49be-bb9f-86083ef49aaf",
   "metadata": {},
   "outputs": [
    {
     "name": "stdout",
     "output_type": "stream",
     "text": [
      "Cur1 0\n",
      "Cur2 0\n",
      "Cur3 2\n",
      "Cur4 5\n"
     ]
    }
   ],
   "source": [
    "with open(\"data.txt\",\"r+\") as f:\n",
    "    print(\"Cur1\",f.tell())\n",
    "    f.read()\n",
    "    print(\"Cur2\",f.tell())\n",
    "    f.seek(2)\n",
    "    print(\"Cur3\",f.tell())\n",
    "    f.write(\"sjn\")\n",
    "    print(\"Cur4\",f.tell())\n"
   ]
  },
  {
   "cell_type": "code",
   "execution_count": null,
   "id": "45ec6b73-2c40-45ec-a0cf-22b85fc487e6",
   "metadata": {},
   "outputs": [],
   "source": []
  },
  {
   "cell_type": "markdown",
   "id": "e4595f03-d7d4-4661-a154-add6a58b1c39",
   "metadata": {},
   "source": [
    "to read a text"
   ]
  },
  {
   "cell_type": "code",
   "execution_count": 41,
   "id": "9b2ecb45-cb22-4a4c-b370-15466efd3383",
   "metadata": {},
   "outputs": [
    {
     "name": "stdout",
     "output_type": "stream",
     "text": [
      "ndjn\n",
      "sdckjnkjn\n",
      "ddv\n"
     ]
    }
   ],
   "source": [
    "with open(\"data.txt\",\"r\") as f:\n",
    "    print(f.read())"
   ]
  },
  {
   "cell_type": "markdown",
   "id": "018df74e-063d-4c40-8386-8aed7329fb92",
   "metadata": {},
   "source": [
    "for line by line reading "
   ]
  },
  {
   "cell_type": "code",
   "execution_count": 7,
   "id": "99457309-7153-42fa-ba4f-a47a415106ba",
   "metadata": {},
   "outputs": [
    {
     "name": "stdout",
     "output_type": "stream",
     "text": [
      "ndjn \n",
      "\n"
     ]
    }
   ],
   "source": [
    "with open(\"data.txt\",\"r+\") as f:\n",
    "    print(f.readline())"
   ]
  },
  {
   "cell_type": "code",
   "execution_count": 8,
   "id": "d34451e6-a117-4dd0-86c1-5271e8bb5d67",
   "metadata": {},
   "outputs": [
    {
     "name": "stdout",
     "output_type": "stream",
     "text": [
      "['ndjn \\n', 'sdnjkn \\n', 'dskn \\n']\n"
     ]
    }
   ],
   "source": [
    "with open(\"data.txt\",\"r+\") as f:\n",
    "    print(f.readlines())"
   ]
  },
  {
   "cell_type": "markdown",
   "id": "4047ed1a-406c-484e-b4b4-8cdb6dc4c8a4",
   "metadata": {},
   "source": [
    "readlines() --> it reads all the line but in list format "
   ]
  },
  {
   "cell_type": "code",
   "execution_count": 10,
   "id": "5c39925e-021d-45bb-a7a3-969b6f746627",
   "metadata": {},
   "outputs": [
    {
     "name": "stdout",
     "output_type": "stream",
     "text": [
      "['1', 'ndjn \\n']\n",
      "['2', 'sdnjkn \\n']\n",
      "['3', 'dskn \\n']\n"
     ]
    }
   ],
   "source": [
    "with open(\"data.txt\",\"r+\") as f:\n",
    "    mylist = f.readlines()\n",
    "    for i in mylist:\n",
    "        print(i.split(\",\"))\n",
    "    "
   ]
  },
  {
   "cell_type": "code",
   "execution_count": 2,
   "id": "16946548-d712-49d2-94e3-d21da642a021",
   "metadata": {},
   "outputs": [],
   "source": [
    "# csv - comma , seperated , values . "
   ]
  },
  {
   "cell_type": "code",
   "execution_count": 11,
   "id": "b4d34afc-85fe-4870-ad0f-14aad707046b",
   "metadata": {},
   "outputs": [
    {
     "name": "stdout",
     "output_type": "stream",
     "text": [
      "['1', 'ndjn ']\n",
      "['2', 'sdnjkn ']\n",
      "['3', 'dskn ']\n"
     ]
    }
   ],
   "source": [
    "import csv\n",
    "f = open(\"data.txt\",\"r\")\n",
    "f_csv = csv.reader(f)\n",
    "for line in f_csv:\n",
    "    print(line)"
   ]
  },
  {
   "cell_type": "code",
   "execution_count": null,
   "id": "7e7e81fc-5b36-4b07-b4af-3e320ef9fca6",
   "metadata": {},
   "outputs": [],
   "source": []
  },
  {
   "cell_type": "code",
   "execution_count": null,
   "id": "31a0a120-1853-478a-af22-018a7468b1f6",
   "metadata": {},
   "outputs": [],
   "source": []
  },
  {
   "cell_type": "code",
   "execution_count": null,
   "id": "18e886ba-6874-4ef2-b946-e41c339bf32b",
   "metadata": {},
   "outputs": [],
   "source": []
  },
  {
   "cell_type": "markdown",
   "id": "efdc15f2-0ce9-474a-83fd-af6afc4cd198",
   "metadata": {},
   "source": [
    "## EXCEPTION HANDLING "
   ]
  },
  {
   "cell_type": "markdown",
   "id": "0613f4ab-5b1b-480e-b3a2-74d6eb4d2763",
   "metadata": {},
   "source": [
    "it is used to handle the unwanted condtions \n",
    "that allows you to deal with errors gracefully withoutcrashing the program. It helps manage runtime errors and lets you write cleaner and more robust code."
   ]
  },
  {
   "cell_type": "code",
   "execution_count": 51,
   "id": "8711f6aa-958d-448c-ba08-1b1d00932cc7",
   "metadata": {},
   "outputs": [],
   "source": [
    "# try block() --> it is a part where the error is seen to be \n",
    "# except block()--> in this part we shows that how we handle the error . "
   ]
  },
  {
   "cell_type": "code",
   "execution_count": 52,
   "id": "7e0724aa-a4d4-4935-b735-1c7cc7ebf246",
   "metadata": {},
   "outputs": [
    {
     "name": "stdout",
     "output_type": "stream",
     "text": [
      "hello\n",
      "error handle \n"
     ]
    }
   ],
   "source": [
    "try:\n",
    "    print(\"hello\")\n",
    "    x1 #--> error \n",
    "    print(\"hey\")\n",
    "\n",
    "except :\n",
    "    print(\"error handle \")"
   ]
  },
  {
   "cell_type": "code",
   "execution_count": 53,
   "id": "af88d16a-96c4-4e9b-8144-8d49a8673e66",
   "metadata": {},
   "outputs": [
    {
     "name": "stdout",
     "output_type": "stream",
     "text": [
      "hello\n",
      "hey\n"
     ]
    }
   ],
   "source": [
    "try:\n",
    "    print(\"hello\")\n",
    "    x1 = 10 \n",
    "    print(\"hey\")\n",
    "\n",
    "except :\n",
    "    print(\"error handle \")"
   ]
  },
  {
   "cell_type": "code",
   "execution_count": 3,
   "id": "d8e879a2-917c-45aa-9ba5-64cae9d71393",
   "metadata": {},
   "outputs": [
    {
     "name": "stdout",
     "output_type": "stream",
     "text": [
      "hello\n",
      "error handle = >  division by zero\n"
     ]
    }
   ],
   "source": [
    "try:\n",
    "    print(\"hello\")\n",
    "    x1 = 10 \n",
    "    10/0 #-->  arithmetic error or zero division error \n",
    "    print(\"hey\")\n",
    "\n",
    "except ZeroDivisionError as e :\n",
    "    print(\"error handle = > \",e)"
   ]
  },
  {
   "cell_type": "code",
   "execution_count": 2,
   "id": "d6df3f53-d764-45e6-a8db-e8794309df5c",
   "metadata": {},
   "outputs": [
    {
     "name": "stdout",
     "output_type": "stream",
     "text": [
      "hello\n",
      "name error handle = >  name 'x1' is not defined\n"
     ]
    }
   ],
   "source": [
    "try:\n",
    "    print(\"hello\")\n",
    "    \n",
    "    x = 10 \n",
    "    x1/0 \n",
    "    #-->  arithmetic error or zero division error \n",
    "    print(\"hey\")\n",
    "\n",
    "except ZeroDivisionError as e :\n",
    "    print(\"error handle = > \",e)\n",
    "\n",
    "except NameError as a :\n",
    "    print(\"name error handle = > \",a)"
   ]
  },
  {
   "cell_type": "code",
   "execution_count": 1,
   "id": "4b003412-3b7a-43de-9dd2-d853be9dc09c",
   "metadata": {},
   "outputs": [
    {
     "name": "stdout",
     "output_type": "stream",
     "text": [
      "hello\n",
      "error handle = >  name 'x1' is not defined\n"
     ]
    }
   ],
   "source": [
    "try:\n",
    "    print(\"hello\")\n",
    "    \n",
    "    x = 10 \n",
    "    x1/0 \n",
    "    #-->  arithmetic error or zero division error \n",
    "    print(\"hey\")\n",
    "\n",
    "except ( ZeroDivisionError,NameError) as e :\n",
    "    print(\"error handle = > \",e)"
   ]
  },
  {
   "cell_type": "code",
   "execution_count": null,
   "id": "ee49e7dd-6bcb-442f-b1c4-98e878b00d7b",
   "metadata": {},
   "outputs": [],
   "source": []
  }
 ],
 "metadata": {
  "kernelspec": {
   "display_name": "Python 3 (ipykernel)",
   "language": "python",
   "name": "python3"
  },
  "language_info": {
   "codemirror_mode": {
    "name": "ipython",
    "version": 3
   },
   "file_extension": ".py",
   "mimetype": "text/x-python",
   "name": "python",
   "nbconvert_exporter": "python",
   "pygments_lexer": "ipython3",
   "version": "3.12.7"
  }
 },
 "nbformat": 4,
 "nbformat_minor": 5
}
