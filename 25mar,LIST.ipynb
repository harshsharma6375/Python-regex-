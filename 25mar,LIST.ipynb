{
 "cells": [
  {
   "cell_type": "markdown",
   "id": "914a832c-c723-4875-a936-f8534a7656bb",
   "metadata": {},
   "source": [
    "VALUES REMAINS SAME "
   ]
  },
  {
   "cell_type": "code",
   "execution_count": 5,
   "id": "45b083b1-d33d-4640-b6f6-618aa220850c",
   "metadata": {},
   "outputs": [
    {
     "name": "stdout",
     "output_type": "stream",
     "text": [
      "{10: 1, 40: 1, 20: 1, 30: 1}\n"
     ]
    }
   ],
   "source": [
    "ls = [10,40,20,30]\n",
    "dict = {}\n",
    "for i in ls:\n",
    "    dict[i]=1\n",
    "print(dict)"
   ]
  },
  {
   "cell_type": "markdown",
   "id": "562a6f38-7190-4f5e-bd52-28a8f932cb2f",
   "metadata": {},
   "source": [
    "DUPLICATE VALUES "
   ]
  },
  {
   "cell_type": "code",
   "execution_count": 12,
   "id": "dfdc4473-22f2-4bbf-ac07-7e92aa91768e",
   "metadata": {},
   "outputs": [
    {
     "name": "stdout",
     "output_type": "stream",
     "text": [
      "{10: 2, 40: 1, 20: 1, 30: 1}\n"
     ]
    }
   ],
   "source": [
    "ls = [10,40,20,30,10]\n",
    "dict = {}\n",
    "for i in ls:\n",
    "    if i in dict:\n",
    "        dict[i] = dict[i]+1\n",
    "    else:\n",
    "        dict[i] = 1\n",
    "\n",
    "print(dict)"
   ]
  },
  {
   "cell_type": "markdown",
   "id": "3ab4f7ac-8a4b-48af-b67c-6d8e7c502db9",
   "metadata": {},
   "source": [
    "KEY = VALUES "
   ]
  },
  {
   "cell_type": "code",
   "execution_count": 17,
   "id": "79cf042f-f50e-4864-8a39-22764fe40f76",
   "metadata": {},
   "outputs": [
    {
     "name": "stdout",
     "output_type": "stream",
     "text": [
      "{10: 10, 40: 40, 20: 20, 30: 30}\n"
     ]
    }
   ],
   "source": [
    "ls = [10,40,20,30]\n",
    "dict = {}\n",
    "for i in range(0,len(ls)+1) :\n",
    "    if i in dict:\n",
    "        \n",
    "    \n",
    "    dict[i]=i\n",
    "print(dict)"
   ]
  },
  {
   "cell_type": "markdown",
   "id": "785fe4cd-1dc2-4f52-8219-30d7bbb1f8df",
   "metadata": {},
   "source": [
    "## LCM QUESTION"
   ]
  },
  {
   "cell_type": "code",
   "execution_count": 35,
   "id": "c937ae76-f1e0-486c-b632-a2f810f693e6",
   "metadata": {},
   "outputs": [
    {
     "name": "stdout",
     "output_type": "stream",
     "text": [
      "lcm is  24\n"
     ]
    }
   ],
   "source": [
    "a = 3\n",
    "b = 8\n",
    "if (a>b):\n",
    "    num = a\n",
    "\n",
    "else:\n",
    "    num = b\n",
    "while(True):\n",
    "    if(num%a==0 and num%b ==0) :\n",
    "        print(\"lcm is \",num)\n",
    "        break\n",
    "\n",
    "    else:\n",
    "        num = num+1\n",
    "       "
   ]
  },
  {
   "cell_type": "code",
   "execution_count": 36,
   "id": "f3e31438-d1e4-4590-a88d-fbe4ba3af783",
   "metadata": {},
   "outputs": [
    {
     "name": "stdout",
     "output_type": "stream",
     "text": [
      "25\n"
     ]
    }
   ],
   "source": [
    "a =5\n",
    "b = 25\n",
    "if (a>b):\n",
    "    num = a\n",
    "\n",
    "else :\n",
    "    num = b\n",
    "\n",
    "while (True ):\n",
    "    if (num%a == 0 and num % b == 0):\n",
    "        print(num)\n",
    "        break\n",
    "\n",
    "    else :\n",
    "        num = num+1"
   ]
  },
  {
   "cell_type": "markdown",
   "id": "4ea0399e-7fc8-4525-8e91-e362632d68a3",
   "metadata": {},
   "source": [
    "SUM OF VALUES IN A DICTIONARY"
   ]
  },
  {
   "cell_type": "code",
   "execution_count": 32,
   "id": "512eafd9-d1e7-4baa-8dbe-6a47d5843925",
   "metadata": {},
   "outputs": [
    {
     "name": "stdout",
     "output_type": "stream",
     "text": [
      "198\n"
     ]
    }
   ],
   "source": [
    "d = {\"A\":65,\"B\":66,\"C\":67}\n",
    "s = \"CAB\"\n",
    "sum = 0\n",
    "for i in d:\n",
    "    if i == \"A\" or i ==\"B\" or i ==\"C\":\n",
    "        \n",
    "        sum+=d[i]\n",
    "print(sum)"
   ]
  },
  {
   "cell_type": "code",
   "execution_count": 38,
   "id": "5c45a20b-0e78-4c33-a6bd-0bb6ab0d2bf4",
   "metadata": {},
   "outputs": [
    {
     "name": "stdout",
     "output_type": "stream",
     "text": [
      "131\n"
     ]
    }
   ],
   "source": [
    "d = {\"A\":65,\"B\":66}\n",
    "t = 0\n",
    "for i in \"BA\":\n",
    "    if i in dict:\n",
    "        print(d[i])\n",
    "    t += d[i]\n",
    "\n",
    "print(t)"
   ]
  },
  {
   "cell_type": "code",
   "execution_count": null,
   "id": "6c2ecb43-d89f-4eae-bd2f-263882723b35",
   "metadata": {},
   "outputs": [],
   "source": [
    "d = {5:\"V\",4:\"IV\",3:\"III\",2:\"II\",1:\"I\"}\n"
   ]
  },
  {
   "cell_type": "markdown",
   "id": "3d2aeedb-f422-405f-8c3d-b87081a70161",
   "metadata": {},
   "source": [
    "ROMAN NUMBER WITH IF-ELSE CONDITION FROM (1 TO 5)"
   ]
  },
  {
   "cell_type": "code",
   "execution_count": null,
   "id": "29661a26-c99c-4865-9fba-6c8f89e01f3e",
   "metadata": {},
   "outputs": [],
   "source": [
    "roman_dict = {1: \"I\", 5: \"V\"}\n",
    "\n",
    "num = int(input(\"Enter a number (1-5): \"))\n",
    "\n",
    "if 1 <= num <= 5:\n",
    "    if num in roman_dict:\n",
    "        print(\"Roman num:\", roman_dict[num])\n",
    "    else:\n",
    "        print(\"Roman num:\", \"I\" * num if num < 4 else \"IV\")\n",
    "else:\n",
    "    print(\"Please enter a number between 1 and 5.\")\n"
   ]
  },
  {
   "cell_type": "markdown",
   "id": "b84f100c-ba9b-4d33-9d68-6885abdedb08",
   "metadata": {},
   "source": [
    "ROMAN NUMBER WITH FOR LOOP FROM (1 TO 5)"
   ]
  },
  {
   "cell_type": "code",
   "execution_count": 53,
   "id": "97ead864-5af3-4c03-bcf8-a69d7bd36861",
   "metadata": {},
   "outputs": [
    {
     "name": "stdin",
     "output_type": "stream",
     "text": [
      "enter the number  9\n"
     ]
    },
    {
     "name": "stdout",
     "output_type": "stream",
     "text": [
      "invalid number\n"
     ]
    }
   ],
   "source": [
    "roman_dict  = {1:\"I\",5:\"V\"}\n",
    "num = int(input (\"enter the number \"))\n",
    "if 1<= num <=5:\n",
    "    roman_num = \"\"\n",
    "    \n",
    "    if num in roman_dict:\n",
    "        roman_num = roman_dict [num]\n",
    "    else :\n",
    "        for i in range (num):\n",
    "            if num == 4 :\n",
    "                roman_num = roman_dict [1]+ roman_dict [5]\n",
    "                break\n",
    "            else :\n",
    "                roman_num += roamn_dict [1]\n",
    "\n",
    "    print(roman_num)\n",
    "else:\n",
    "    print(\"invalid number\")\n"
   ]
  },
  {
   "cell_type": "markdown",
   "id": "1f2cec26-52e5-4dba-bc55-683545d229bc",
   "metadata": {},
   "source": [
    "ROMAN NUMBER WITH FOR LOOP (1 TO 10). "
   ]
  },
  {
   "cell_type": "code",
   "execution_count": 62,
   "id": "8d18c319-1623-4b03-9515-bc23ce7a1835",
   "metadata": {},
   "outputs": [
    {
     "name": "stdin",
     "output_type": "stream",
     "text": [
      "enter the number  7\n"
     ]
    },
    {
     "name": "stdout",
     "output_type": "stream",
     "text": [
      "VII\n"
     ]
    }
   ],
   "source": [
    "roman_dict  = {1:\"I\",5:\"V\",10:\"X\"}\n",
    "num = int(input (\"enter the number \"))\n",
    "if 1<= num <=10:\n",
    "    roman_num = \"\"\n",
    "    \n",
    "    if num in roman_dict:\n",
    "        roman_num = roman_dict[num]\n",
    "    else :\n",
    "        for i in range (num):\n",
    "            if num == 4 :\n",
    "                roman_num = roman_dict [1]+ roman_dict [5]\n",
    "                break\n",
    "\n",
    "            elif num == 9 :\n",
    "                roman_num = roman_dict [1]+ roman_dict [10]\n",
    "                break\n",
    "\n",
    "            elif num > 5:\n",
    "                roman_num = roman_dict[5]\n",
    "                for j in range (num - 5):\n",
    "                    roman_num += roman_dict[1]\n",
    "                break\n",
    "            else :\n",
    "                roman_num += roamn_dict [1]\n",
    "\n",
    "    print(roman_num)\n",
    "else:\n",
    "    print(\"invalid number\")\n"
   ]
  },
  {
   "cell_type": "code",
   "execution_count": null,
   "id": "58fa7115-7397-4073-82d9-31aa5285672c",
   "metadata": {},
   "outputs": [],
   "source": []
  }
 ],
 "metadata": {
  "kernelspec": {
   "display_name": "Python 3 (ipykernel)",
   "language": "python",
   "name": "python3"
  },
  "language_info": {
   "codemirror_mode": {
    "name": "ipython",
    "version": 3
   },
   "file_extension": ".py",
   "mimetype": "text/x-python",
   "name": "python",
   "nbconvert_exporter": "python",
   "pygments_lexer": "ipython3",
   "version": "3.12.7"
  }
 },
 "nbformat": 4,
 "nbformat_minor": 5
}
