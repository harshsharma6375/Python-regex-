{
 "cells": [
  {
   "cell_type": "markdown",
   "id": "2a34b37b-3476-45f4-bdf9-512104a04660",
   "metadata": {},
   "source": [
    "patterns "
   ]
  },
  {
   "cell_type": "code",
   "execution_count": 3,
   "id": "71b6c6f9-70a7-4f42-9af3-4ab0e8556295",
   "metadata": {},
   "outputs": [
    {
     "name": "stdout",
     "output_type": "stream",
     "text": [
      "\n",
      "* \n",
      "* * \n",
      "* * * \n",
      "* * * * \n"
     ]
    }
   ],
   "source": [
    "for i in range(1,6):\n",
    "    for j in range (1,i):\n",
    "        print(\"*\",end = ' ')\n",
    "\n",
    "    print()"
   ]
  },
  {
   "cell_type": "code",
   "execution_count": 10,
   "id": "8a4956c2-b40a-40b4-895d-03ff62e34514",
   "metadata": {},
   "outputs": [
    {
     "name": "stdout",
     "output_type": "stream",
     "text": [
      "- - - * \n",
      "- - * * \n",
      "- * * * \n",
      "* * * * \n"
     ]
    }
   ],
   "source": [
    "for i in range(1,5):\n",
    "    for j in range (i,4):\n",
    "        print(\"-\",end = ' ')\n",
    "\n",
    "\n",
    "    for k in range(1,i+1):\n",
    "        print(\"*\",end = ' ')\n",
    "\n",
    "    print()"
   ]
  },
  {
   "cell_type": "code",
   "execution_count": null,
   "id": "8354ea8e-ed13-424d-8c56-c54736691055",
   "metadata": {},
   "outputs": [],
   "source": []
  },
  {
   "cell_type": "code",
   "execution_count": 29,
   "id": "4b7e399f-c4b2-4ee5-97d5-487d243218c1",
   "metadata": {},
   "outputs": [
    {
     "name": "stdout",
     "output_type": "stream",
     "text": [
      "****\n",
      "-***\n",
      "--**\n",
      "---*\n"
     ]
    }
   ],
   "source": [
    "for i in range(1,5):\n",
    "    for j in range (1,i):\n",
    "        print(\"-\",end = '')\n",
    "    for k in range (i,5):\n",
    "            print(\"*\",end = '')\n",
    "    print()"
   ]
  },
  {
   "cell_type": "code",
   "execution_count": 31,
   "id": "f07eef44-9631-4a55-a03a-20b0d262963a",
   "metadata": {},
   "outputs": [
    {
     "name": "stdout",
     "output_type": "stream",
     "text": [
      "\n",
      "*\n",
      "**\n",
      "***\n",
      "****\n",
      "*****\n"
     ]
    }
   ],
   "source": [
    "for i in range (1,7):\n",
    "    for j in range (1,i):\n",
    "        print(\"*\",end = '')\n",
    "\n",
    "    print()"
   ]
  },
  {
   "cell_type": "code",
   "execution_count": 37,
   "id": "703003f7-8b1f-4503-adba-87b7d9212232",
   "metadata": {},
   "outputs": [
    {
     "name": "stdout",
     "output_type": "stream",
     "text": [
      "****\n",
      "***\n",
      "**\n",
      "*\n"
     ]
    }
   ],
   "source": [
    "for i in range (1,5):\n",
    "    for j in range (i,5):\n",
    "        print(\"*\",end = '')\n",
    "\n",
    "    print()"
   ]
  },
  {
   "cell_type": "code",
   "execution_count": 39,
   "id": "84035a66-ce9e-4203-9cfe-9789c2c16cac",
   "metadata": {},
   "outputs": [
    {
     "name": "stdout",
     "output_type": "stream",
     "text": [
      "1 \n",
      "2 2 \n",
      "3 3 3 \n",
      "4 4 4 4 \n"
     ]
    }
   ],
   "source": [
    "for i in range (1,5):\n",
    "    for j in range (1,i+1):\n",
    "        print(i,end = \" \")\n",
    "\n",
    "    print()"
   ]
  },
  {
   "cell_type": "code",
   "execution_count": 42,
   "id": "75869e04-3bf4-4ee0-a3a1-0dbecccf7598",
   "metadata": {},
   "outputs": [
    {
     "name": "stdout",
     "output_type": "stream",
     "text": [
      "1 \n",
      "1 2 \n",
      "1 2 3 \n",
      "1 2 3 4 \n"
     ]
    }
   ],
   "source": [
    "for i in range (1,5):\n",
    "    for j in range (1,i+1):\n",
    "        print(j,end = ' ')\n",
    "\n",
    "    print()\n"
   ]
  },
  {
   "cell_type": "code",
   "execution_count": 46,
   "id": "1bcf5528-1e8b-49c7-8068-e4c8070d85cf",
   "metadata": {},
   "outputs": [
    {
     "name": "stdout",
     "output_type": "stream",
     "text": [
      "\n",
      "1 \n",
      "2 3 \n",
      "4 5 6 \n",
      "7 8 9 10 \n"
     ]
    }
   ],
   "source": [
    "num = 1\n",
    "for i in range(1,6):\n",
    "    for j in range (1,i):\n",
    "        print(num,end = \" \")\n",
    "        num += 1\n",
    "\n",
    "    print()"
   ]
  },
  {
   "cell_type": "code",
   "execution_count": 48,
   "id": "a194f4f4-ab38-4597-886e-32bd72b766b8",
   "metadata": {},
   "outputs": [
    {
     "name": "stdout",
     "output_type": "stream",
     "text": [
      "A B C D \n",
      "A B C \n",
      "A B \n",
      "A \n"
     ]
    }
   ],
   "source": [
    "for i in range(1,5):\n",
    "    x = 65\n",
    "    for j in range (i,5):\n",
    "        print(chr(x),end = \" \")\n",
    "        x += 1\n",
    "\n",
    "    print()"
   ]
  },
  {
   "cell_type": "code",
   "execution_count": 52,
   "id": "73e49fe6-cdcd-400e-be19-821ad6dff016",
   "metadata": {},
   "outputs": [
    {
     "name": "stdout",
     "output_type": "stream",
     "text": [
      "4 3 2 1 \n",
      "4 3 2 \n",
      "4 3 \n",
      "4 \n",
      "\n",
      "\n"
     ]
    }
   ],
   "source": [
    "for i in range (0,6):\n",
    "    for j in range(4,i,-1):\n",
    "        print(j,end = \" \")\n",
    "    print()"
   ]
  },
  {
   "cell_type": "code",
   "execution_count": 56,
   "id": "e7dfda0d-aedc-49bf-b3fb-61b6f3c6d7ab",
   "metadata": {},
   "outputs": [
    {
     "name": "stdout",
     "output_type": "stream",
     "text": [
      "A \n",
      "A B \n",
      "A B C \n",
      "A B C D \n"
     ]
    }
   ],
   "source": [
    "for i in range(5,1,-1):\n",
    "    x = 65\n",
    "    for j in range (i,6):\n",
    "        print(chr(x),end = \" \")\n",
    "        x += 1\n",
    "\n",
    "    print() "
   ]
  },
  {
   "cell_type": "code",
   "execution_count": 57,
   "id": "e3df3cfd-b6fa-4c6e-9193-e8c20718aa04",
   "metadata": {},
   "outputs": [
    {
     "name": "stdout",
     "output_type": "stream",
     "text": [
      "****\n",
      " ***\n",
      "  **\n",
      "   *\n"
     ]
    }
   ],
   "source": [
    "for i in range(1,5):\n",
    "    for j in range (1,i):\n",
    "        print(\" \",end = '')\n",
    "    for k in range (i,5):\n",
    "            print(\"*\",end = '')\n",
    "    print()"
   ]
  },
  {
   "cell_type": "code",
   "execution_count": 67,
   "id": "2aa656c3-4100-42d6-8903-ac0ba51e8919",
   "metadata": {},
   "outputs": [
    {
     "name": "stdout",
     "output_type": "stream",
     "text": [
      "1 2 3 4 5 \n",
      "1 2 3 4 \n",
      "1 2 3 \n",
      "1 2 \n",
      "1 \n"
     ]
    }
   ],
   "source": [
    "for i in range (6,1,-1):\n",
    "    for j in range(1,i):\n",
    "        print(j,end = \" \")\n",
    "    print()"
   ]
  },
  {
   "cell_type": "code",
   "execution_count": 78,
   "id": "25278431-6efa-468d-87aa-9e32f6d34879",
   "metadata": {},
   "outputs": [
    {
     "name": "stdout",
     "output_type": "stream",
     "text": [
      "F E D C B A \n",
      "F E D C B \n",
      "F E D C \n",
      "F E D \n",
      "F E \n",
      "F \n"
     ]
    }
   ],
   "source": [
    "for i in range(1,7):\n",
    "    x = 70\n",
    "    for j in range (7,i,-1):\n",
    "        print(chr(x),end = \" \")\n",
    "        x -= 1\n",
    "\n",
    "    print()"
   ]
  },
  {
   "cell_type": "code",
   "execution_count": 81,
   "id": "a5a21914-6de3-4194-85ff-3230643f4ea7",
   "metadata": {},
   "outputs": [
    {
     "name": "stdout",
     "output_type": "stream",
     "text": [
      "D C B A \n",
      "D C B \n",
      "D C \n",
      "D \n"
     ]
    }
   ],
   "source": [
    "for i in range(1,5):\n",
    "    x = 68\n",
    "    for j in range (5,i,-1):\n",
    "        print(chr(x),end = \" \")\n",
    "        x -= 1\n",
    "\n",
    "    print()"
   ]
  },
  {
   "cell_type": "code",
   "execution_count": 86,
   "id": "14f79967-2ab6-4168-b57c-43680f8de6a7",
   "metadata": {},
   "outputs": [
    {
     "name": "stdout",
     "output_type": "stream",
     "text": [
      "\n",
      "D \n",
      "D C \n",
      "D C B \n",
      "D C B A \n"
     ]
    }
   ],
   "source": [
    "for i in range(6,1,-1):\n",
    "    x = 68\n",
    "    for j in range (i,6):\n",
    "        print(chr(x),end = \" \")\n",
    "        x -= 1\n",
    "\n",
    "    print()"
   ]
  },
  {
   "cell_type": "code",
   "execution_count": 88,
   "id": "ede20da8-2f24-4cd1-83bd-72bc53a61caf",
   "metadata": {},
   "outputs": [
    {
     "name": "stdout",
     "output_type": "stream",
     "text": [
      "\n",
      "A \n",
      "A B \n",
      "A B C \n",
      "A B C D \n"
     ]
    }
   ],
   "source": [
    "for i in range(6,1,-1):\n",
    "    x = 65\n",
    "    for j in range (i,6):\n",
    "        print(chr(x),end = \" \")\n",
    "        x += 1\n",
    "\n",
    "    print()"
   ]
  },
  {
   "cell_type": "code",
   "execution_count": 93,
   "id": "283fde72-05c5-41d1-b184-2c04104781f4",
   "metadata": {},
   "outputs": [
    {
     "name": "stdout",
     "output_type": "stream",
     "text": [
      "\n",
      "10 \n",
      "10 11 \n",
      "10 11 12 \n",
      "10 11 12 13 \n"
     ]
    }
   ],
   "source": [
    "for i in range(6,1,-1):\n",
    "    x = 10\n",
    "    for j in range (i,6):\n",
    "        print((x),end = \" \")\n",
    "        x += 1\n",
    "\n",
    "    print()"
   ]
  },
  {
   "cell_type": "code",
   "execution_count": 105,
   "id": "598def0f-b7e6-4417-ac24-e6d31729b5ae",
   "metadata": {},
   "outputs": [
    {
     "name": "stdout",
     "output_type": "stream",
     "text": [
      "\n",
      "1 \n",
      "1 2 \n",
      "1 2 1 \n",
      "1 2 1 2 \n",
      "1 2 1 2 1 \n"
     ]
    }
   ],
   "source": [
    "for i in range (1,7):\n",
    "    for j in range (1,i):\n",
    "        if (j%2==0):\n",
    "            print(\"2\",end = \" \")\n",
    "\n",
    "        else :\n",
    "            print(\"1\",end = \" \")\n",
    "        \n",
    "        \n",
    "\n",
    "    print()\n",
    "\n"
   ]
  },
  {
   "cell_type": "code",
   "execution_count": 106,
   "id": "3df81b5b-3086-4569-905f-243838599bbd",
   "metadata": {},
   "outputs": [
    {
     "name": "stdout",
     "output_type": "stream",
     "text": [
      "\n",
      "F \n",
      "H J \n",
      "L N P \n",
      "R T V X \n"
     ]
    }
   ],
   "source": [
    " x = 70\n",
    "for i in range(6,1,-1):\n",
    "    \n",
    "    for j in range (i,6):\n",
    "        print(chr(x),end = \" \")\n",
    "        x += 2\n",
    "\n",
    "    print()"
   ]
  },
  {
   "cell_type": "code",
   "execution_count": null,
   "id": "0e317bd2-5b01-415e-8c86-0904d1245038",
   "metadata": {},
   "outputs": [],
   "source": []
  }
 ],
 "metadata": {
  "kernelspec": {
   "display_name": "Python 3 (ipykernel)",
   "language": "python",
   "name": "python3"
  },
  "language_info": {
   "codemirror_mode": {
    "name": "ipython",
    "version": 3
   },
   "file_extension": ".py",
   "mimetype": "text/x-python",
   "name": "python",
   "nbconvert_exporter": "python",
   "pygments_lexer": "ipython3",
   "version": "3.12.7"
  }
 },
 "nbformat": 4,
 "nbformat_minor": 5
}
