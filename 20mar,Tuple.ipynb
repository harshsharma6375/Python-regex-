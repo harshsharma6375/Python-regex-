{
 "cells": [
  {
   "cell_type": "markdown",
   "id": "ad7c7480-3812-4795-ba19-39916fb95192",
   "metadata": {},
   "source": [
    "# tuple \n"
   ]
  },
  {
   "cell_type": "code",
   "execution_count": 1,
   "id": "db0129b1-5579-4669-9d29-3817e6549487",
   "metadata": {},
   "outputs": [
    {
     "name": "stdout",
     "output_type": "stream",
     "text": [
      "(10, 20) <class 'tuple'>\n"
     ]
    }
   ],
   "source": [
    "x = 10,20,30\n",
    "print(x[0:2],type(x))"
   ]
  },
  {
   "cell_type": "code",
   "execution_count": null,
   "id": "07a5b8de-ce71-4857-bb2e-a2a621515b08",
   "metadata": {},
   "outputs": [],
   "source": []
  },
  {
   "cell_type": "code",
   "execution_count": 3,
   "id": "df4e1329-642a-44e8-891b-4d7523a518e5",
   "metadata": {},
   "outputs": [
    {
     "name": "stdout",
     "output_type": "stream",
     "text": [
      "2\n"
     ]
    }
   ],
   "source": [
    "x = 10,20,30,10,10\n",
    "x.count(10)\n",
    "print(x.index(30))"
   ]
  },
  {
   "cell_type": "code",
   "execution_count": null,
   "id": "abf2a634-f477-43e5-b983-902d91afa87f",
   "metadata": {
    "jp-MarkdownHeadingCollapsed": true
   },
   "outputs": [],
   "source": [
    "# datatype \n",
    "#based on key and value pairs \n",
    "# key = >unique identifier \n",
    "# value => data\n",
    "#duplicate values are allowed \n",
    "#indexing and slicing are allowed \n",
    "#different memory address so called immutable \n",
    "#if we have different memory address it will be called immutable . if didnt change then called mutuable \n",
    "# method of tuple \n",
    "#           count()\n",
    "#            index()"
   ]
  },
  {
   "cell_type": "code",
   "execution_count": 6,
   "id": "7a8c6891-8cca-4dfd-86d5-52b3a8b97cd6",
   "metadata": {},
   "outputs": [
    {
     "name": "stdout",
     "output_type": "stream",
     "text": [
      "2057119714176\n",
      "2057119944832\n",
      "(10, 20, 30, 40, 50)\n"
     ]
    }
   ],
   "source": [
    "x = (10,20,30)\n",
    "print ( id(x))\n",
    "x=x+(40,50)\n",
    "print(id(x))\n",
    "print(x)"
   ]
  },
  {
   "cell_type": "markdown",
   "id": "5d05539f-b611-4fbf-ab52-e5fc07135e2f",
   "metadata": {},
   "source": [
    "# difference b/w list and tuple"
   ]
  },
  {
   "cell_type": "code",
   "execution_count": null,
   "id": "ddf3e274-5ad8-4653-8c74-ef6a829cf6ae",
   "metadata": {},
   "outputs": [],
   "source": [
    "# difference betweeen list and tuple \n",
    "# list - mutuable ,[],slow as cpmaored to tuple (postion is change in list so ...)\n",
    "# tuple - immutable ,() , faster the list\n"
   ]
  },
  {
   "cell_type": "code",
   "execution_count": 2,
   "id": "ffd14399-82c8-4928-a032-2a312d3e8d60",
   "metadata": {},
   "outputs": [
    {
     "name": "stdout",
     "output_type": "stream",
     "text": [
      "1400074039040\n",
      "1400073912544\n",
      "(10, 20, 30, 40, 50)\n"
     ]
    }
   ],
   "source": [
    "x = (10,20,30)\n",
    "print(id(x))\n",
    "x = x+(40,50)\n",
    "print(id(x))\n",
    "print(x)"
   ]
  },
  {
   "cell_type": "markdown",
   "id": "a57ce6e0-54e3-4770-b327-917eb6e8d19c",
   "metadata": {},
   "source": [
    "# dictionary"
   ]
  },
  {
   "cell_type": "code",
   "execution_count": null,
   "id": "afdcf665-4bc3-40e5-b557-2aba14008820",
   "metadata": {},
   "outputs": [],
   "source": []
  },
  {
   "cell_type": "code",
   "execution_count": 8,
   "id": "a999af78-34b9-4cbd-a6c4-cc9f4da6aaf5",
   "metadata": {},
   "outputs": [],
   "source": [
    "#datatype \n",
    "#data based on key : value pair\n",
    "#time complexity\n",
    "#key  - unique identifier\n",
    "#value - data\n",
    "#value can be duplicate \n",
    "# {}\n",
    "#{key : value ,key :value 2}\n",
    "#no index position\n",
    "#key should be of immutable position"
   ]
  },
  {
   "cell_type": "markdown",
   "id": "38bc3f98-6bb9-48bb-85fa-52194649c8b0",
   "metadata": {},
   "source": [
    "##### functions"
   ]
  },
  {
   "cell_type": "code",
   "execution_count": 9,
   "id": "35c036c7-ac67-4de3-8620-fa77a1687e73",
   "metadata": {},
   "outputs": [
    {
     "name": "stdout",
     "output_type": "stream",
     "text": [
      "tushar\n",
      "<class 'dict'>\n"
     ]
    }
   ],
   "source": [
    "userdetail  = {100:\"tushar\",101:\"aman\"}\n",
    "print(userdetail[100])\n",
    "print(type (userdetail))"
   ]
  },
  {
   "cell_type": "code",
   "execution_count": 13,
   "id": "5fb30a8f-44f9-4d30-bd9b-b5182301bedd",
   "metadata": {},
   "outputs": [
    {
     "name": "stdout",
     "output_type": "stream",
     "text": [
      "{100: 'regex', 101: 'aman', 102: 'ujjwal'}\n"
     ]
    }
   ],
   "source": [
    "userdetail  = {100:\"tushar\",101:\"aman\"}\n",
    "# insert\n",
    "userdetail  [102]=\"ujjwal\"\n",
    "# update \n",
    "userdetail  [100]=\"regex\"\n",
    "\n",
    "print (userdetail)"
   ]
  },
  {
   "cell_type": "code",
   "execution_count": 16,
   "id": "cc71df7c-0fe6-4e0b-9901-571f0ea929d4",
   "metadata": {},
   "outputs": [
    {
     "name": "stdout",
     "output_type": "stream",
     "text": [
      "{100: 'regex', 102: 'ujjwal'} aman\n"
     ]
    }
   ],
   "source": [
    "#delete the data \n",
    "userdetail = {100: 'regex', 101: 'aman', 102: 'ujjwal'}\n",
    "out  = userdetail.pop(101)\n",
    "print(userdetail,out)"
   ]
  },
  {
   "cell_type": "code",
   "execution_count": 17,
   "id": "44619b79-c98a-4ead-8ab6-30c6eceb43eb",
   "metadata": {},
   "outputs": [
    {
     "data": {
      "text/plain": [
       "{100: 'regex', 102: 'ujjwal'}"
      ]
     },
     "execution_count": 17,
     "metadata": {},
     "output_type": "execute_result"
    }
   ],
   "source": [
    "userdetail"
   ]
  },
  {
   "cell_type": "code",
   "execution_count": 18,
   "id": "60c24b93-6eff-4af2-84fa-91ecd1d5db50",
   "metadata": {},
   "outputs": [
    {
     "data": {
      "text/plain": [
       "'aman'"
      ]
     },
     "execution_count": 18,
     "metadata": {},
     "output_type": "execute_result"
    }
   ],
   "source": [
    "out"
   ]
  },
  {
   "cell_type": "code",
   "execution_count": 20,
   "id": "b16bf95d-61d9-4747-afe0-cb6f63ef805c",
   "metadata": {},
   "outputs": [
    {
     "name": "stdout",
     "output_type": "stream",
     "text": [
      "{100: 'regex', 101: 'aman'} (102, 'ujjwal')\n"
     ]
    }
   ],
   "source": [
    "#delete the data \n",
    "userdetail = {100: 'regex', 101: 'aman', 102: 'ujjwal'}\n",
    "out  = userdetail.popitem()\n",
    "print(userdetail,out)\n",
    "#popitem deletes the last key and value pair and return both key and value pair "
   ]
  },
  {
   "cell_type": "code",
   "execution_count": 25,
   "id": "e05ab529-7cc4-40aa-9f7d-4fc77751857d",
   "metadata": {},
   "outputs": [
    {
     "name": "stdout",
     "output_type": "stream",
     "text": [
      "keys: dict_keys([100, 101, 102])\n",
      "values: dict_values(['regex', 'aman', 'ujjwal'])\n",
      "keys and values: dict_items([(100, 'regex'), (101, 'aman'), (102, 'ujjwal')])\n"
     ]
    }
   ],
   "source": [
    "# .keys , .values  and .items \n",
    "userdetail = {100: 'regex', 101: 'aman', 102: 'ujjwal'}\n",
    "print(\"keys:\",userdetail.keys())\n",
    "print(\"values:\",userdetail.values())\n",
    "print(\"keys and values:\",userdetail.items())"
   ]
  },
  {
   "cell_type": "markdown",
   "id": "b8d5cf72-1df4-4035-aebe-b996628ad8c5",
   "metadata": {},
   "source": [
    "## update \n",
    "it updates the multiple value at the same time the value that is not in the dict then it also update the new list"
   ]
  },
  {
   "cell_type": "code",
   "execution_count": 26,
   "id": "e5c8b171-20da-43c7-9d71-67c17807e25a",
   "metadata": {},
   "outputs": [
    {
     "name": "stdout",
     "output_type": "stream",
     "text": [
      "{100: 15, 101: 'aman', 107: 'yash'}\n"
     ]
    }
   ],
   "source": [
    "userdetail = {100:\"tushar\",101:\"aman\"}\n",
    "userdetail.update({100:15,107:\"yash\"})\n",
    "print (userdetail)"
   ]
  },
  {
   "cell_type": "code",
   "execution_count": 27,
   "id": "f1c501ee-34c9-46b8-9c42-442a0ad8e405",
   "metadata": {},
   "outputs": [
    {
     "name": "stdout",
     "output_type": "stream",
     "text": [
      "100\n"
     ]
    },
    {
     "data": {
      "text/plain": [
       "190"
      ]
     },
     "execution_count": 27,
     "metadata": {},
     "output_type": "execute_result"
    }
   ],
   "source": [
    "dict = {\"salary\":100}\n",
    "print(dict[\"salary\"])\n",
    "dict[\"salary\"]+90"
   ]
  },
  {
   "cell_type": "code",
   "execution_count": 29,
   "id": "e64dc27f-9071-4087-b771-008830e8f126",
   "metadata": {},
   "outputs": [
    {
     "name": "stdout",
     "output_type": "stream",
     "text": [
      "{'salary': 100}\n"
     ]
    }
   ],
   "source": [
    "print(dict)\n",
    "# it can't make any changes in the original dict because it can't assign "
   ]
  },
  {
   "cell_type": "code",
   "execution_count": 33,
   "id": "7828c7ac-375c-412f-9dec-8264d937765c",
   "metadata": {},
   "outputs": [
    {
     "name": "stdout",
     "output_type": "stream",
     "text": [
      "{'salary': 100}\n",
      "{'salary': 190}\n"
     ]
    }
   ],
   "source": [
    "dict = {\"salary\":100}\n",
    "print(dict)\n",
    "dict[\"salary\"] = dict[\"salary\"]+90\n",
    "print(dict)\n",
    "# only way to add the value "
   ]
  },
  {
   "cell_type": "code",
   "execution_count": null,
   "id": "255267dd-f5ed-44a3-8226-a911cfd21392",
   "metadata": {},
   "outputs": [],
   "source": []
  },
  {
   "cell_type": "code",
   "execution_count": null,
   "id": "7d8c057f-3aff-4c0d-a54b-660586326f97",
   "metadata": {},
   "outputs": [],
   "source": [
    "dict = {10:1,11:1,12:1}\n",
    "#{10:1,11:1} #dict [key] = value "
   ]
  },
  {
   "cell_type": "code",
   "execution_count": 40,
   "id": "ae2b3083-6d30-41dc-9b12-cdd11090548a",
   "metadata": {},
   "outputs": [
    {
     "name": "stdout",
     "output_type": "stream",
     "text": [
      "{10: 1, 11: 1, 12: 1, 13: 1, 14: 1, 15: 1}\n"
     ]
    }
   ],
   "source": [
    "dict = {}\n",
    "for i in range (10,16):\n",
    "    dict[i] = 1\n",
    "print(d)"
   ]
  },
  {
   "cell_type": "code",
   "execution_count": 44,
   "id": "d3686994-24d6-4c1a-8486-cdbb0ff5b341",
   "metadata": {},
   "outputs": [
    {
     "name": "stdout",
     "output_type": "stream",
     "text": [
      "{10: 1, 12: 1, 14: 1}\n"
     ]
    }
   ],
   "source": [
    "dict = {}\n",
    "for i in range (10,16):\n",
    "    if (i%2 ==0):\n",
    "        dict[i] = 1\n",
    "print(dict)"
   ]
  },
  {
   "cell_type": "code",
   "execution_count": 46,
   "id": "2b693456-4119-4fe0-909d-8c602e3eae58",
   "metadata": {},
   "outputs": [
    {
     "name": "stdout",
     "output_type": "stream",
     "text": [
      "{'e': 1, 'u': 1, 'a': 1}\n"
     ]
    }
   ],
   "source": [
    "\"hey ura\"\n",
    "#{e:1 ,u:1 ,a:1}\n",
    "d = {}\n",
    "s = \"hey ura\"\n",
    "for i in s:\n",
    "    if(i=='a' or i=='e' or i=='i'or i=='0 'or i == 'u'):\n",
    "        d[i] = 1\n",
    "\n",
    "print(d)"
   ]
  },
  {
   "cell_type": "code",
   "execution_count": 47,
   "id": "d601264e-9f86-4aeb-a93e-af7706be65b5",
   "metadata": {},
   "outputs": [
    {
     "name": "stdout",
     "output_type": "stream",
     "text": [
      "{'e': 1, 'a': 1, 'u': 1}\n"
     ]
    }
   ],
   "source": [
    "d ={}\n",
    "for i in \"hey aru\":\n",
    "    if i in \"aeiou\":\n",
    "        d[i] = 1\n",
    "print(d)"
   ]
  },
  {
   "cell_type": "code",
   "execution_count": 49,
   "id": "417693f0-7cc8-4da3-82d4-6ec6a9a0640d",
   "metadata": {},
   "outputs": [
    {
     "name": "stdout",
     "output_type": "stream",
     "text": [
      "{'salary': 110}\n"
     ]
    }
   ],
   "source": [
    "x = {\"salary\":100}\n",
    "if(\"salary\" in x ):\n",
    "    x[\"salary\"] = x[\"salary\"]+10  #update \n",
    "\n",
    "else :\n",
    "    x[\"salary\"] = 10   #insert\n",
    "\n",
    "print(x)"
   ]
  },
  {
   "cell_type": "code",
   "execution_count": 52,
   "id": "0b62aff0-a33e-4732-8775-a59d15349bfc",
   "metadata": {},
   "outputs": [
    {
     "name": "stdout",
     "output_type": "stream",
     "text": [
      "{'e': 3, 'u': 1, 'a': 2}\n"
     ]
    }
   ],
   "source": [
    "d ={}\n",
    "for i in \"heye ureaa\":\n",
    "    if i in \"aeiou\":\n",
    "        if (i in d):\n",
    "            d[i]+=1\n",
    "        else:\n",
    "            d[i] = 1\n",
    "        \n",
    "        \n",
    "print(d)"
   ]
  },
  {
   "cell_type": "code",
   "execution_count": null,
   "id": "391fbefa-38b5-4c69-91e7-a444e6588b4f",
   "metadata": {},
   "outputs": [],
   "source": []
  }
 ],
 "metadata": {
  "kernelspec": {
   "display_name": "Python 3 (ipykernel)",
   "language": "python",
   "name": "python3"
  },
  "language_info": {
   "codemirror_mode": {
    "name": "ipython",
    "version": 3
   },
   "file_extension": ".py",
   "mimetype": "text/x-python",
   "name": "python",
   "nbconvert_exporter": "python",
   "pygments_lexer": "ipython3",
   "version": "3.12.7"
  }
 },
 "nbformat": 4,
 "nbformat_minor": 5
}
