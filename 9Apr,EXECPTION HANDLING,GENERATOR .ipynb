{
 "cells": [
  {
   "cell_type": "markdown",
   "id": "d1d641fa-8b4b-4e50-817b-16194266084b",
   "metadata": {},
   "source": [
    "nested try except "
   ]
  },
  {
   "cell_type": "code",
   "execution_count": 2,
   "id": "26bfd8c5-8855-4d2a-9cf5-4e5211eaa584",
   "metadata": {},
   "outputs": [
    {
     "name": "stdout",
     "output_type": "stream",
     "text": [
      "hey\n",
      "internal except\n",
      "second line \n"
     ]
    }
   ],
   "source": [
    "try:\n",
    "    print(\"hey\")\n",
    "    try:\n",
    "        s = \"hey\"\n",
    "        s[10]\n",
    "    except:\n",
    "        print(\"internal except\")\n",
    "\n",
    "    print(\"second line \")\n",
    "\n",
    "except(NameError , IndexError) as e:\n",
    "    print(\"error handled\",e)"
   ]
  },
  {
   "cell_type": "code",
   "execution_count": null,
   "id": "83ad949d-0741-4b7a-ade0-42c95b17440d",
   "metadata": {},
   "outputs": [],
   "source": [
    "else block will run when there is no error "
   ]
  },
  {
   "cell_type": "code",
   "execution_count": 3,
   "id": "987ad5b3-987f-4234-895e-f36d95a8195b",
   "metadata": {},
   "outputs": [
    {
     "name": "stdout",
     "output_type": "stream",
     "text": [
      "hey\n",
      "internal except\n",
      "second line \n",
      "else block\n"
     ]
    }
   ],
   "source": [
    "try:\n",
    "    print(\"hey\")\n",
    "    try:\n",
    "        s = \"hey\"\n",
    "        s[10]\n",
    "    except:\n",
    "        print(\"internal except\")\n",
    "\n",
    "    print(\"second line \")\n",
    "\n",
    "except(NameError , IndexError) as e:\n",
    "    print(\"error handled\",e)\n",
    "\n",
    "else:\n",
    "    print(\"else block\")"
   ]
  },
  {
   "cell_type": "code",
   "execution_count": 4,
   "id": "c011dc27-ffed-4a30-b2d9-97aedaadee23",
   "metadata": {},
   "outputs": [
    {
     "name": "stdout",
     "output_type": "stream",
     "text": [
      "hey\n",
      "second line\n",
      "error handled name 'x' is not defined\n"
     ]
    }
   ],
   "source": [
    "try :\n",
    "    print(\"hey\")\n",
    "    print(\"second line\")\n",
    "    x/0\n",
    "    print(\"second line \")\n",
    "except(NameError , IndexError) as e:\n",
    "    print(\"error handled\",e)\n",
    "else:\n",
    "    print(\"else block\")"
   ]
  },
  {
   "cell_type": "markdown",
   "id": "4d786c0b-fcd5-42e2-835d-936b173bcd1f",
   "metadata": {},
   "source": [
    "#### final block"
   ]
  },
  {
   "cell_type": "markdown",
   "id": "85f9635a-2c4a-45f9-8baf-2e9ad3f82fce",
   "metadata": {},
   "source": [
    "finally block will always run if there is an error or not "
   ]
  },
  {
   "cell_type": "code",
   "execution_count": 6,
   "id": "43d4973d-a3d4-4141-b05d-e45b25deb707",
   "metadata": {},
   "outputs": [
    {
     "name": "stdout",
     "output_type": "stream",
     "text": [
      "hey\n",
      "second line\n",
      "error handled name 'x' is not defined\n",
      "final block\n"
     ]
    }
   ],
   "source": [
    "try :\n",
    "    print(\"hey\")\n",
    "    print(\"second line\")\n",
    "    x/0\n",
    "    print(\"second line \")\n",
    "except(NameError , IndexError) as e:\n",
    "    print(\"error handled\",e)\n",
    "finally:\n",
    "    print(\"final block\")"
   ]
  },
  {
   "cell_type": "code",
   "execution_count": 8,
   "id": "e2fcf299-6764-4aae-8fd4-e333a558ac90",
   "metadata": {},
   "outputs": [
    {
     "name": "stdout",
     "output_type": "stream",
     "text": [
      "hey\n",
      "second line\n",
      "final block\n"
     ]
    }
   ],
   "source": [
    "try :\n",
    "    print(\"hey\")\n",
    "    print(\"second line\")\n",
    "    \n",
    "    \n",
    "except(NameError , IndexError) as e:\n",
    "    print(\"error handled\",e)\n",
    "finally:\n",
    "    print(\"final block\")"
   ]
  },
  {
   "cell_type": "markdown",
   "id": "3b7c51dc-c0a7-4114-bbe7-24f962f70747",
   "metadata": {},
   "source": [
    "#### raise keyword "
   ]
  },
  {
   "cell_type": "markdown",
   "id": "8293de27-6900-4c53-ac6a-62599ca3e503",
   "metadata": {},
   "source": [
    "it raises the error that is excepted and given in the code "
   ]
  },
  {
   "cell_type": "code",
   "execution_count": 16,
   "id": "2fba1af1-1606-4faa-bc35-17a76fdd994a",
   "metadata": {},
   "outputs": [
    {
     "name": "stdout",
     "output_type": "stream",
     "text": [
      "x is 20\n"
     ]
    }
   ],
   "source": [
    "x = 20\n",
    "if x!=20:\n",
    "    raise ValueError\n",
    "\n",
    "else:\n",
    "    print(\"x is 20\")"
   ]
  },
  {
   "cell_type": "code",
   "execution_count": 15,
   "id": "2f64bdc9-5365-48ff-a554-25f42b9b0e77",
   "metadata": {},
   "outputs": [
    {
     "name": "stdout",
     "output_type": "stream",
     "text": [
      "x is 10\n"
     ]
    }
   ],
   "source": [
    "x = 10\n",
    "try:\n",
    "    if (x!=10):\n",
    "        raise ValueError\n",
    "\n",
    "    else :\n",
    "        print(\"x is 10\")\n",
    "\n",
    "except ValueError :\n",
    "    print(\"value error \",e)"
   ]
  },
  {
   "cell_type": "code",
   "execution_count": 14,
   "id": "6cb4c093-eea5-4882-b6e0-364962f97087",
   "metadata": {},
   "outputs": [
    {
     "name": "stdout",
     "output_type": "stream",
     "text": [
      "value error  value is incorrect for x\n"
     ]
    }
   ],
   "source": [
    "x = 1\n",
    "try:\n",
    "    if (x!=10):\n",
    "        raise ValueError(\"value is incorrect for x\")\n",
    "\n",
    "    else :\n",
    "        print(\"x is 10\")\n",
    "\n",
    "except ValueError as e:\n",
    "    print(\"value error \",e)"
   ]
  },
  {
   "cell_type": "code",
   "execution_count": null,
   "id": "b5ba02d2-e4d0-4ff7-bc50-67bae38ad499",
   "metadata": {},
   "outputs": [],
   "source": []
  },
  {
   "cell_type": "code",
   "execution_count": null,
   "id": "86c332d6-9ba4-4117-b6f7-800640a9512e",
   "metadata": {},
   "outputs": [],
   "source": []
  },
  {
   "cell_type": "markdown",
   "id": "7a02ab29-f28c-4304-8ce6-28bc52fdaf58",
   "metadata": {},
   "source": [
    "### Generator "
   ]
  },
  {
   "cell_type": "code",
   "execution_count": 19,
   "id": "7f69a1e0-1ca0-4c87-ac3f-8fc6b8a63bbb",
   "metadata": {},
   "outputs": [],
   "source": [
    "# it allows you to iterates over a sequence of values . \n",
    "# a generator is a function which generate a value as per the demand .\n",
    "# special functions \n",
    "# it remember the last execute \n",
    "# value generation on the demand ."
   ]
  },
  {
   "cell_type": "code",
   "execution_count": 20,
   "id": "78d00277-8e7c-4fe6-be48-0a9116356070",
   "metadata": {},
   "outputs": [
    {
     "name": "stdout",
     "output_type": "stream",
     "text": [
      "hey\n"
     ]
    },
    {
     "data": {
      "text/plain": [
       "1"
      ]
     },
     "execution_count": 20,
     "metadata": {},
     "output_type": "execute_result"
    }
   ],
   "source": [
    "def func():\n",
    "    print(\"hey\")\n",
    "    yield 1\n",
    "    yield 2\n",
    "\n",
    "gen = func()\n",
    "next(gen)"
   ]
  },
  {
   "cell_type": "code",
   "execution_count": 21,
   "id": "e1483844-67bc-469d-80e8-25ce2c72b857",
   "metadata": {},
   "outputs": [],
   "source": [
    "# yeild remeber the last sequence but return does'nt."
   ]
  },
  {
   "cell_type": "code",
   "execution_count": 22,
   "id": "7664bdf1-29c3-48b6-bba6-107fc8235a3c",
   "metadata": {},
   "outputs": [
    {
     "data": {
      "text/plain": [
       "2"
      ]
     },
     "execution_count": 22,
     "metadata": {},
     "output_type": "execute_result"
    }
   ],
   "source": [
    "next(gen)"
   ]
  },
  {
   "cell_type": "code",
   "execution_count": null,
   "id": "600ae833-af49-4c0f-909f-fa956baf789c",
   "metadata": {},
   "outputs": [],
   "source": []
  },
  {
   "cell_type": "code",
   "execution_count": 25,
   "id": "6865e26b-d69a-4124-9cc2-0545911fbe40",
   "metadata": {},
   "outputs": [
    {
     "name": "stdout",
     "output_type": "stream",
     "text": [
      "hey\n",
      "1\n",
      "before yield 2\n",
      "2\n"
     ]
    }
   ],
   "source": [
    "def func():\n",
    "    print(\"hey\")\n",
    "    yield 1\n",
    "    print(\"before yield 2\")\n",
    "    yield 2\n",
    "\n",
    "gen = func()\n",
    "for i in gen:   ## for loop works on the iterator \n",
    "    print(i)"
   ]
  },
  {
   "cell_type": "markdown",
   "id": "4e9db8e8-e339-4a1f-8b15-4ff5eae6f1c8",
   "metadata": {},
   "source": [
    "#####  fibonacci series "
   ]
  },
  {
   "cell_type": "code",
   "execution_count": 29,
   "id": "6261a899-e88b-4232-aefc-171ee0382a16",
   "metadata": {},
   "outputs": [],
   "source": [
    "def func():\n",
    "    x = 1\n",
    "    y = 2\n",
    "    while(True):\n",
    "        x,y = y,x+y\n",
    "        yield x,y\n",
    "\n",
    "gen = func()"
   ]
  },
  {
   "cell_type": "code",
   "execution_count": 30,
   "id": "212220bd-2619-408c-aa27-c5b2c602c9e5",
   "metadata": {},
   "outputs": [
    {
     "data": {
      "text/plain": [
       "(2, 3)"
      ]
     },
     "execution_count": 30,
     "metadata": {},
     "output_type": "execute_result"
    }
   ],
   "source": [
    "next(gen)"
   ]
  },
  {
   "cell_type": "code",
   "execution_count": 31,
   "id": "0f9c3d0a-5335-46d2-a3c5-5f817ff47d5d",
   "metadata": {},
   "outputs": [
    {
     "data": {
      "text/plain": [
       "(3, 5)"
      ]
     },
     "execution_count": 31,
     "metadata": {},
     "output_type": "execute_result"
    }
   ],
   "source": [
    "next(gen)"
   ]
  },
  {
   "cell_type": "code",
   "execution_count": 32,
   "id": "7c83a4d2-3f12-44e0-85ae-13288e81bfa1",
   "metadata": {},
   "outputs": [
    {
     "data": {
      "text/plain": [
       "(5, 8)"
      ]
     },
     "execution_count": 32,
     "metadata": {},
     "output_type": "execute_result"
    }
   ],
   "source": [
    "next(gen)"
   ]
  },
  {
   "cell_type": "markdown",
   "id": "4d32b2fe-ea44-462f-a174-19b34bfe784a",
   "metadata": {},
   "source": [
    "it is type of a function that modifies the behaviour of another function without changing its code ."
   ]
  },
  {
   "cell_type": "code",
   "execution_count": 33,
   "id": "9978e29d-c550-4add-98c0-55224e64f5b2",
   "metadata": {},
   "outputs": [],
   "source": [
    "# inbuilt decorator \n",
    "# staticmethod , classmethod , propertymethod "
   ]
  },
  {
   "cell_type": "code",
   "execution_count": null,
   "id": "0a8094b9-7fc4-4421-bd38-8089b3bb4096",
   "metadata": {},
   "outputs": [],
   "source": []
  }
 ],
 "metadata": {
  "kernelspec": {
   "display_name": "Python 3 (ipykernel)",
   "language": "python",
   "name": "python3"
  },
  "language_info": {
   "codemirror_mode": {
    "name": "ipython",
    "version": 3
   },
   "file_extension": ".py",
   "mimetype": "text/x-python",
   "name": "python",
   "nbconvert_exporter": "python",
   "pygments_lexer": "ipython3",
   "version": "3.12.7"
  }
 },
 "nbformat": 4,
 "nbformat_minor": 5
}
