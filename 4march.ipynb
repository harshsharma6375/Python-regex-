{
 "cells": [
  {
   "cell_type": "markdown",
   "id": "6e72879d-7d09-4fc2-bb82-27e65d58f3a4",
   "metadata": {},
   "source": [
    "## while loop"
   ]
  },
  {
   "cell_type": "code",
   "execution_count": null,
   "id": "8a0e902a-2016-477e-80bf-a93a30a8a5d9",
   "metadata": {},
   "outputs": [],
   "source": [
    "condition (iteration X)\n",
    "while(condition):\n",
    "    statement "
   ]
  },
  {
   "cell_type": "code",
   "execution_count": 3,
   "id": "3ae199df-e678-4a5b-a08a-bddfa6d91878",
   "metadata": {},
   "outputs": [
    {
     "name": "stdout",
     "output_type": "stream",
     "text": [
      "jnvij\n"
     ]
    }
   ],
   "source": [
    "i = 1\n",
    "while(i == 1):\n",
    "    print(\"jnvij\")\n",
    "    i = 2"
   ]
  },
  {
   "cell_type": "code",
   "execution_count": 4,
   "id": "fced0fc4-40b4-4203-a3ad-f2256f7fcc69",
   "metadata": {},
   "outputs": [
    {
     "name": "stdout",
     "output_type": "stream",
     "text": [
      "jnvij\n",
      "jnvij\n",
      "jnvij\n",
      "jnvij\n"
     ]
    }
   ],
   "source": [
    "i = 1\n",
    "while(i < 5):\n",
    "    print(\"jnvij\")\n",
    "    i = i+1"
   ]
  },
  {
   "cell_type": "code",
   "execution_count": 1,
   "id": "d05e83a5-73b5-4627-a73a-e7500b3046a8",
   "metadata": {},
   "outputs": [
    {
     "name": "stdout",
     "output_type": "stream",
     "text": [
      "120\n"
     ]
    }
   ],
   "source": [
    "i = 1\n",
    "total = 0\n",
    "while (i <=15):\n",
    "   \n",
    "    total=total+i\n",
    "    i =i+1\n",
    "print(total)\n",
    "    \n",
    "        \n",
    "    "
   ]
  },
  {
   "cell_type": "code",
   "execution_count": 23,
   "id": "e05c0ffd-d654-4bd5-9153-fe5e7e67fd8f",
   "metadata": {},
   "outputs": [
    {
     "name": "stdout",
     "output_type": "stream",
     "text": [
      "even 50\n",
      "even 48\n",
      "even 46\n",
      "even 44\n",
      "even 42\n",
      "even 40\n",
      "even 38\n",
      "even 36\n",
      "even 34\n",
      "even 32\n",
      "even 30\n",
      "even 28\n",
      "even 26\n",
      "even 24\n"
     ]
    }
   ],
   "source": [
    "i = 50\n",
    "while (i>=24):\n",
    "    if (i%2==0):\n",
    "        print(\"even\",i)\n",
    "    i = i-1\n",
    "\n",
    "\n",
    "        "
   ]
  },
  {
   "cell_type": "code",
   "execution_count": null,
   "id": "448dee50-c361-4abd-a20c-054b2b7f0ae0",
   "metadata": {},
   "outputs": [],
   "source": []
  },
  {
   "cell_type": "code",
   "execution_count": 3,
   "id": "60cbe1d4-7320-4f03-a907-437e36e94fbd",
   "metadata": {},
   "outputs": [
    {
     "name": "stdout",
     "output_type": "stream",
     "text": [
      "even 50\n",
      "even 48\n",
      "even 46\n",
      "even 44\n",
      "even 42\n",
      "even 40\n",
      "even 38\n",
      "even 36\n",
      "even 34\n",
      "even 32\n",
      "even 30\n",
      "even 28\n",
      "even 26\n",
      "even 24\n"
     ]
    }
   ],
   "source": [
    "i = 50\n",
    "total = 0\n",
    "while (i>=24):\n",
    "    if (i%2==0):\n",
    "        total = total + 1\n",
    "        print(\"even\",i)\n",
    "    i = i-1\n"
   ]
  },
  {
   "cell_type": "markdown",
   "id": "be4569ff-f6de-4c8a-8cce-1333bb98a081",
   "metadata": {},
   "source": [
    "### even number between 2 to 37"
   ]
  },
  {
   "cell_type": "code",
   "execution_count": 7,
   "id": "ba45fff6-a470-436c-a7b5-3bf6f842555e",
   "metadata": {},
   "outputs": [
    {
     "name": "stdout",
     "output_type": "stream",
     "text": [
      "even 2\n",
      "odd 3\n",
      "even 4\n",
      "odd 5\n",
      "even 6\n",
      "odd 7\n",
      "even 8\n",
      "odd 9\n",
      "even 10\n",
      "odd 11\n",
      "even 12\n",
      "odd 13\n",
      "even 14\n",
      "odd 15\n",
      "even 16\n",
      "odd 17\n",
      "even 18\n",
      "odd 19\n",
      "even 20\n",
      "odd 21\n",
      "even 22\n",
      "odd 23\n",
      "even 24\n",
      "odd 25\n",
      "even 26\n",
      "odd 27\n",
      "even 28\n",
      "odd 29\n",
      "even 30\n",
      "odd 31\n",
      "even 32\n",
      "odd 33\n",
      "even 34\n",
      "odd 35\n",
      "even 36\n",
      "odd 37\n",
      "even count  18\n",
      "odd count 18\n"
     ]
    }
   ],
   "source": [
    "i = 2 \n",
    "e = 0\n",
    "o = 0\n",
    "while(i<=37):\n",
    "    if(i%2==0):\n",
    "        print(\"even\",i)\n",
    "        e= e+1\n",
    "\n",
    "    else:\n",
    "        print(\"odd\",i)\n",
    "        o = o+1\n",
    "        \n",
    "    i = i+1\n",
    "\n",
    "print(\"even count \", e)\n",
    "print(\"odd count\",o)"
   ]
  },
  {
   "cell_type": "markdown",
   "id": "d484da81-1506-4f8b-aa86-1f95b66bd72c",
   "metadata": {},
   "source": [
    "### sum of multipe 3 from 3 to 42"
   ]
  },
  {
   "cell_type": "code",
   "execution_count": 24,
   "id": "c7d257ac-d866-41db-ba57-375fb1e284c9",
   "metadata": {},
   "outputs": [
    {
     "name": "stdout",
     "output_type": "stream",
     "text": [
      "315\n"
     ]
    }
   ],
   "source": [
    "i  = 3\n",
    "s= 0\n",
    "while(i<=42):\n",
    "    if (i%3==0):\n",
    "        \n",
    "        s = s + i \n",
    "    i += 1\n",
    "print (s)\n",
    "    \n",
    "        "
   ]
  },
  {
   "cell_type": "markdown",
   "id": "d9e92495-71e9-4bde-81fb-ead370a5f9a7",
   "metadata": {},
   "source": [
    "### sum of odd between 78 and 51"
   ]
  },
  {
   "cell_type": "code",
   "execution_count": 10,
   "id": "696ce672-e3eb-4009-b968-ba0d5ba764d2",
   "metadata": {},
   "outputs": [
    {
     "name": "stdout",
     "output_type": "stream",
     "text": [
      "odd 14\n",
      "sum 896\n"
     ]
    }
   ],
   "source": [
    "i = 78\n",
    "a= 0\n",
    "odd = 0\n",
    "while(i>=51):\n",
    "    if(i%2==1):\n",
    "        odd = odd + 1\n",
    "        a = a+i\n",
    "        \n",
    "        \n",
    "    i = i-1\n",
    "\n",
    "print(\"odd\",odd)\n",
    "print(\"sum\",a)"
   ]
  },
  {
   "cell_type": "markdown",
   "id": "96dcd809-2fb3-4c0f-adbd-975a6548ee6c",
   "metadata": {},
   "source": [
    "### reverse"
   ]
  },
  {
   "cell_type": "code",
   "execution_count": 28,
   "id": "391d03be-e0e5-4093-a7c6-2589a47e40c8",
   "metadata": {},
   "outputs": [
    {
     "name": "stdout",
     "output_type": "stream",
     "text": [
      "number : 1234 reminder : 5number : 123 reminder : 4number : 12 reminder : 3number : 1 reminder : 2number : 0 reminder : 1"
     ]
    }
   ],
   "source": [
    "n = 12345\n",
    "while(n>0):\n",
    "    rem = n%10\n",
    "    n = n//10\n",
    "    print(\"number :\",n,\"reminder :\", rem ,end = '')\n",
    "    "
   ]
  },
  {
   "cell_type": "markdown",
   "id": "8a08341b-aaa4-4e31-97bf-cd459b5efec6",
   "metadata": {},
   "source": [
    "### sum of digit "
   ]
  },
  {
   "cell_type": "code",
   "execution_count": 27,
   "id": "a7fa3980-c0ac-4c40-921e-b189a97a376b",
   "metadata": {},
   "outputs": [
    {
     "name": "stdout",
     "output_type": "stream",
     "text": [
      "15\n"
     ]
    }
   ],
   "source": [
    "n  = 12345\n",
    "a = 0\n",
    "while(n>0):\n",
    "    rem = n%10\n",
    "    a = a+rem\n",
    "    n= n//10\n",
    "print (a)"
   ]
  },
  {
   "cell_type": "markdown",
   "id": "b80fc9cb-698a-4b87-8818-54f0b7d6a257",
   "metadata": {},
   "source": [
    "## armstrong number"
   ]
  },
  {
   "cell_type": "code",
   "execution_count": 22,
   "id": "7db240eb-aa96-43cf-94de-7802c107caad",
   "metadata": {},
   "outputs": [
    {
     "name": "stdout",
     "output_type": "stream",
     "text": [
      "number : 0 reminder : 1 1\n",
      "153\n"
     ]
    }
   ],
   "source": [
    "n = 153\n",
    "original = n\n",
    "total = 0\n",
    "while(n>0):\n",
    "    rem  = n%10\n",
    "    n = n//10\n",
    "    total = total + rem**3\n",
    "print (\"number :\", n , \"reminder :\" ,rem , rem**3)\n",
    "print(total)"
   ]
  },
  {
   "cell_type": "code",
   "execution_count": null,
   "id": "50d77924-3a15-41da-aae7-f0d555afd12b",
   "metadata": {},
   "outputs": [],
   "source": []
  }
 ],
 "metadata": {
  "kernelspec": {
   "display_name": "Python 3 (ipykernel)",
   "language": "python",
   "name": "python3"
  },
  "language_info": {
   "codemirror_mode": {
    "name": "ipython",
    "version": 3
   },
   "file_extension": ".py",
   "mimetype": "text/x-python",
   "name": "python",
   "nbconvert_exporter": "python",
   "pygments_lexer": "ipython3",
   "version": "3.12.7"
  }
 },
 "nbformat": 4,
 "nbformat_minor": 5
}
