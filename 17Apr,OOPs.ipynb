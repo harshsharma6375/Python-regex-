{
 "cells": [
  {
   "cell_type": "markdown",
   "id": "6c12c6a4-9f88-43ba-a0cf-3b1fef4dfd31",
   "metadata": {},
   "source": [
    "# POLYMORPHISM"
   ]
  },
  {
   "cell_type": "markdown",
   "id": "61a8e436-6edd-4641-a7e2-fb4ae02dfbb6",
   "metadata": {},
   "source": [
    "## CASE STUDY 1 : Payement Processing System\n",
    "\n",
    "imagine a payment processing  system for an e-commerce  application .The system can handle credit cards, pay pal and bank transfers. Each payement method has a different imlementation the system treats them unfirmoly through ploymorphism ."
   ]
  },
  {
   "cell_type": "code",
   "execution_count": null,
   "id": "098bdd21-a4f9-4a78-a9c3-c2db7474def6",
   "metadata": {},
   "outputs": [],
   "source": [
    "class paymentmethod:\n",
    "    def process_payment(self,amount):\n",
    "        raise notimplementatederror(\"subclass must implement this method\")\n",
    "\n",
    "\n",
    "class creditcardpayment(paymentmethod):\n",
    "    def process_payment(self,amount):\n",
    "        print(f\"processing cc payment of ${amount}\")\n",
    "\n",
    "\n",
    "class paypalpayment(paymentmethod):\n",
    "     def process_payment(self,amount):\n",
    "        print(f\"processing paypal payment payment of ${amount}\")\n",
    "\n",
    "\n",
    "class banktransferpayment(paymentmethod):\n",
    "     def process_payment(self,amount):\n",
    "        print(f\"processing bank transfer payment of ${amount}\")\n",
    "\n",
    "def process_transaction(payment_method,amount):\n",
    "    payment_method.process_payment(amount)\n",
    "\n",
    "if __name__ == \"__main__\":\n",
    "    Credit_card = creditcardpayment()\n",
    "    Paypal = paypalpayment()\n",
    "    Bank_transfer = banktransferpayment()\n",
    "\n",
    "\n",
    "    process_transaction(Credit_card,100.50)\n",
    "    process_transaction(Paypal,200.56)\n",
    "    process_transaction(Bank_transfer,500.00)\n",
    "    \n",
    "    "
   ]
  },
  {
   "cell_type": "markdown",
   "id": "d22976da-1682-40c4-8981-e9c233397131",
   "metadata": {},
   "source": [
    "## CASE STUDY2 : EMPLOYEE MANAGEMENT SYSTEM\n",
    "In a company, there are different types of employees, such as full-time employees, part-time employees, and freelancers. Each type of employee has a different way of calculating their salary. Polymorphism can be used to handle this scenario by defining a common interface for salary calculation and letting each employee type implement their specific logic."
   ]
  },
  {
   "cell_type": "code",
   "execution_count": 12,
   "id": "e2019943-f8a4-41fc-8dd4-3cebb0ae5177",
   "metadata": {},
   "outputs": [
    {
     "name": "stdout",
     "output_type": "stream",
     "text": [
      "full time -->\n",
      "Salary: $50000\n",
      "\n",
      "part time -->\n",
      "Salary: $20000\n",
      "\n",
      "freelancer -->\n",
      "Salary: $12000\n"
     ]
    }
   ],
   "source": [
    "class Employee:\n",
    "    def calculate_salary(self):\n",
    "        raise NotImplementedError(\"Subclass must implement this method\")\n",
    "\n",
    "\n",
    "class FullTimeEmployee(Employee):\n",
    "    def __init__(self, monthly_salary):\n",
    "        self.monthly_salary = monthly_salary\n",
    "\n",
    "    def calculate_salary(self):\n",
    "        return self.monthly_salary\n",
    "\n",
    "\n",
    "class PartTimeEmployee(Employee):\n",
    "    def __init__(self, hourly_rate, hours_worked):\n",
    "        self.hourly_rate = hourly_rate\n",
    "        self.hours_worked = hours_worked\n",
    "\n",
    "    def calculate_salary(self):\n",
    "        return self.hourly_rate * self.hours_worked\n",
    "\n",
    "\n",
    "class Freelancer(Employee):\n",
    "    def __init__(self, project_rate, projects_done):\n",
    "        self.project_rate = project_rate\n",
    "        self.projects_done = projects_done\n",
    "\n",
    "    def calculate_salary(self):\n",
    "        return self.project_rate * self.projects_done\n",
    "\n",
    "\n",
    "def process_salary(employee):\n",
    "    print(f\"Salary: ${employee.calculate_salary()}\")\n",
    "\n",
    "# real-life usage\n",
    "if __name__ == \"__main__\":\n",
    "\n",
    "    # create instances of diff types of employees\n",
    "    full_time = FullTimeEmployee(50000)\n",
    "    part_time = PartTimeEmployee(1000, 20)\n",
    "    freelancer = Freelancer(3000, 4)\n",
    "\n",
    "    # display salaries using polymorphism\n",
    "    print(\"full time -->\") \n",
    "    process_salary(full_time)\n",
    "    print(\"\\npart time -->\")\n",
    "    process_salary(part_time)\n",
    "    print(\"\\nfreelancer -->\")\n",
    "    process_salary(freelancer)\n"
   ]
  },
  {
   "cell_type": "code",
   "execution_count": null,
   "id": "66a729ae-1ba1-449b-95cc-e3364fcdf066",
   "metadata": {},
   "outputs": [],
   "source": []
  },
  {
   "cell_type": "code",
   "execution_count": null,
   "id": "8e5ec5c3-0d67-4c8f-8eed-c690cf04b1df",
   "metadata": {},
   "outputs": [],
   "source": []
  },
  {
   "cell_type": "code",
   "execution_count": null,
   "id": "951b2b07-fb92-44f3-8412-15db1bdb0692",
   "metadata": {},
   "outputs": [],
   "source": []
  },
  {
   "cell_type": "code",
   "execution_count": null,
   "id": "17c8e3fa-7ec4-4702-ad8c-9e907143e3b0",
   "metadata": {},
   "outputs": [],
   "source": []
  },
  {
   "cell_type": "markdown",
   "id": "e6c00950-54f2-4436-9cf5-c5950c34b992",
   "metadata": {},
   "source": [
    "---> what is overriding?\n",
    "\n",
    "it is a feauter in oops where a subclass provides a specific implementation for a method that is already define in its parent class. the overriden method is the subclass will be executed instead of one in the parent class when called on an when instance of the subclass.\n",
    "\n",
    "--> Key points -->\n",
    "\n",
    "1) it happens btw a parent classs and a child class.\n",
    "2) the method in the child class must have the same name and parameters as the method int he parent classs.\n",
    "3) it is used to provide sepecific behaviour in a subclass.\n",
    "--> what is overloading in python?\n",
    "\n",
    "it allows the same func or operator to behave diffrently based on the number or type of arguments.\n",
    "\n",
    "@ why python doesnt suuport method overloading directly, it can be mimicked usinf default arguments or by checking argument types.\n",
    "\n",
    "--> Key points of overloading :-\n",
    "\n",
    "1) it allows the same func  to handle diff numbers or types of inputs."
   ]
  },
  {
   "cell_type": "code",
   "execution_count": null,
   "id": "800ef8ca-6b79-40b6-87c9-f9e434721367",
   "metadata": {},
   "outputs": [],
   "source": []
  }
 ],
 "metadata": {
  "kernelspec": {
   "display_name": "Python 3 (ipykernel)",
   "language": "python",
   "name": "python3"
  },
  "language_info": {
   "codemirror_mode": {
    "name": "ipython",
    "version": 3
   },
   "file_extension": ".py",
   "mimetype": "text/x-python",
   "name": "python",
   "nbconvert_exporter": "python",
   "pygments_lexer": "ipython3",
   "version": "3.12.7"
  }
 },
 "nbformat": 4,
 "nbformat_minor": 5
}
