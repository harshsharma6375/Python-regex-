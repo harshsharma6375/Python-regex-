{
 "cells": [
  {
   "cell_type": "markdown",
   "id": "9e523e66-b55d-429b-89b2-d7f619c7a450",
   "metadata": {},
   "source": [
    "### FIRST CLASS FUNCTION AND HIGH ORDER FUNCTION"
   ]
  },
  {
   "cell_type": "markdown",
   "id": "4010517e-01d3-49b8-ab33-d0dfe0abe230",
   "metadata": {},
   "source": [
    "##### FIRST CLASS FUNCTION ."
   ]
  },
  {
   "cell_type": "code",
   "execution_count": null,
   "id": "103512c9-d50c-4837-bcc2-4a57531057b3",
   "metadata": {},
   "outputs": [],
   "source": [
    "# we store the function in a variable \n",
    "# we can pass a function as a parameter to another function\n",
    "# return the function from the function \n",
    "# store them in a tuple , lists , tables ,hash as a data structure ."
   ]
  },
  {
   "cell_type": "code",
   "execution_count": 4,
   "id": "30bc0d25-51e4-4c00-a89c-042f121a1e30",
   "metadata": {},
   "outputs": [],
   "source": [
    "def outer_func():\n",
    "    print(\"this is function outer \")"
   ]
  },
  {
   "cell_type": "code",
   "execution_count": 5,
   "id": "be30412c-fd9f-4476-a1f2-8ca85d9ba149",
   "metadata": {},
   "outputs": [
    {
     "name": "stdout",
     "output_type": "stream",
     "text": [
      "this is function outer \n"
     ]
    }
   ],
   "source": [
    "x = outer_func\n",
    "outer_func()"
   ]
  },
  {
   "cell_type": "code",
   "execution_count": 7,
   "id": "ddca9e7e-95c3-446c-ae31-6d42cd488646",
   "metadata": {},
   "outputs": [
    {
     "name": "stdout",
     "output_type": "stream",
     "text": [
      "test function 10\n"
     ]
    }
   ],
   "source": [
    "def outer_func():\n",
    "    print(\"this is function outer \")\n",
    "\n",
    "\n",
    "def test(x):\n",
    "    print(\"test function\",x)\n",
    "\n",
    "test(10)"
   ]
  },
  {
   "cell_type": "markdown",
   "id": "b1ce2ead-4daa-4bb0-91ed-cdb849601ac0",
   "metadata": {},
   "source": [
    "#### HIGH ORDER FUNCTION"
   ]
  },
  {
   "cell_type": "markdown",
   "id": "338fb375-c470-448e-81dc-27c1803c53e1",
   "metadata": {},
   "source": [
    " higher-order function because it takes another function as an argument.\n",
    "\n"
   ]
  },
  {
   "cell_type": "code",
   "execution_count": 11,
   "id": "a637a420-2b72-4650-a14b-88385e3a1993",
   "metadata": {},
   "outputs": [
    {
     "name": "stdout",
     "output_type": "stream",
     "text": [
      "this is function outer \n",
      "test function x = >  None\n"
     ]
    }
   ],
   "source": [
    "def outer_func():\n",
    "    print(\"this is function outer \")\n",
    "\n",
    "\n",
    "def test(x):\n",
    "    print(\"test function x = > \",x)\n",
    "\n",
    "test(outer_func())"
   ]
  },
  {
   "cell_type": "code",
   "execution_count": 13,
   "id": "801f0595-620e-4dfb-97c4-41a7af32d782",
   "metadata": {},
   "outputs": [
    {
     "name": "stdout",
     "output_type": "stream",
     "text": [
      "test function x = >  this is function outer \n"
     ]
    }
   ],
   "source": [
    "def outer_func():\n",
    "    return(\"this is function outer \")\n",
    "\n",
    "\n",
    "def test(x):\n",
    "    print(\"test function x = > \",x)\n",
    "\n",
    "test(outer_func() ) # with RETURN "
   ]
  },
  {
   "cell_type": "code",
   "execution_count": 18,
   "id": "d53d09c7-ef2a-4d32-a0ba-ffb6d8537080",
   "metadata": {},
   "outputs": [
    {
     "name": "stdout",
     "output_type": "stream",
     "text": [
      "test function x = >  <function outer_func at 0x00000214CDF18EA0>\n",
      "calling x = >  this is function outer \n"
     ]
    }
   ],
   "source": [
    "def outer_func():\n",
    "    return(\"this is function outer \")\n",
    "\n",
    "\n",
    "def test(x):\n",
    "    print(\"test function x = > \",x)\n",
    "    print(\"calling x = > \",x())\n",
    "test(outer_func ) #without bracket it gives the memory address of outer function "
   ]
  },
  {
   "cell_type": "code",
   "execution_count": null,
   "id": "8218ee72-278d-4c3e-a781-0856d4d2d1f7",
   "metadata": {},
   "outputs": [],
   "source": [
    "# example "
   ]
  },
  {
   "cell_type": "code",
   "execution_count": 19,
   "id": "51f48170-f1a1-4ef7-af2d-923d4aaa0e80",
   "metadata": {},
   "outputs": [],
   "source": [
    "def func(num):\n",
    "    if num%2==0:\n",
    "        return (\"even\")\n",
    "\n",
    "    else :\n",
    "        return (\"odd\")"
   ]
  },
  {
   "cell_type": "code",
   "execution_count": 20,
   "id": "75e31a53-3fa6-42c7-91d8-3af8e8b59b55",
   "metadata": {},
   "outputs": [
    {
     "data": {
      "text/plain": [
       "'odd'"
      ]
     },
     "execution_count": 20,
     "metadata": {},
     "output_type": "execute_result"
    }
   ],
   "source": [
    "func(15)"
   ]
  },
  {
   "cell_type": "code",
   "execution_count": 11,
   "id": "bb6e8c3d-cade-4998-b542-18c5bf008a75",
   "metadata": {},
   "outputs": [
    {
     "name": "stdout",
     "output_type": "stream",
     "text": [
      "lcm is  210\n"
     ]
    }
   ],
   "source": [
    "def lcm_check(x,y):\n",
    "   \n",
    "    if x>y:\n",
    "        greater = x\n",
    "    \n",
    "    else :\n",
    "        greater = y\n",
    "    \n",
    "    while (True):\n",
    "        if (greater%x==0 and greater %y==0):\n",
    "            print(\"lcm is \", greater )\n",
    "            break\n",
    "    \n",
    "        else:\n",
    "            greater+=1\n",
    "lcm_check(10,21)"
   ]
  },
  {
   "cell_type": "code",
   "execution_count": 12,
   "id": "254b6e16-7d30-49c6-8e74-71ab6d5a4e6e",
   "metadata": {},
   "outputs": [],
   "source": [
    "# with the help of high order "
   ]
  },
  {
   "cell_type": "code",
   "execution_count": null,
   "id": "562d2d9c-8b4c-4100-ac67-5b500b586688",
   "metadata": {},
   "outputs": [],
   "source": []
  },
  {
   "cell_type": "code",
   "execution_count": 13,
   "id": "89a7dbdf-a61f-4bf9-bd67-c897613a13f1",
   "metadata": {},
   "outputs": [
    {
     "data": {
      "text/plain": [
       "420"
      ]
     },
     "execution_count": 13,
     "metadata": {},
     "output_type": "execute_result"
    }
   ],
   "source": [
    "def lcm_check(x,y):\n",
    "   \n",
    "    if x>y:\n",
    "        greater = x\n",
    "    \n",
    "    else:\n",
    "        greater = y\n",
    "    \n",
    "    while (True):\n",
    "        if (greater%x==0 and greater %y==0):\n",
    "            return greater \n",
    "            \n",
    "    \n",
    "        else:\n",
    "            greater+=1\n",
    "            \n",
    "lcm_check(lcm_check(10,21) ,4)"
   ]
  },
  {
   "cell_type": "code",
   "execution_count": 18,
   "id": "81d34f87-6413-4721-a7b4-330425fe9b23",
   "metadata": {},
   "outputs": [
    {
     "name": "stdout",
     "output_type": "stream",
     "text": [
      "6\n"
     ]
    }
   ],
   "source": [
    "mydict  = {10:lcm_check}\n",
    "print(mydict[10](2,3))  #lcm check "
   ]
  },
  {
   "cell_type": "code",
   "execution_count": 15,
   "id": "abf4fe3d-7b71-4d88-8799-85d3108375f3",
   "metadata": {},
   "outputs": [
    {
     "name": "stdout",
     "output_type": "stream",
     "text": [
      "amb\n",
      "<function func at 0x000001D530FBA7A0>\n"
     ]
    }
   ],
   "source": [
    "def func():\n",
    "    print(\"amb\")\n",
    "    mydict = {10:func}\n",
    "    for i in mydict.values():\n",
    "        print(i)\n",
    "\n",
    "func()"
   ]
  },
  {
   "cell_type": "code",
   "execution_count": 16,
   "id": "d928edba-364f-422b-a13c-9654426de04a",
   "metadata": {},
   "outputs": [
    {
     "name": "stdout",
     "output_type": "stream",
     "text": [
      "amb\n",
      "<function func at 0x000001D530FBA020>\n",
      "<function func at 0x000001D530FBA020>\n",
      "<function func at 0x000001D530FBA020>\n"
     ]
    }
   ],
   "source": [
    "def func():\n",
    "    print(\"amb\")\n",
    "    d={45:func,46:func,47:func}\n",
    "    for i in d.values():\n",
    "        print(i)\n",
    "func()"
   ]
  },
  {
   "cell_type": "markdown",
   "id": "1ef6979b-5e0b-4ea7-aff1-b81b42412e2f",
   "metadata": {},
   "source": [
    "create a function that ascepts dict as a parameter .If the variable is present as a key in a dict , So we have to print True or otherwise return False . "
   ]
  },
  {
   "cell_type": "code",
   "execution_count": 3,
   "id": "caf19261-7629-4ee3-a65f-cf0eb10c2484",
   "metadata": {},
   "outputs": [
    {
     "name": "stdin",
     "output_type": "stream",
     "text": [
      "enter the value of n: 5\n"
     ]
    },
    {
     "data": {
      "text/plain": [
       "False"
      ]
     },
     "execution_count": 3,
     "metadata": {},
     "output_type": "execute_result"
    }
   ],
   "source": [
    "def func(n):\n",
    "    d={1:\"aman\",2:\"harsh\",3:\"alfez\"}\n",
    "    n=int(input(\"enter the value of n:\"))\n",
    "    for i in d.items():\n",
    "        if (n in d ):\n",
    "            return True\n",
    "        else:\n",
    "            return False\n",
    "func(5)"
   ]
  },
  {
   "cell_type": "code",
   "execution_count": null,
   "id": "7590cd1c-a51d-48d2-b8f2-8b0ef05420dc",
   "metadata": {},
   "outputs": [],
   "source": []
  }
 ],
 "metadata": {
  "kernelspec": {
   "display_name": "Python 3 (ipykernel)",
   "language": "python",
   "name": "python3"
  },
  "language_info": {
   "codemirror_mode": {
    "name": "ipython",
    "version": 3
   },
   "file_extension": ".py",
   "mimetype": "text/x-python",
   "name": "python",
   "nbconvert_exporter": "python",
   "pygments_lexer": "ipython3",
   "version": "3.12.7"
  }
 },
 "nbformat": 4,
 "nbformat_minor": 5
}
