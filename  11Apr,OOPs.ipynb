{
 "cells": [
  {
   "cell_type": "markdown",
   "id": "b3385165-bd4d-4dba-8f47-c527cf256af3",
   "metadata": {},
   "source": [
    "## OOPs"
   ]
  },
  {
   "cell_type": "code",
   "execution_count": 11,
   "id": "4183269c-7a8e-4787-9319-35eecc4976f3",
   "metadata": {},
   "outputs": [],
   "source": [
    "# Object oriented progrmming\n",
    "# oops is a programming paradigm based on the concepts of object.\n",
    "# these object can contain data in an attributes and funcality and its methods.\n",
    "# python is a object oriented programming which means it supports oops principle like \n",
    "#  encapsulation,inheritance,ploymorphism and abstraction.\n",
    "\n",
    "# why we use oops?\n",
    "\n",
    "# 1) Reusablity  --> code can be reused through inheritance and classes reducing redandancy.\n",
    "\n",
    "# 2) MODULARITY --> programs are divided into objects making them easier to understand and maintainable.\n",
    "\n",
    "# 3) Data protection --> encapsulation helps restrict excess to access certain part of object.\n",
    "\n",
    "# 4) Polymorphism / flexibility --> it allows the same interface to intereact with different types of object.\n",
    "\n",
    "# KEY CONCEPTS OF OOPS -->\n",
    "\n",
    "# 1) Class --> a class is a blueprint for creating objects it defines a structure to hold \n",
    "#               data(attributes) and fucntions(methods) related to that object.\n",
    "\n",
    "\n",
    "# 2) Objects --> an objects is instance of a class it represent a sepcific entity created using the class blueprint.\n",
    "\n",
    "# 3) Self Keyword --> self is reference to the current instance of class it allows as to access the object attributes \n",
    "#    and methods it must the first parameter in instance methods when calling a method self is passed automatically.\n",
    "\n",
    "#  WHAT HAPPEN WHEN WE DONTUSE ?\n",
    "\n",
    "# the method will not have a will to refer to the object calling will. python will raise a error when trying to aceess\n",
    "# instance attributes or methods inside the class as they are not explicity connected to the instance."
   ]
  },
  {
   "cell_type": "code",
   "execution_count": 2,
   "id": "97980226-d2d7-4888-ac2f-1a05572785de",
   "metadata": {},
   "outputs": [
    {
     "name": "stdout",
     "output_type": "stream",
     "text": [
      "name of student is :aman and branch cs and year if third\n"
     ]
    }
   ],
   "source": [
    "class student:\n",
    "    def __init__(self,name,branch,semester):\n",
    "        self.name = name\n",
    "        self.branch = branch\n",
    "        self.semester=semester\n",
    "    def getinfo(self):\n",
    "        print(f\"name of student is :{self.name} and branch {self.branch} and year if {self.semester}\")\n",
    "a=student(\"aman\",\"cs\",\"third\")\n",
    "a.getinfo()"
   ]
  },
  {
   "cell_type": "code",
   "execution_count": 9,
   "id": "37847df7-f0b9-4345-a968-bf5b1bf16d13",
   "metadata": {},
   "outputs": [
    {
     "name": "stdout",
     "output_type": "stream",
     "text": [
      "name:ram and age :22 and gender : male\n"
     ]
    }
   ],
   "source": [
    "class  student:\n",
    "    def __init__(self , name,age,gender):\n",
    "        self.name = name\n",
    "        self.age = age \n",
    "        self.gender = gender\n",
    "\n",
    "    def getinfo(self):\n",
    "        print(f\"name:{self.name} and age :{self.age} and gender : {self.gender}\")\n",
    "\n",
    "a = student(\"ram\" , \"22\",\"male\")\n",
    "a.getinfo()"
   ]
  },
  {
   "cell_type": "code",
   "execution_count": 13,
   "id": "db9c1e9a-2670-4b4a-aea0-0b8b04ede39f",
   "metadata": {
    "scrolled": true
   },
   "outputs": [
    {
     "name": "stdin",
     "output_type": "stream",
     "text": [
      "enter your value: 10\n"
     ]
    },
    {
     "ename": "ValueError",
     "evalue": "too many values to unpack (expected 2)",
     "output_type": "error",
     "traceback": [
      "\u001b[1;31m---------------------------------------------------------------------------\u001b[0m",
      "\u001b[1;31mValueError\u001b[0m                                Traceback (most recent call last)",
      "Cell \u001b[1;32mIn[13], line 13\u001b[0m\n\u001b[0;32m     11\u001b[0m \u001b[38;5;28;01mdef\u001b[39;00m\u001b[38;5;250m \u001b[39m\u001b[38;5;21mgetinfo\u001b[39m(\u001b[38;5;28mself\u001b[39m):\n\u001b[0;32m     12\u001b[0m         \u001b[38;5;28mprint\u001b[39m(\u001b[38;5;124mf\u001b[39m\u001b[38;5;124m\"\u001b[39m\u001b[38;5;124mname:\u001b[39m\u001b[38;5;132;01m{\u001b[39;00m\u001b[38;5;28mself\u001b[39m\u001b[38;5;241m.\u001b[39mname\u001b[38;5;132;01m}\u001b[39;00m\u001b[38;5;124m  and balance : \u001b[39m\u001b[38;5;132;01m{\u001b[39;00m\u001b[38;5;28mself\u001b[39m\u001b[38;5;241m.\u001b[39mbalance\u001b[38;5;132;01m}\u001b[39;00m\u001b[38;5;124m\"\u001b[39m)\n\u001b[1;32m---> 13\u001b[0m a\u001b[38;5;241m=\u001b[39macount(\u001b[38;5;124m\"\u001b[39m\u001b[38;5;124maman\u001b[39m\u001b[38;5;124m\"\u001b[39m,\u001b[38;5;241m10\u001b[39m)\n\u001b[0;32m     14\u001b[0m a\u001b[38;5;241m.\u001b[39mgetinfo()\n",
      "Cell \u001b[1;32mIn[13], line 9\u001b[0m, in \u001b[0;36macount.__init__\u001b[1;34m(self, name, balance)\u001b[0m\n\u001b[0;32m      7\u001b[0m \u001b[38;5;28;01mif\u001b[39;00m \u001b[38;5;28mself\u001b[39m\u001b[38;5;241m.\u001b[39mname \u001b[38;5;241m==\u001b[39m \u001b[38;5;124m\"\u001b[39m\u001b[38;5;124maman\u001b[39m\u001b[38;5;124m\"\u001b[39m:\n\u001b[0;32m      8\u001b[0m     balance\u001b[38;5;241m=\u001b[39m\u001b[38;5;28mint\u001b[39m(\u001b[38;5;28minput\u001b[39m(\u001b[38;5;124m\"\u001b[39m\u001b[38;5;124menter your value:\u001b[39m\u001b[38;5;124m\"\u001b[39m))\n\u001b[1;32m----> 9\u001b[0m     \u001b[38;5;28;01mfor\u001b[39;00m i,y \u001b[38;5;129;01min\u001b[39;00m new:\n\u001b[0;32m     10\u001b[0m         \u001b[38;5;28mprint\u001b[39m(y\u001b[38;5;241m+\u001b[39mbalance)\n",
      "\u001b[1;31mValueError\u001b[0m: too many values to unpack (expected 2)"
     ]
    }
   ],
   "source": [
    "new = {\"aman\":10}\n",
    "class acount:\n",
    "    def __init__(self, name,balance):\n",
    "        self.name = name\n",
    "        self.balance = balance\n",
    "\n",
    "        if self.name == \"aman\":\n",
    "            balance=int(input(\"enter your value:\"))\n",
    "            for i,y in new:\n",
    "                print(y+balance)\n",
    "def getinfo(self):\n",
    "        print(f\"name:{self.name}  and balance : {self.balance}\")\n",
    "a=acount(\"aman\",10)\n",
    "a.getinfo()"
   ]
  },
  {
   "cell_type": "code",
   "execution_count": 14,
   "id": "6ee3eb9b-fa4e-4e70-b134-5786b0b218fc",
   "metadata": {},
   "outputs": [
    {
     "name": "stdin",
     "output_type": "stream",
     "text": [
      "Enter your value:  10\n"
     ]
    },
    {
     "name": "stdout",
     "output_type": "stream",
     "text": [
      "Name: aman and Balance: 20\n"
     ]
    }
   ],
   "source": [
    "new = {\"aman\": 10}\n",
    "\n",
    "class Account:\n",
    "    def __init__(self, name, balance):\n",
    "        self.name = name\n",
    "        self.balance = balance\n",
    "\n",
    "        if self.name in new:\n",
    "            additional = int(input(\"Enter your value: \"))\n",
    "            self.balance = new[self.name] + additional\n",
    "            new[self.name] = self.balance  # Update the dict\n",
    "\n",
    "    def getinfo(self):\n",
    "        print(f\"Name: {self.name} and Balance: {self.balance}\")\n",
    "\n",
    "a = Account(\"aman\", 10)\n",
    "a.getinfo()"
   ]
  },
  {
   "cell_type": "code",
   "execution_count": 22,
   "id": "9e9967fe-b118-4eda-8972-da9352571e04",
   "metadata": {},
   "outputs": [
    {
     "name": "stdin",
     "output_type": "stream",
     "text": [
      "Enter your value:  10\n"
     ]
    },
    {
     "name": "stdout",
     "output_type": "stream",
     "text": [
      "name:aman  and balance : 20\n"
     ]
    }
   ],
   "source": [
    "new = {\"aman\":10}\n",
    "class acount:\n",
    "    def __init__(self, name,balance):\n",
    "        self.name = name\n",
    "        self.balance = balance\n",
    "        \n",
    "        if self.name in new:\n",
    "            additional = int(input(\"Enter your value: \"))\n",
    "            self.balance = new[self.name] + additional\n",
    "            new[self.name] = self.balance \n",
    "    def getinfo(self):\n",
    "        print(f\"name:{self.name}  and balance : {self.balance}\")\n",
    "a=acount(\"aman\",10)\n",
    "a.getinfo()"
   ]
  },
  {
   "cell_type": "code",
   "execution_count": null,
   "id": "cfdd763e-cc31-4bdf-83a3-745662c6c200",
   "metadata": {},
   "outputs": [],
   "source": [
    "new = {\"aman\":10,\"hae\":15}\n",
    "class acount:\n",
    "    def __init__(self, name,balance):\n",
    "        self.name = name\n",
    "        self.balance = balance\n",
    "        \n",
    "        if self.name in new:\n",
    "            additional = int(input(\"Enter your value: \"))\n",
    "            self.balance = new[self.name] + additional\n",
    "            new[self.name] = self.balance \n",
    "    def getinfo(self):\n",
    "        print(f\"name:{self.name}  and balance : {self.balance}\")\n",
    "a=acount(\"aman\",10)\n",
    "a.getinfo()"
   ]
  },
  {
   "cell_type": "code",
   "execution_count": 27,
   "id": "c887f653-4542-4cd2-9ac2-fb227a6eeb45",
   "metadata": {},
   "outputs": [
    {
     "name": "stdin",
     "output_type": "stream",
     "text": [
      "Enter your value:  25\n"
     ]
    },
    {
     "name": "stdout",
     "output_type": "stream",
     "text": [
      "name: hae  and balance: 40\n"
     ]
    }
   ],
   "source": [
    "new = {\"aman\": 10, \"hae\": 15}\n",
    "\n",
    "class acount:\n",
    "    def __init__(self, name, balance):\n",
    "        self.name = name\n",
    "        self.balance = balance\n",
    "\n",
    "        if self.name in new:\n",
    "            additional = int(input(\"Enter your value: \"))\n",
    "            self.balance = new[self.name] + additional\n",
    "            new[self.name] = self.balance\n",
    "\n",
    "    def getinfo(self):\n",
    "        return(f\"name: {self.name}  and balance: {self.balance}\")\n",
    "\n",
    "# For user \"hae\"\n",
    "a = acount(\"hae\", 15)\n",
    "print(a.getinfo())\n"
   ]
  },
  {
   "cell_type": "code",
   "execution_count": null,
   "id": "f9b8b038-6790-4539-bb10-d0a3086ead19",
   "metadata": {},
   "outputs": [],
   "source": []
  }
 ],
 "metadata": {
  "kernelspec": {
   "display_name": "Python 3 (ipykernel)",
   "language": "python",
   "name": "python3"
  },
  "language_info": {
   "codemirror_mode": {
    "name": "ipython",
    "version": 3
   },
   "file_extension": ".py",
   "mimetype": "text/x-python",
   "name": "python",
   "nbconvert_exporter": "python",
   "pygments_lexer": "ipython3",
   "version": "3.12.7"
  }
 },
 "nbformat": 4,
 "nbformat_minor": 5
}
