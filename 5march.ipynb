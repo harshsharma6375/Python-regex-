{
 "cells": [
  {
   "cell_type": "code",
   "execution_count": 2,
   "id": "d9e3e436-ec27-46e5-828f-fee4dc1fd7ee",
   "metadata": {},
   "outputs": [
    {
     "name": "stdout",
     "output_type": "stream",
     "text": [
      "number divisible  1\n",
      "number divisible  2\n",
      "number divisible  4\n"
     ]
    }
   ],
   "source": [
    "n = 8\n",
    "for i in range(1,8):\n",
    "    if (n%i==0):\n",
    "        print(\"number divisible \",i)"
   ]
  },
  {
   "cell_type": "markdown",
   "id": "73a1d9ae-cc30-41cc-9bc7-0cfc2b7dd6da",
   "metadata": {},
   "source": [
    "## factors "
   ]
  },
  {
   "cell_type": "code",
   "execution_count": 5,
   "id": "c5576865-a68d-43f9-8749-5b0435057dfd",
   "metadata": {},
   "outputs": [
    {
     "name": "stdout",
     "output_type": "stream",
     "text": [
      "factor of 10: 1\n",
      "factor of 10: 3\n",
      "factor of 10: 5\n",
      "factor of 10: 15\n"
     ]
    }
   ],
   "source": [
    "n= 15\n",
    "for i in range(1,n+1):\n",
    "    if (n%i == 0):\n",
    "        print(\"factor of 10:\",i)"
   ]
  },
  {
   "cell_type": "code",
   "execution_count": 6,
   "id": "71e577d8-c16a-499d-beaa-285761c02dd8",
   "metadata": {},
   "outputs": [
    {
     "name": "stdout",
     "output_type": "stream",
     "text": [
      "factor of 10: 1\n",
      "factor of 10: 2\n",
      "factor of 10: 5\n",
      "factor of 10: 10\n"
     ]
    }
   ],
   "source": [
    "n= 10\n",
    "for i in range(1,n+1):\n",
    "    if (n%i == 0):\n",
    "        print(\"factor of 10:\",i)"
   ]
  },
  {
   "cell_type": "markdown",
   "id": "06b06f87-0493-4d0d-9176-2ac3ff31d6cb",
   "metadata": {},
   "source": [
    "## prime number"
   ]
  },
  {
   "cell_type": "code",
   "execution_count": 8,
   "id": "8e2fd11f-c874-4069-83f3-317277778d8a",
   "metadata": {},
   "outputs": [
    {
     "name": "stdin",
     "output_type": "stream",
     "text": [
      "enter the number  21\n"
     ]
    },
    {
     "name": "stdout",
     "output_type": "stream",
     "text": [
      "not a prime number  21\n"
     ]
    }
   ],
   "source": [
    "n = int(input (\"enter the number \"))\n",
    "advance = 0\n",
    "for i in range(2,n):\n",
    "    if (n%i==0 ):\n",
    "        \n",
    "        print(\"not a prime number \",n)\n",
    "        advance = 1\n",
    "        break\n",
    "\n",
    "if (advance == 0):\n",
    "    print(\"prime number \",n)\n",
    "\n",
    "    "
   ]
  },
  {
   "cell_type": "code",
   "execution_count": 6,
   "id": "539caa62-1150-4cd1-9ea2-a90cdae159c9",
   "metadata": {},
   "outputs": [
    {
     "name": "stdout",
     "output_type": "stream",
     "text": [
      "hello 1\n",
      "hello 2\n",
      "hello 3\n",
      "hello 4\n",
      "outside statement  1\n"
     ]
    }
   ],
   "source": [
    "indicator = 0\n",
    "for x in range (1,10):\n",
    "    if(x==5):\n",
    "        indicator = 1\n",
    "        break\n",
    "\n",
    "    print(\"hello\",x)\n",
    "\n",
    "print(\"outside statement \",indicator )"
   ]
  },
  {
   "cell_type": "code",
   "execution_count": null,
   "id": "d5dc39f9-98dc-4f49-b281-f2cb32203b92",
   "metadata": {},
   "outputs": [],
   "source": []
  },
  {
   "cell_type": "markdown",
   "id": "853d415b-0800-40f1-96e1-9c2849d7ea27",
   "metadata": {},
   "source": [
    "### for with else "
   ]
  },
  {
   "cell_type": "markdown",
   "id": "17894c61-84f2-42e4-b853-03b994e6e2d8",
   "metadata": {},
   "source": [
    "don't use this because it only support in python "
   ]
  },
  {
   "cell_type": "code",
   "execution_count": null,
   "id": "ee0ea9e9-d2ce-4b49-8237-866204899543",
   "metadata": {},
   "outputs": [],
   "source": [
    "Q1 Run a  for loop "
   ]
  },
  {
   "cell_type": "code",
   "execution_count": 2,
   "id": "8566270b-290b-4b0e-aff3-986b7a710e6f",
   "metadata": {},
   "outputs": [
    {
     "name": "stdout",
     "output_type": "stream",
     "text": [
      "3\n"
     ]
    }
   ],
   "source": [
    "n = 27\n",
    "indicator = 0\n",
    "for i in range(2,10):\n",
    "    if (n%i==0):\n",
    "        print(i)\n",
    "        indicator = 1\n",
    "        break"
   ]
  },
  {
   "cell_type": "markdown",
   "id": "91addfb9-4f2f-47f5-ba60-c0fd84987e55",
   "metadata": {},
   "source": [
    "Q2) # take a number 40\n",
    "#factor ka sum \n",
    "#2,4,5,8,10"
   ]
  },
  {
   "cell_type": "code",
   "execution_count": 11,
   "id": "316e7c9e-803c-4941-a7a8-5b1522208229",
   "metadata": {},
   "outputs": [
    {
     "name": "stdout",
     "output_type": "stream",
     "text": [
      "1\n",
      "2\n",
      "4\n",
      "5\n",
      "8\n",
      "10\n",
      "20\n",
      "40\n",
      "90\n"
     ]
    }
   ],
   "source": [
    "s  = 0\n",
    "for i in range (1,41):\n",
    "    if (40%i==0):\n",
    "        print(i)\n",
    "        s = s+i\n",
    "\n",
    "print(s)"
   ]
  },
  {
   "cell_type": "markdown",
   "id": "98a67806-f92f-4628-90c2-5645310cf158",
   "metadata": {},
   "source": [
    "## factorial of a number "
   ]
  },
  {
   "cell_type": "code",
   "execution_count": 6,
   "id": "30d852a3-a29f-4068-bc16-eaafc8692878",
   "metadata": {},
   "outputs": [
    {
     "name": "stdout",
     "output_type": "stream",
     "text": [
      "120\n"
     ]
    }
   ],
   "source": [
    "\n",
    "fact = 1\n",
    "for i in range(1,6):\n",
    "    fact = fact*i\n",
    "\n",
    "print(fact)\n",
    "    "
   ]
  },
  {
   "cell_type": "markdown",
   "id": "779e2d40-97c9-4624-9dc2-f7c1a1bf6b70",
   "metadata": {},
   "source": [
    "### fabonacci number "
   ]
  },
  {
   "cell_type": "code",
   "execution_count": 30,
   "id": "e9445b56-ccac-4512-b6a4-2dcab3b919b2",
   "metadata": {},
   "outputs": [
    {
     "name": "stdin",
     "output_type": "stream",
     "text": [
      "enter your number 10\n"
     ]
    },
    {
     "name": "stdout",
     "output_type": "stream",
     "text": [
      "0 1 1 2 3 5 8 13 21 34 "
     ]
    }
   ],
   "source": [
    "n = int(input(\"enter your number\"))\n",
    "a=0\n",
    "b=1\n",
    "print (a,b,end = ' ') \n",
    "count = 2\n",
    "\n",
    "while count< n:\n",
    "    c = a + b\n",
    "    print(c, end = ' ') \n",
    "    a, b = b, c\n",
    "    count += 1"
   ]
  },
  {
   "cell_type": "code",
   "execution_count": null,
   "id": "25807260-038e-47e2-b25c-7a85bd349a7f",
   "metadata": {},
   "outputs": [],
   "source": []
  }
 ],
 "metadata": {
  "kernelspec": {
   "display_name": "Python 3 (ipykernel)",
   "language": "python",
   "name": "python3"
  },
  "language_info": {
   "codemirror_mode": {
    "name": "ipython",
    "version": 3
   },
   "file_extension": ".py",
   "mimetype": "text/x-python",
   "name": "python",
   "nbconvert_exporter": "python",
   "pygments_lexer": "ipython3",
   "version": "3.12.7"
  }
 },
 "nbformat": 4,
 "nbformat_minor": 5
}
