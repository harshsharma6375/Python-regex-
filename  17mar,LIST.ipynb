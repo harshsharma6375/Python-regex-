{
 "cells": [
  {
   "cell_type": "markdown",
   "id": "eacbcdb4-2cdc-4a11-97e3-71bf10244545",
   "metadata": {},
   "source": [
    "# list\n",
    "#datatype\n",
    "#multiple store "
   ]
  },
  {
   "cell_type": "code",
   "execution_count": 2,
   "id": "e661d22b-17e1-4411-b66a-f9cf6f765ad4",
   "metadata": {},
   "outputs": [
    {
     "name": "stdout",
     "output_type": "stream",
     "text": [
      "[10, 20, 30, 40]\n"
     ]
    }
   ],
   "source": [
    "#ordered => index position\n",
    "mylist = [10,20,30]\n",
    "mylist.append (40)\n",
    "print(mylist)"
   ]
  },
  {
   "cell_type": "code",
   "execution_count": 3,
   "id": "b16d7943-e512-446b-a717-afd365dd8995",
   "metadata": {},
   "outputs": [
    {
     "name": "stdout",
     "output_type": "stream",
     "text": [
      "[10, 20, 30, 'hey']\n"
     ]
    }
   ],
   "source": [
    "#ordered => index position \n",
    "mylist = [10,20,30,]\n",
    "mylist.append(\"hey\")\n",
    "print(mylist)"
   ]
  },
  {
   "cell_type": "code",
   "execution_count": 5,
   "id": "00a394c4-d050-41ff-8f25-6aafd85f7f1e",
   "metadata": {},
   "outputs": [
    {
     "name": "stdout",
     "output_type": "stream",
     "text": [
      "[10, 20, 30, 'h', 'e', 'y', 'hey']\n"
     ]
    }
   ],
   "source": [
    "##ordered => index position \n",
    "mylist = [10,20,30,]\n",
    "mylist.extend(\"hey\")\n",
    "mylist.extend([\"hey\"])        #extend take iterable value  \n",
    "print(mylist)"
   ]
  },
  {
   "cell_type": "code",
   "execution_count": 7,
   "id": "7318f329-87e7-4ad7-bac3-a5c1b432097d",
   "metadata": {},
   "outputs": [
    {
     "name": "stdout",
     "output_type": "stream",
     "text": [
      "[10, 20, 30, 'h', 'e', 'y', 'hey']\n",
      "[10, 20, 30, 'h', 'e', 'y']\n"
     ]
    }
   ],
   "source": [
    "print(mylist)\n",
    "mylist.pop()\n",
    "print(mylist)"
   ]
  },
  {
   "cell_type": "code",
   "execution_count": 10,
   "id": "b0b91b48-6df3-490c-b43c-205272a0fa05",
   "metadata": {},
   "outputs": [
    {
     "name": "stdout",
     "output_type": "stream",
     "text": [
      "[10, 20, 'e', 'y']\n",
      "[10, 20, 'y'] e\n"
     ]
    }
   ],
   "source": [
    "print(mylist)\n",
    "x = mylist.pop(2)\n",
    "print(mylist,x)"
   ]
  },
  {
   "cell_type": "code",
   "execution_count": 11,
   "id": "e0f05952-f5aa-419b-a0f9-f76dd9d83396",
   "metadata": {},
   "outputs": [
    {
     "name": "stdout",
     "output_type": "stream",
     "text": [
      "[1, 2, 2, 3, 4, 10, 12]\n"
     ]
    }
   ],
   "source": [
    "mylist = [10,2,3,4,2,1,12]\n",
    "mylist.sort()\n",
    "print(mylist)"
   ]
  },
  {
   "cell_type": "code",
   "execution_count": 12,
   "id": "ee984541-b2de-4cb0-8629-57452f2a04d8",
   "metadata": {},
   "outputs": [
    {
     "name": "stdout",
     "output_type": "stream",
     "text": [
      "10\n",
      "2\n",
      "3\n",
      "4\n",
      "2\n",
      "1\n",
      "12\n"
     ]
    }
   ],
   "source": [
    "mylist = [10,2,3,4,2,1,12]\n",
    "for i in mylist:\n",
    "    print(i)"
   ]
  },
  {
   "cell_type": "markdown",
   "id": "5f85a00f-ee46-4740-8037-e5389a5d2808",
   "metadata": {},
   "source": [
    "#### showing indexing with the list "
   ]
  },
  {
   "cell_type": "code",
   "execution_count": 14,
   "id": "98fdf184-ca6e-4ed0-8f10-8c4c95482c23",
   "metadata": {},
   "outputs": [
    {
     "name": "stdout",
     "output_type": "stream",
     "text": [
      "0 10\n",
      "1 2\n",
      "2 3\n",
      "3 4\n",
      "4 2\n",
      "5 1\n",
      "6 12\n"
     ]
    }
   ],
   "source": [
    "mylist = [10,2,3,4,2,1,12]\n",
    "for i in range (0,len(mylist)):\n",
    "    print(i,mylist[i])"
   ]
  },
  {
   "cell_type": "markdown",
   "id": "b2b9dd6b-da24-4ae1-bc0c-0d7683c2148d",
   "metadata": {},
   "source": [
    "## 1 to 100 print and add into a list "
   ]
  },
  {
   "cell_type": "code",
   "execution_count": 2,
   "id": "5a2785d3-f367-4d04-8a24-d6184c76607a",
   "metadata": {},
   "outputs": [
    {
     "name": "stdout",
     "output_type": "stream",
     "text": [
      "[1, 2, 3, 4, 5, 6, 7, 8, 9, 10, 11, 12, 13, 14, 15, 16, 17, 18, 19, 20, 21, 22, 23, 24, 25, 26, 27, 28, 29, 30, 31, 32, 33, 34, 35, 36, 37, 38, 39, 40, 41, 42, 43, 44, 45, 46, 47, 48, 49, 50, 51, 52, 53, 54, 55, 56, 57, 58, 59, 60, 61, 62, 63, 64, 65, 66, 67, 68, 69, 70, 71, 72, 73, 74, 75, 76, 77, 78, 79, 80, 81, 82, 83, 84, 85, 86, 87, 88, 89, 90, 91, 92, 93, 94, 95, 96, 97, 98, 99, 100]\n"
     ]
    }
   ],
   "source": [
    "mylist = []\n",
    "for i in range (1,101):\n",
    "    mylist.append(i)\n",
    "print(mylist)"
   ]
  },
  {
   "cell_type": "markdown",
   "id": "942a0f64-9643-4605-95a6-4eb9a4970ccd",
   "metadata": {},
   "source": [
    "## checking the input value is equal to the value of list"
   ]
  },
  {
   "cell_type": "code",
   "execution_count": 28,
   "id": "fa39fc68-908a-46fa-8975-5eede8fd0807",
   "metadata": {},
   "outputs": [
    {
     "name": "stdin",
     "output_type": "stream",
     "text": [
      "enter value  33\n"
     ]
    },
    {
     "name": "stdout",
     "output_type": "stream",
     "text": [
      "unmatched\n"
     ]
    }
   ],
   "source": [
    "mylist = [10,40,30,40]\n",
    "x = int(input(\"enter value \"))\n",
    "a = 0\n",
    "for i in mylist:\n",
    "    if(x==i):\n",
    "        a = 1\n",
    "        break\n",
    "\n",
    "if (a == 1):\n",
    "    print(\"value matched\")\n",
    "    \n",
    "else:\n",
    "    print(\"unmatched\")\n",
    "        "
   ]
  },
  {
   "cell_type": "markdown",
   "id": "d27e6eed-313d-4f26-93e0-bb23cb7cab1b",
   "metadata": {},
   "source": [
    "## counting the list for the given value  "
   ]
  },
  {
   "cell_type": "code",
   "execution_count": 29,
   "id": "a279702f-bca7-47a4-aa3f-6dec3a670264",
   "metadata": {},
   "outputs": [
    {
     "name": "stdout",
     "output_type": "stream",
     "text": [
      "2\n"
     ]
    }
   ],
   "source": [
    "mylist = [40,20,30,40]\n",
    "x = 40\n",
    "count = 0\n",
    "for i in range(0,len(mylist)):\n",
    "    if(x==mylist[i]):\n",
    "        count = count+1 \n",
    "print(count)"
   ]
  },
  {
   "cell_type": "code",
   "execution_count": 48,
   "id": "a1e6a0ab-fd99-4aad-8c7b-801b933230ee",
   "metadata": {},
   "outputs": [
    {
     "name": "stdout",
     "output_type": "stream",
     "text": [
      "4\n"
     ]
    }
   ],
   "source": [
    "mylist = [10,20,10,30,10,10,40,40]\n",
    "x = mylist[0]\n",
    "count = 1\n",
    "for i in range(1,len(mylist)):\n",
    "    if(x==mylist[i]):\n",
    "        count = count+1 \n",
    "print(count)"
   ]
  },
  {
   "cell_type": "code",
   "execution_count": 14,
   "id": "7e5cf17f-4798-4231-ab4e-4b44e7239b1f",
   "metadata": {},
   "outputs": [
    {
     "name": "stdout",
     "output_type": "stream",
     "text": [
      "---------\n",
      "---------\n",
      "---------\n",
      "---------\n",
      "---------\n",
      "---------\n",
      "count=> 6\n"
     ]
    }
   ],
   "source": [
    "mylist = [10,20,10,30,10,10,40,40]\n",
    "count = 0\n",
    "for i in range (0,len(mylist)-2):\n",
    "    for j in range (i+1,len(mylist)):\n",
    "        if(mylist[i]==mylist[j]):\n",
    "            count+=1\n",
    "        \n",
    "            print(\"---------\")\n",
    "  \n",
    "print(\"count=>\",count)"
   ]
  },
  {
   "cell_type": "markdown",
   "id": "878ab33e-d570-4606-b8d0-0fd8723fd120",
   "metadata": {},
   "source": [
    "## prime number "
   ]
  },
  {
   "cell_type": "code",
   "execution_count": 35,
   "id": "95e8c88b-349b-420d-903b-62d0f1a2c830",
   "metadata": {},
   "outputs": [
    {
     "name": "stdin",
     "output_type": "stream",
     "text": [
      "enter the value  1\n"
     ]
    },
    {
     "name": "stdout",
     "output_type": "stream",
     "text": [
      "prime\n"
     ]
    }
   ],
   "source": [
    "num = int (input (\"enter the value \"))\n",
    "x = 0\n",
    "for i in range (2,num):\n",
    "    if (num%i==0):\n",
    "        x = 1\n",
    "        break\n",
    "        \n",
    "if (x==0):\n",
    "    print(\"prime\")\n",
    "else :\n",
    "    print(\"not\")"
   ]
  },
  {
   "cell_type": "code",
   "execution_count": 5,
   "id": "76c781c5-1b82-4530-b0e0-4e39a36fafb5",
   "metadata": {},
   "outputs": [
    {
     "name": "stdin",
     "output_type": "stream",
     "text": [
      "enter the number 21\n"
     ]
    },
    {
     "name": "stdout",
     "output_type": "stream",
     "text": [
      "not\n"
     ]
    }
   ],
   "source": [
    "num = int(input(\"enter the number\"))\n",
    "x = 0\n",
    "for i in range (2,num):\n",
    "    if (num%i==0):\n",
    "        x = 1\n",
    "        break\n",
    "\n",
    "if (x == 0 ):\n",
    "    print(\"prime\")\n",
    "\n",
    "else :\n",
    "    print(\"not\")"
   ]
  },
  {
   "cell_type": "code",
   "execution_count": 9,
   "id": "5491815e-1e18-41d0-913c-4a9a4125fb70",
   "metadata": {},
   "outputs": [
    {
     "name": "stdout",
     "output_type": "stream",
     "text": [
      "2\n"
     ]
    }
   ],
   "source": [
    "mylist = [10,20,1,0,10,30]\n",
    "x = mylist [0]\n",
    "count = 0\n",
    "for i in range (0,len(mylist)):\n",
    "    if x == mylist[i]:\n",
    "        count+=1\n",
    "\n",
    "print(count)"
   ]
  },
  {
   "cell_type": "code",
   "execution_count": null,
   "id": "30da0918-3a83-48a5-93aa-f495d894099f",
   "metadata": {},
   "outputs": [],
   "source": []
  }
 ],
 "metadata": {
  "kernelspec": {
   "display_name": "Python 3 (ipykernel)",
   "language": "python",
   "name": "python3"
  },
  "language_info": {
   "codemirror_mode": {
    "name": "ipython",
    "version": 3
   },
   "file_extension": ".py",
   "mimetype": "text/x-python",
   "name": "python",
   "nbconvert_exporter": "python",
   "pygments_lexer": "ipython3",
   "version": "3.12.7"
  }
 },
 "nbformat": 4,
 "nbformat_minor": 5
}
