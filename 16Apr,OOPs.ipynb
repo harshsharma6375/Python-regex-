{
 "cells": [
  {
   "cell_type": "markdown",
   "id": "88c117c2-b80b-4dfd-bf6a-6d3c215f30c8",
   "metadata": {},
   "source": [
    "## Static Method ->\n",
    "A static method is a method that doesn't operate or either the class or the instance.\n",
    "\n",
    "It behaves like a regular function but is defined inside a class for logical grouping .\n",
    "\n",
    "It is marked with (@static method decorator)\n",
    "\n",
    "#features of static method \n",
    "\n",
    "1) Doesn't require self or cls as parameter .\n",
    "\n",
    "2) Can't modify class or instance ,attribute .\n",
    "\n",
    "3) Useful for utility or helper methods that do not rely on the class or instance . "
   ]
  },
  {
   "cell_type": "code",
   "execution_count": 3,
   "id": "730c225c-de6d-40b8-be66-daab8ea5d40e",
   "metadata": {},
   "outputs": [
    {
     "name": "stdout",
     "output_type": "stream",
     "text": [
      "name of employee is sam and role is frontend developer \n",
      "this is a great job\n",
      "total =  11\n"
     ]
    }
   ],
   "source": [
    "class employee:\n",
    "    location = \"jaipur\"\n",
    "\n",
    "    def __init__(self,name,role):\n",
    "        self.name = name\n",
    "        self.role = role\n",
    "\n",
    "    def getinfo(self):\n",
    "        print(F\"name of employee is {self.name} and role is {self.role}\")\n",
    "\n",
    "    @staticmethod\n",
    "    def newinfo():\n",
    "        print(f\"this is a great job\")\n",
    "        a =5 \n",
    "        b = 6\n",
    "        c =a+b\n",
    "        print(\"total = \", c)\n",
    "\n",
    "a = employee (\"sam\", \"frontend developer \")\n",
    "a.getinfo()\n",
    "a.newinfo()"
   ]
  },
  {
   "cell_type": "markdown",
   "id": "440e485c-c927-41fa-a758-67e494369b09",
   "metadata": {},
   "source": [
    "## super method"
   ]
  },
  {
   "cell_type": "markdown",
   "id": "23335fd4-51f5-4be0-9663-be83a3b6b364",
   "metadata": {},
   "source": [
    "The super is used to call a method from the parent class in the context of Inheritance .\n",
    "\n",
    "It allows us to avoid explicity referring to the parent class and makes the code more maintainable\n",
    "\n",
    "Features of Super Method \n",
    "\n",
    "1) excess parent class methods or attributes .\n",
    "\n",
    "2) useful in multilevel or multiple inheritance .\n",
    "\n",
    "3) helps in avoiding code repetation"
   ]
  },
  {
   "cell_type": "code",
   "execution_count": 4,
   "id": "05523ce2-7199-4455-bf99-4c0e88cf50dc",
   "metadata": {},
   "outputs": [
    {
     "name": "stdout",
     "output_type": "stream",
     "text": [
      "hello,i am sam from the parent class\n",
      "i am 10 years old from the child class\n"
     ]
    }
   ],
   "source": [
    "class parent:\n",
    "    def __init__(self,name):\n",
    "        self.name = name\n",
    "\n",
    "    def greet(self):\n",
    "        print (f\"hello,i am {self.name} from the parent class\")\n",
    "\n",
    "class child(parent):\n",
    "    def __init__(self,name,age):\n",
    "        super().__init__(name) # call the parent __init__ method\n",
    "        self.age = age\n",
    "\n",
    "    def greet(self):\n",
    "        super().greet() #call the parents greet method\n",
    "        print(f\"i am {self.age} years old from the child class\")\n",
    "\n",
    "## usage \n",
    "child = child(\"sam\",10)\n",
    "child.greet()"
   ]
  },
  {
   "cell_type": "markdown",
   "id": "6c56bf12-2045-44c4-83de-7bd204c1fe99",
   "metadata": {},
   "source": [
    "## POLYMORSPHISM "
   ]
  },
  {
   "cell_type": "markdown",
   "id": "a4840b17-e2f6-4be6-86af-60a878c27e41",
   "metadata": {},
   "source": [
    "why we use polymorphism ?\n",
    "\n",
    "1) it allows object of diff classes to be treated as object of a common super class it unables a single interfreance \n",
    "   to represent diff underline forms\n",
    "\n",
    " --> this makes the code more flexible , reuseable and easier to extend.\n",
    "\n",
    "KEY BENEFITS OF POLYMORSPHISM:->\n",
    "\n",
    " 1) Code reuseablity --> we can write more generic codes that works with object of diff types.\n",
    " 2) Flexibility --> new classes can be added with minimal changes to existing code.\n",
    " 3) Readabilty -->  simplies complex logic by using a  single method name for multiple actions."
   ]
  },
  {
   "cell_type": "code",
   "execution_count": 2,
   "id": "95c966cc-e457-4629-bf0a-e7124836c2a6",
   "metadata": {},
   "outputs": [
    {
     "name": "stdout",
     "output_type": "stream",
     "text": [
      "Dog barks\n",
      "Cat meows\n"
     ]
    }
   ],
   "source": [
    "class Animal:\n",
    "    def speak(self):\n",
    "        print(\"Animal makes a sound\")\n",
    "\n",
    "class Dog(Animal):\n",
    "    def speak(self):\n",
    "        print(\"Dog barks\")\n",
    "\n",
    "class Cat(Animal):\n",
    "    def speak(self):\n",
    "        print(\"Cat meows\")\n",
    "\n",
    "\n",
    "for animal in [Dog(), Cat()]:\n",
    "    animal.speak()\n"
   ]
  },
  {
   "cell_type": "code",
   "execution_count": null,
   "id": "e2aa6bed-a45f-4abe-ba9a-31a12cc15184",
   "metadata": {},
   "outputs": [],
   "source": []
  }
 ],
 "metadata": {
  "kernelspec": {
   "display_name": "Python 3 (ipykernel)",
   "language": "python",
   "name": "python3"
  },
  "language_info": {
   "codemirror_mode": {
    "name": "ipython",
    "version": 3
   },
   "file_extension": ".py",
   "mimetype": "text/x-python",
   "name": "python",
   "nbconvert_exporter": "python",
   "pygments_lexer": "ipython3",
   "version": "3.12.7"
  }
 },
 "nbformat": 4,
 "nbformat_minor": 5
}
