{
 "cells": [
  {
   "cell_type": "code",
   "execution_count": 1,
   "id": "284dacde",
   "metadata": {},
   "outputs": [
    {
     "name": "stdout",
     "output_type": "stream",
     "text": [
      "hello  world\n"
     ]
    }
   ],
   "source": [
    "print(\"hello  world\")"
   ]
  },
  {
   "cell_type": "code",
   "execution_count": null,
   "id": "89d964e4",
   "metadata": {},
   "outputs": [],
   "source": []
  },
  {
   "cell_type": "code",
   "execution_count": 2,
   "id": "98238577",
   "metadata": {},
   "outputs": [
    {
     "name": "stdout",
     "output_type": "stream",
     "text": [
      "hello  world\n"
     ]
    }
   ],
   "source": [
    "print('hello  world')"
   ]
  },
  {
   "cell_type": "code",
   "execution_count": 4,
   "id": "a1087e6c",
   "metadata": {},
   "outputs": [
    {
     "name": "stdout",
     "output_type": "stream",
     "text": [
      "<class 'int'>\n"
     ]
    }
   ],
   "source": [
    "x = 10\n",
    "print(type (x))"
   ]
  },
  {
   "cell_type": "code",
   "execution_count": 5,
   "id": "b96ccd7a",
   "metadata": {},
   "outputs": [
    {
     "name": "stdout",
     "output_type": "stream",
     "text": [
      "<class 'str'>\n"
     ]
    }
   ],
   "source": [
    "x = \"10\"\n",
    "print(type (x))"
   ]
  },
  {
   "cell_type": "code",
   "execution_count": 6,
   "id": "aeb54722",
   "metadata": {},
   "outputs": [
    {
     "name": "stdout",
     "output_type": "stream",
     "text": [
      "my age is  40\n"
     ]
    }
   ],
   "source": [
    "age = 40\n",
    "print (\"my age is \",age )"
   ]
  },
  {
   "cell_type": "code",
   "execution_count": 8,
   "id": "047b15f6",
   "metadata": {},
   "outputs": [
    {
     "name": "stdout",
     "output_type": "stream",
     "text": [
      "regx\n",
      "software\n"
     ]
    }
   ],
   "source": [
    "print(\"regx\") ##end = \"\\n\"\n",
    "print(\"software\")"
   ]
  },
  {
   "cell_type": "code",
   "execution_count": 9,
   "id": "c174bdd2",
   "metadata": {},
   "outputs": [
    {
     "name": "stdout",
     "output_type": "stream",
     "text": [
      "regx-software\n"
     ]
    }
   ],
   "source": [
    "print(\"regx\" ,end = \"-\")\n",
    "print(\"software\")"
   ]
  },
  {
   "cell_type": "code",
   "execution_count": 10,
   "id": "1d1e8bb2",
   "metadata": {},
   "outputs": [
    {
     "name": "stdout",
     "output_type": "stream",
     "text": [
      "<class 'str'>\n"
     ]
    }
   ],
   "source": [
    "gender = \"male\"\n",
    "print(type(gender))"
   ]
  },
  {
   "cell_type": "code",
   "execution_count": 11,
   "id": "b1e3a9ca",
   "metadata": {},
   "outputs": [
    {
     "name": "stdout",
     "output_type": "stream",
     "text": [
      "<class 'str'>\n"
     ]
    }
   ],
   "source": [
    "gender = \"m\"\n",
    "print(type(gender))"
   ]
  },
  {
   "cell_type": "code",
   "execution_count": 12,
   "id": "da91fb36",
   "metadata": {},
   "outputs": [
    {
     "name": "stdout",
     "output_type": "stream",
     "text": [
      "<class 'str'>\n"
     ]
    }
   ],
   "source": [
    "gender = 'male'\n",
    "print(type(gender))"
   ]
  },
  {
   "cell_type": "code",
   "execution_count": 13,
   "id": "58363ce3",
   "metadata": {},
   "outputs": [],
   "source": [
    "# documentation = KT \n",
    "# documentation = comment "
   ]
  },
  {
   "cell_type": "markdown",
   "id": "048a56ef",
   "metadata": {},
   "source": [
    "## multi line comment "
   ]
  },
  {
   "cell_type": "code",
   "execution_count": 15,
   "id": "619305ed",
   "metadata": {},
   "outputs": [
    {
     "name": "stdout",
     "output_type": "stream",
     "text": [
      "jrdn\n"
     ]
    }
   ],
   "source": [
    "'''\n",
    "hjbciucbb\n",
    "djcbiubiub  \n",
    "'''\n",
    "# multi line comment \n",
    "print('jrdn')"
   ]
  },
  {
   "cell_type": "code",
   "execution_count": 17,
   "id": "d2814f7d",
   "metadata": {},
   "outputs": [
    {
     "name": "stdout",
     "output_type": "stream",
     "text": [
      "dbshbhj\n",
      "sdijnjnid\n"
     ]
    }
   ],
   "source": [
    "address = '''dbshbhj\n",
    "sdijnjnid'''\n",
    "print(address)  #multi line string "
   ]
  },
  {
   "cell_type": "code",
   "execution_count": null,
   "id": "499b4140",
   "metadata": {},
   "outputs": [],
   "source": []
  },
  {
   "cell_type": "markdown",
   "id": "c7625a44",
   "metadata": {},
   "source": [
    " ## string formating"
   ]
  },
  {
   "cell_type": "code",
   "execution_count": 18,
   "id": "130ac3ea",
   "metadata": {},
   "outputs": [
    {
     "name": "stdout",
     "output_type": "stream",
     "text": [
      "year is  2024\n"
     ]
    }
   ],
   "source": [
    "#string formating \n",
    "year = 2024\n",
    "company = \"regex\"\n",
    "print(\"year is \",year )"
   ]
  },
  {
   "cell_type": "code",
   "execution_count": null,
   "id": "38385619",
   "metadata": {},
   "outputs": [],
   "source": []
  },
  {
   "cell_type": "code",
   "execution_count": null,
   "id": "10e987bf",
   "metadata": {},
   "outputs": [],
   "source": []
  },
  {
   "cell_type": "code",
   "execution_count": 22,
   "id": "1265f0e8",
   "metadata": {},
   "outputs": [
    {
     "name": "stdout",
     "output_type": "stream",
     "text": [
      "year is ,year ,company is  regex\n"
     ]
    }
   ],
   "source": [
    "#string formating \n",
    "year = 2024\n",
    "company = \"regex\"\n",
    "print(\"year is \",year ,\"company is \", company)"
   ]
  },
  {
   "cell_type": "code",
   "execution_count": 24,
   "id": "f317c213",
   "metadata": {},
   "outputs": [
    {
     "name": "stdout",
     "output_type": "stream",
     "text": [
      "year is 2024 company is regex\n"
     ]
    }
   ],
   "source": [
    "print(f\"year is {year} company is {company}\")"
   ]
  },
  {
   "cell_type": "code",
   "execution_count": 26,
   "id": "79c510ed",
   "metadata": {},
   "outputs": [
    {
     "name": "stdout",
     "output_type": "stream",
     "text": [
      "hey user harsh\n",
      "hey user harsh\n"
     ]
    }
   ],
   "source": [
    "username = \"harsh\"\n",
    "msg = f\"hey user {username}\"\n",
    "\n",
    "print(msg)\n",
    "username = \"sharma\"\n",
    "print(msg)"
   ]
  },
  {
   "cell_type": "markdown",
   "id": "e27552ee",
   "metadata": {},
   "source": [
    "## .format method "
   ]
  },
  {
   "cell_type": "code",
   "execution_count": 27,
   "id": "82c31221",
   "metadata": {},
   "outputs": [
    {
     "data": {
      "text/plain": [
       "'year is 2024'"
      ]
     },
     "execution_count": 27,
     "metadata": {},
     "output_type": "execute_result"
    }
   ],
   "source": [
    "# .format method \n",
    "\n",
    "\"year is {}\" .format(2024)"
   ]
  },
  {
   "cell_type": "code",
   "execution_count": 28,
   "id": "323f73fd",
   "metadata": {},
   "outputs": [
    {
     "data": {
      "text/plain": [
       "'year is 2024 comapny name is regex'"
      ]
     },
     "execution_count": 28,
     "metadata": {},
     "output_type": "execute_result"
    }
   ],
   "source": [
    "\"year is {} comapny name is {}\" .format (2024,\"regex\")"
   ]
  },
  {
   "cell_type": "code",
   "execution_count": 29,
   "id": "4af21be1",
   "metadata": {},
   "outputs": [
    {
     "data": {
      "text/plain": [
       "'year is 2024 comapny name is regex'"
      ]
     },
     "execution_count": 29,
     "metadata": {},
     "output_type": "execute_result"
    }
   ],
   "source": [
    "year = 2024\n",
    "company = \"regex\"\n",
    "\"year is {} comapny name is {}\" .format (2024,\"regex\")"
   ]
  },
  {
   "cell_type": "code",
   "execution_count": null,
   "id": "6c040a9a",
   "metadata": {},
   "outputs": [],
   "source": []
  }
 ],
 "metadata": {
  "kernelspec": {
   "display_name": "Python 3 (ipykernel)",
   "language": "python",
   "name": "python3"
  },
  "language_info": {
   "codemirror_mode": {
    "name": "ipython",
    "version": 3
   },
   "file_extension": ".py",
   "mimetype": "text/x-python",
   "name": "python",
   "nbconvert_exporter": "python",
   "pygments_lexer": "ipython3",
   "version": "3.11.4"
  }
 },
 "nbformat": 4,
 "nbformat_minor": 5
}
