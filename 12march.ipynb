{
 "cells": [
  {
   "cell_type": "code",
   "execution_count": 9,
   "id": "d2fb2b90-b5d0-4e4c-a726-54109fff419a",
   "metadata": {},
   "outputs": [
    {
     "name": "stdout",
     "output_type": "stream",
     "text": [
      "0 N 4 N\n",
      "1 A 3 A\n",
      "2 M 2 M\n",
      "3 A 1 A\n",
      "4 N 0 N\n"
     ]
    }
   ],
   "source": [
    "data = \"NAMAN\"\n",
    "start = 0\n",
    "end= len(data)-1\n",
    "print(start,data[start],end,data[end])\n",
    "\n",
    "start+=1\n",
    "end=end-1\n",
    "print(start,data[start],end,data[end])\n",
    "\n",
    "\n",
    "start+=1\n",
    "end=end-1\n",
    "print(start,data[start],end,data[end])\n",
    "\n",
    "start+=1\n",
    "end=end-1\n",
    "print(start,data[start],end,data[end])\n",
    "\n",
    "start+=1\n",
    "end=end-1\n",
    "print(start,data[start],end,data[end])"
   ]
  },
  {
   "cell_type": "code",
   "execution_count": 13,
   "id": "1f27dbb9-ae55-4d14-beb5-73bbdcb2846d",
   "metadata": {},
   "outputs": [
    {
     "name": "stdout",
     "output_type": "stream",
     "text": [
      "0 N 4 T\n",
      "1 A 3 Z\n",
      "2 M 2 M\n",
      "3 Z 1 A\n"
     ]
    }
   ],
   "source": [
    "data = \"NAMZT\"\n",
    "start = 0\n",
    "end= len(data)-1\n",
    "print(start,data[start],end,data[end])\n",
    "\n",
    "start+=1\n",
    "end=end-1\n",
    "print(start,data[start],end,data[end])\n",
    "\n",
    "start+=1\n",
    "end=end-1\n",
    "print(start,data[start],end,data[end])\n",
    "\n",
    "\n",
    "start+=1\n",
    "end=end-1\n",
    "print(start,data[start],end,data[end])\n",
    "\n",
    "\n"
   ]
  },
  {
   "cell_type": "code",
   "execution_count": 24,
   "id": "bb0add81-0b20-4af0-9eb0-7d0325356a36",
   "metadata": {},
   "outputs": [
    {
     "name": "stdout",
     "output_type": "stream",
     "text": [
      "string is not  pallindrome \n"
     ]
    }
   ],
   "source": [
    "data = \"NAMZT\"\n",
    "start = 0\n",
    "end= len(data)-1\n",
    "\n",
    "x = 0 #indicator \n",
    "while(start<len(data)):# (0 < 5)\n",
    "    if (data[start] != data[end]):\n",
    "        x = 1\n",
    "        break\n",
    "    print(start,data[start],end,data[end])\n",
    "    start+=1\n",
    "    end-=1\n",
    "if (x==1):\n",
    "    print(\"string is not  pallindrome \")\n",
    "\n",
    "else :\n",
    "    print(\" pallindrome \")"
   ]
  },
  {
   "cell_type": "code",
   "execution_count": 25,
   "id": "dba1533d-4f10-4384-a562-c74fad1f30ec",
   "metadata": {},
   "outputs": [
    {
     "name": "stdout",
     "output_type": "stream",
     "text": [
      "0 N 4 N\n",
      "1 A 3 A\n",
      "2 M 2 M\n",
      "3 A 1 A\n",
      "4 N 0 N\n",
      " pallindrome \n"
     ]
    }
   ],
   "source": [
    "data = \"NAMAN\"\n",
    "start = 0\n",
    "end= len(data)-1\n",
    "\n",
    "x = 0 #indicator \n",
    "while(start<len(data)):# (0 < 5)\n",
    "    if (data[start] != data[end]):\n",
    "        x = 1\n",
    "        break\n",
    "    print(start,data[start],end,data[end])\n",
    "    start+=1\n",
    "    end-=1\n",
    "if (x==1):\n",
    "    print(\"string is not  pallindrome \")\n",
    "\n",
    "else :\n",
    "    print(\" pallindrome \")"
   ]
  },
  {
   "cell_type": "markdown",
   "id": "6fa05fda-f7db-4dd6-89be-0033cee261b5",
   "metadata": {},
   "source": [
    "with the help of two pointer approach we have to find out who many time does \"r\" occurs in the strin"
   ]
  },
  {
   "cell_type": "code",
   "execution_count": 28,
   "id": "506e62c2-82b5-41f0-8df2-44a7c1d57096",
   "metadata": {},
   "outputs": [
    {
     "name": "stdout",
     "output_type": "stream",
     "text": [
      "4\n"
     ]
    }
   ],
   "source": [
    "data = \"rajrtrhr\"\n",
    "start = 0\n",
    "end= len(data)-1\n",
    "count = 1\n",
    "# (0 < 5)  rajrt\n",
    " \n",
    "while(end > 0 ): \n",
    "    \n",
    "    if (data[start] == data[end]):\n",
    "        count+=1\n",
    "\n",
    "    end-=1\n",
    "\n",
    "print(count)\n",
    "   \n",
    " "
   ]
  },
  {
   "cell_type": "markdown",
   "id": "e5836adb-f77a-4022-830e-f81154e4990b",
   "metadata": {},
   "source": [
    "## list"
   ]
  },
  {
   "cell_type": "code",
   "execution_count": 29,
   "id": "3da94873-5567-4bb2-a717-dd9fe30fa8b5",
   "metadata": {},
   "outputs": [],
   "source": [
    "#type of a datatype \n",
    "#used to collect and store data \n",
    "#multiple datatype values can be store\n",
    "# mutuable  - we can change \n",
    "#ordered collection of elements "
   ]
  },
  {
   "cell_type": "code",
   "execution_count": 41,
   "id": "0aaeb175-a014-49b0-9ebf-cac91e4545bb",
   "metadata": {},
   "outputs": [],
   "source": [
    "person = [10,\"heena \", 1890]"
   ]
  },
  {
   "cell_type": "code",
   "execution_count": 42,
   "id": "83995609-bcc2-4be2-89d0-c895642cb9c8",
   "metadata": {},
   "outputs": [
    {
     "data": {
      "text/plain": [
       "[10, 'heena ', 1890]"
      ]
     },
     "execution_count": 42,
     "metadata": {},
     "output_type": "execute_result"
    }
   ],
   "source": [
    "person"
   ]
  },
  {
   "cell_type": "code",
   "execution_count": 43,
   "id": "6ddc4918-3c84-46e7-acfa-cb0074cba8a5",
   "metadata": {},
   "outputs": [
    {
     "data": {
      "text/plain": [
       "10"
      ]
     },
     "execution_count": 43,
     "metadata": {},
     "output_type": "execute_result"
    }
   ],
   "source": [
    " person[0]"
   ]
  },
  {
   "cell_type": "code",
   "execution_count": 44,
   "id": "70a4643b-40ea-499b-99e1-865bfd266f18",
   "metadata": {},
   "outputs": [
    {
     "data": {
      "text/plain": [
       "'heena '"
      ]
     },
     "execution_count": 44,
     "metadata": {},
     "output_type": "execute_result"
    }
   ],
   "source": [
    "person[-2]"
   ]
  },
  {
   "cell_type": "code",
   "execution_count": 50,
   "id": "66345e53-f8ee-4308-bb04-97a42e8c760c",
   "metadata": {},
   "outputs": [
    {
     "name": "stdout",
     "output_type": "stream",
     "text": [
      "[70, 12, 13, 14, 15]\n"
     ]
    }
   ],
   "source": [
    "mylist = [100,12,13,14,15]\n",
    "mylist [0] = 70 #change \n",
    "print(mylist )"
   ]
  },
  {
   "cell_type": "code",
   "execution_count": 52,
   "id": "88481d99-c8c9-4d27-8fc5-69b0607bdea8",
   "metadata": {},
   "outputs": [
    {
     "name": "stdout",
     "output_type": "stream",
     "text": [
      "[100, 12, 13, 14, 70]\n"
     ]
    }
   ],
   "source": [
    "mylist = [100,12,13,14,15]\n",
    "mylist [4] = 70 #change \n",
    "print(mylist )"
   ]
  },
  {
   "cell_type": "code",
   "execution_count": 54,
   "id": "ace1794d-344e-45ce-9686-f7f19acae1c7",
   "metadata": {},
   "outputs": [
    {
     "name": "stdout",
     "output_type": "stream",
     "text": [
      "[100, 12, 13, 14, 15, 10]\n"
     ]
    }
   ],
   "source": [
    "mylist = [100,12,13,14,15]\n",
    "#insert append \n",
    "mylist.append(10) \n",
    "print(mylist )"
   ]
  },
  {
   "cell_type": "code",
   "execution_count": 57,
   "id": "d4548000-9785-4931-ad92-46b152212974",
   "metadata": {},
   "outputs": [
    {
     "data": {
      "text/plain": [
       "[100, 12, 13, 14, 15, 10]"
      ]
     },
     "execution_count": 57,
     "metadata": {},
     "output_type": "execute_result"
    }
   ],
   "source": [
    "mylist = [100,12,13,14,15]\n",
    "#insert append \n",
    "mylist.append(10) \n",
    "(mylist ) # we should use print in this because in jupyter if there is any thing written below the printing list it doesnt show the output \n",
    "#x = 100"
   ]
  },
  {
   "cell_type": "code",
   "execution_count": 67,
   "id": "de908e01-a841-4f5a-b0e5-b5ed674ec2a6",
   "metadata": {},
   "outputs": [
    {
     "name": "stdout",
     "output_type": "stream",
     "text": [
      "[50, 12, 13, 14, 15, 10]\n"
     ]
    }
   ],
   "source": [
    "mylist = [100,12,13,14,15]\n",
    "mylist[0] = 50\n",
    "mylist.append(10) \n",
    "print(mylist )"
   ]
  },
  {
   "cell_type": "code",
   "execution_count": 68,
   "id": "b15da208-161d-4bf8-b7a3-93b97a05f4cd",
   "metadata": {},
   "outputs": [
    {
     "name": "stdout",
     "output_type": "stream",
     "text": [
      "[50, 12, 13, 14, 15]\n"
     ]
    }
   ],
   "source": [
    "mylist.pop() #it deletes the last value as by default \n",
    "print(mylist)#it deletes when you have a index of particular "
   ]
  },
  {
   "cell_type": "code",
   "execution_count": 69,
   "id": "5ee6f39d-0f4b-4b98-81b3-52f3b9afb958",
   "metadata": {},
   "outputs": [
    {
     "data": {
      "text/plain": [
       "[50, 12, 13, 14, 15]"
      ]
     },
     "execution_count": 69,
     "metadata": {},
     "output_type": "execute_result"
    }
   ],
   "source": [
    "mylist"
   ]
  },
  {
   "cell_type": "code",
   "execution_count": 70,
   "id": "e312ea16-0af5-49c4-8bf8-6b9867a40726",
   "metadata": {},
   "outputs": [
    {
     "name": "stdout",
     "output_type": "stream",
     "text": [
      "[50, 12, 13, 14] out=> 15\n"
     ]
    }
   ],
   "source": [
    "out = mylist.pop()\n",
    "print(mylist,\"out=>\",out)"
   ]
  },
  {
   "cell_type": "code",
   "execution_count": 72,
   "id": "0b852bd3-72f2-4472-b13e-3ef2e6543496",
   "metadata": {},
   "outputs": [
    {
     "name": "stdout",
     "output_type": "stream",
     "text": [
      "[100, 12, 14, 15]\n"
     ]
    }
   ],
   "source": [
    "mylist = [100,12,13,14,15]\n",
    "mylist.remove(13) #it doesnot reurn the value but pop does \n",
    "print(mylist )"
   ]
  },
  {
   "cell_type": "code",
   "execution_count": 73,
   "id": "9bd747b8-d46c-4b6f-a770-e419c0e74cbc",
   "metadata": {},
   "outputs": [],
   "source": [
    "x= 10\n",
    "del  x"
   ]
  },
  {
   "cell_type": "code",
   "execution_count": 74,
   "id": "bc1426cf-fb9c-484f-8a9c-618e709304ea",
   "metadata": {},
   "outputs": [
    {
     "name": "stdout",
     "output_type": "stream",
     "text": [
      "[14, 15, 10]\n"
     ]
    }
   ],
   "source": [
    "mylist = [100,12,13,14,15]\n",
    "del mylist[0:3]\n",
    "mylist.append(10) #it appends at the and only bydefault\n",
    "print(mylist )"
   ]
  },
  {
   "cell_type": "code",
   "execution_count": 87,
   "id": "f2aabd46-dc5a-4c2e-b731-179864757a17",
   "metadata": {},
   "outputs": [
    {
     "data": {
      "text/plain": [
       "[80, 14, 15, 10]"
      ]
     },
     "execution_count": 87,
     "metadata": {},
     "output_type": "execute_result"
    }
   ],
   "source": [
    "mylist"
   ]
  },
  {
   "cell_type": "code",
   "execution_count": 88,
   "id": "bd4c86c6-68e8-4c05-82a4-8387c00fcb99",
   "metadata": {},
   "outputs": [],
   "source": [
    "mylist.remove(80) "
   ]
  },
  {
   "cell_type": "code",
   "execution_count": 89,
   "id": "f9a5768e-f0d3-430d-ab8b-776ac55ae1ed",
   "metadata": {},
   "outputs": [
    {
     "data": {
      "text/plain": [
       "[14, 15, 10]"
      ]
     },
     "execution_count": 89,
     "metadata": {},
     "output_type": "execute_result"
    }
   ],
   "source": [
    "mylist"
   ]
  },
  {
   "cell_type": "code",
   "execution_count": 90,
   "id": "17a563b6-9384-436d-b788-e268f44c55d9",
   "metadata": {},
   "outputs": [],
   "source": [
    "mylist.insert(0,80)"
   ]
  },
  {
   "cell_type": "code",
   "execution_count": 91,
   "id": "1e9612b1-591e-4233-b400-b8be8dca5863",
   "metadata": {},
   "outputs": [
    {
     "data": {
      "text/plain": [
       "[80, 14, 15, 10]"
      ]
     },
     "execution_count": 91,
     "metadata": {},
     "output_type": "execute_result"
    }
   ],
   "source": [
    "mylist\n"
   ]
  },
  {
   "cell_type": "code",
   "execution_count": null,
   "id": "85f534c2-5a90-48ff-8591-9e2582409396",
   "metadata": {},
   "outputs": [],
   "source": []
  }
 ],
 "metadata": {
  "kernelspec": {
   "display_name": "Python 3 (ipykernel)",
   "language": "python",
   "name": "python3"
  },
  "language_info": {
   "codemirror_mode": {
    "name": "ipython",
    "version": 3
   },
   "file_extension": ".py",
   "mimetype": "text/x-python",
   "name": "python",
   "nbconvert_exporter": "python",
   "pygments_lexer": "ipython3",
   "version": "3.12.7"
  }
 },
 "nbformat": 4,
 "nbformat_minor": 5
}
