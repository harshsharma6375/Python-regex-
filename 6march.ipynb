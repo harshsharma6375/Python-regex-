{
 "cells": [
  {
   "cell_type": "markdown",
   "id": "f2f8fb61-ea0e-4ea8-9e99-452479ef3af8",
   "metadata": {},
   "source": [
    "## nested loop"
   ]
  },
  {
   "cell_type": "code",
   "execution_count": 4,
   "id": "c8b91ee3-4b51-4871-b391-2dc1a4bb39cc",
   "metadata": {},
   "outputs": [
    {
     "name": "stdout",
     "output_type": "stream",
     "text": [
      "student 1\n",
      "subject marks => 1\n",
      "subject marks => 2\n",
      "subject marks => 3\n",
      "subject marks => 4\n",
      "subject marks => 5\n",
      "student 2\n",
      "subject marks => 1\n",
      "subject marks => 2\n",
      "subject marks => 3\n",
      "subject marks => 4\n",
      "subject marks => 5\n",
      "student 3\n",
      "subject marks => 1\n",
      "subject marks => 2\n",
      "subject marks => 3\n",
      "subject marks => 4\n",
      "subject marks => 5\n",
      "student 4\n",
      "subject marks => 1\n",
      "subject marks => 2\n",
      "subject marks => 3\n",
      "subject marks => 4\n",
      "subject marks => 5\n"
     ]
    }
   ],
   "source": [
    "for i in range (1,5):\n",
    "    print(\"student\",i)\n",
    "    for marks in range(1,6):\n",
    "        print(\"subject marks =>\",marks)"
   ]
  },
  {
   "cell_type": "code",
   "execution_count": 5,
   "id": "a5f29c55-62b1-4529-b2af-90ee25dceebf",
   "metadata": {},
   "outputs": [
    {
     "name": "stdout",
     "output_type": "stream",
     "text": [
      "student 15\n",
      "subject marks => 1\n",
      "subject marks => 2\n",
      "subject marks => 3\n",
      "subject marks => 4\n",
      "subject marks => 5\n",
      "student 14\n",
      "subject marks => 1\n",
      "subject marks => 2\n",
      "subject marks => 3\n",
      "subject marks => 4\n",
      "subject marks => 5\n",
      "student 13\n",
      "subject marks => 1\n",
      "subject marks => 2\n",
      "subject marks => 3\n",
      "subject marks => 4\n",
      "subject marks => 5\n",
      "student 12\n",
      "subject marks => 1\n",
      "subject marks => 2\n",
      "subject marks => 3\n",
      "subject marks => 4\n",
      "subject marks => 5\n",
      "student 11\n",
      "subject marks => 1\n",
      "subject marks => 2\n",
      "subject marks => 3\n",
      "subject marks => 4\n",
      "subject marks => 5\n"
     ]
    }
   ],
   "source": [
    "for i in range (15,10,-1):\n",
    "    print(\"student\",i)\n",
    "    for marks in range(1,6):\n",
    "        print(\"subject marks =>\",marks)"
   ]
  },
  {
   "cell_type": "code",
   "execution_count": 9,
   "id": "8e777781-bbb6-46e5-a2a7-2ed54bbca862",
   "metadata": {},
   "outputs": [
    {
     "name": "stdout",
     "output_type": "stream",
     "text": [
      "student 1\n",
      "subject marks => 0\n",
      "student 2\n",
      "subject marks => 0\n",
      "subject marks => 1\n",
      "student 3\n",
      "subject marks => 0\n",
      "subject marks => 1\n",
      "subject marks => 2\n",
      "student 4\n",
      "subject marks => 0\n",
      "subject marks => 1\n",
      "subject marks => 2\n",
      "subject marks => 3\n"
     ]
    }
   ],
   "source": [
    "for i in range (1,5):\n",
    "    print(\"student\",i)\n",
    "    for marks in range(0,i): #i\n",
    "        print(\"subject marks =>\",marks)"
   ]
  },
  {
   "cell_type": "code",
   "execution_count": 12,
   "id": "8a1f74f0-2690-49ce-a8d8-367cc6a5b1cf",
   "metadata": {},
   "outputs": [
    {
     "name": "stdout",
     "output_type": "stream",
     "text": [
      "student 1\n",
      "subject marks => 1\n",
      "student 2\n",
      "subject marks => 1\n",
      "subject marks => 2\n",
      "student 3\n",
      "subject marks => 1\n",
      "subject marks => 2\n",
      "subject marks => 3\n",
      "student 4\n",
      "subject marks => 1\n",
      "subject marks => 2\n",
      "subject marks => 3\n",
      "subject marks => 4\n"
     ]
    }
   ],
   "source": [
    "for i in range (1,5):\n",
    "    print(\"student\",i)\n",
    "    for marks in range(1,i+1):#i=1 (1,2)  2(1,3)\n",
    "        print(\"subject marks =>\",marks)"
   ]
  },
  {
   "cell_type": "code",
   "execution_count": 33,
   "id": "9a400a69-60fa-4b4e-8ab2-4c2884364e4f",
   "metadata": {},
   "outputs": [
    {
     "name": "stdout",
     "output_type": "stream",
     "text": [
      "student 4\n",
      "subject marks => 4\n",
      "student 3\n",
      "subject marks => 3\n",
      "subject marks => 4\n",
      "student 2\n",
      "subject marks => 2\n",
      "subject marks => 3\n",
      "subject marks => 4\n",
      "student 1\n",
      "subject marks => 1\n",
      "subject marks => 2\n",
      "subject marks => 3\n",
      "subject marks => 4\n"
     ]
    }
   ],
   "source": [
    "for i in range (4,0,-1):\n",
    "    print(\"student\",i)\n",
    "    for marks in range(i,5):\n",
    "        print(\"subject marks =>\",marks)"
   ]
  },
  {
   "cell_type": "code",
   "execution_count": 36,
   "id": "3275c9e8-8314-4f5c-8d70-20027766270e",
   "metadata": {},
   "outputs": [
    {
     "name": "stdout",
     "output_type": "stream",
     "text": [
      "student 1\n",
      "subject marks => 1\n",
      "-----tea time -----\n",
      "student 2\n",
      "subject marks => 1\n",
      "subject marks => 2\n",
      "-----tea time -----\n",
      "student 3\n",
      "subject marks => 1\n",
      "subject marks => 2\n",
      "subject marks => 3\n",
      "-----tea time -----\n",
      "student 4\n",
      "subject marks => 1\n",
      "subject marks => 2\n",
      "subject marks => 3\n",
      "subject marks => 4\n",
      "-----tea time -----\n"
     ]
    }
   ],
   "source": [
    "for i in range (1,5):\n",
    "    print(\"student\",i)\n",
    "    for marks in range(1,i+1):#i=1 (1,2)  2(1,3)\n",
    "        print(\"subject marks =>\",marks)\n",
    "    print(\"-----tea time -----\")\n",
    "        "
   ]
  },
  {
   "cell_type": "code",
   "execution_count": 39,
   "id": "266258d0-fb39-4f18-bcad-05b655f75cf0",
   "metadata": {},
   "outputs": [
    {
     "name": "stdout",
     "output_type": "stream",
     "text": [
      "2\n",
      "4\n",
      "6\n",
      "8\n",
      "10\n",
      "12\n",
      "14\n",
      "16\n",
      "18\n",
      "20\n",
      "3\n",
      "6\n",
      "9\n",
      "12\n",
      "15\n",
      "18\n",
      "21\n",
      "24\n",
      "27\n",
      "30\n",
      "4\n",
      "8\n",
      "12\n",
      "16\n",
      "20\n",
      "24\n",
      "28\n",
      "32\n",
      "36\n",
      "40\n",
      "5\n",
      "10\n",
      "15\n",
      "20\n",
      "25\n",
      "30\n",
      "35\n",
      "40\n",
      "45\n",
      "50\n",
      "6\n",
      "12\n",
      "18\n",
      "24\n",
      "30\n",
      "36\n",
      "42\n",
      "48\n",
      "54\n",
      "60\n",
      "7\n",
      "14\n",
      "21\n",
      "28\n",
      "35\n",
      "42\n",
      "49\n",
      "56\n",
      "63\n",
      "70\n"
     ]
    }
   ],
   "source": [
    "i = 1\n",
    "for i in range(2,8):\n",
    "    for j in range (1,11,1):\n",
    "        print(i*j)"
   ]
  },
  {
   "cell_type": "code",
   "execution_count": 46,
   "id": "ac859b60-f7cf-4f9c-afe2-4ce924f86cee",
   "metadata": {},
   "outputs": [
    {
     "name": "stdout",
     "output_type": "stream",
     "text": [
      "20 18 16 14 12 10 8 6 4 2 \n",
      "30 27 24 21 18 15 12 9 6 3 \n",
      "40 36 32 28 24 20 16 12 8 4 \n",
      "50 45 40 35 30 25 20 15 10 5 \n",
      "60 54 48 42 36 30 24 18 12 6 \n",
      "70 63 56 49 42 35 28 21 14 7 \n"
     ]
    }
   ],
   "source": [
    "i = 1\n",
    "for i in range(2,8):\n",
    "    for j in range (10,0,-1):\n",
    "        print(i*j,end = \" \")\n",
    "\n",
    "    print()"
   ]
  },
  {
   "cell_type": "markdown",
   "id": "c4c0c0c0-4c74-426c-b5b6-78e5dc2f67b3",
   "metadata": {},
   "source": [
    "## patterns"
   ]
  },
  {
   "cell_type": "code",
   "execution_count": 51,
   "id": "690eaed7-9a3d-4453-a922-3ffd91c23c0d",
   "metadata": {},
   "outputs": [
    {
     "name": "stdout",
     "output_type": "stream",
     "text": [
      "* * * * * \n",
      "* * * * * \n",
      "* * * * * \n",
      "* * * * * \n",
      "* * * * * \n"
     ]
    }
   ],
   "source": [
    "for i in range (1,6):\n",
    "    \n",
    "    for j in range (1,6):\n",
    "        print(\"*\",end =  \" \")\n",
    "    print(\"\")"
   ]
  },
  {
   "cell_type": "code",
   "execution_count": 53,
   "id": "82a91a5b-bea2-42b0-8b29-f615320895c0",
   "metadata": {},
   "outputs": [
    {
     "name": "stdout",
     "output_type": "stream",
     "text": [
      "* * * \n",
      "* * * \n",
      "* * * \n",
      "* * * \n"
     ]
    }
   ],
   "source": [
    "for i in range (1,5):\n",
    "    \n",
    "    for j in range (1,4):\n",
    "        print(\"*\",end =  \" \")\n",
    "    print(\"\")"
   ]
  },
  {
   "cell_type": "code",
   "execution_count": 74,
   "id": "823e1942-885a-4958-871c-8f554e55fb2b",
   "metadata": {},
   "outputs": [
    {
     "name": "stdout",
     "output_type": "stream",
     "text": [
      "2 2 2 \n",
      "3 3 3 \n",
      "4 4 4 \n"
     ]
    }
   ],
   "source": [
    "for i in range (2,5):\n",
    "    \n",
    "    for j in range (1,4):\n",
    "        print(i,end =  \" \")\n",
    "    print(\"\")"
   ]
  },
  {
   "cell_type": "code",
   "execution_count": 57,
   "id": "618f62b8-380d-463b-b1d7-d530b6835468",
   "metadata": {},
   "outputs": [
    {
     "name": "stdout",
     "output_type": "stream",
     "text": [
      "1 2 3 4 \n",
      "1 2 3 4 \n",
      "1 2 3 4 \n"
     ]
    }
   ],
   "source": [
    "for i in range (2,5):\n",
    "    \n",
    "    for j in range (1,5):\n",
    "        print(j,end =  \" \")\n",
    "    print(\"\")"
   ]
  },
  {
   "cell_type": "code",
   "execution_count": 58,
   "id": "c1c1eca0-b8b4-47a2-b88d-90cf386c0bd9",
   "metadata": {},
   "outputs": [
    {
     "name": "stdout",
     "output_type": "stream",
     "text": [
      "2 2 2 \n",
      "3 3 3 \n",
      "4 4 4 \n"
     ]
    }
   ],
   "source": [
    "for i in range (2,5):\n",
    "    \n",
    "    for j in range (1,4):\n",
    "        print(i,end =  \" \")\n",
    "    print(\"\")"
   ]
  },
  {
   "cell_type": "code",
   "execution_count": 73,
   "id": "a1626d80-e266-4b4b-8459-72cd8b27043e",
   "metadata": {},
   "outputs": [
    {
     "name": "stdout",
     "output_type": "stream",
     "text": [
      "4 3 2 1 \n",
      "4 3 2 1 \n",
      "4 3 2 1 \n"
     ]
    }
   ],
   "source": [
    "for i in range (2,5):\n",
    "    \n",
    "    for j in range (4,0,-1):\n",
    "        print(j,end =  \" \")\n",
    "    print(\"\")"
   ]
  },
  {
   "cell_type": "code",
   "execution_count": 62,
   "id": "93c8c0a0-9b2c-4f7a-b4a9-be6dfffef42e",
   "metadata": {},
   "outputs": [
    {
     "name": "stdout",
     "output_type": "stream",
     "text": [
      "4 4 4 \n",
      "3 3 3 \n"
     ]
    }
   ],
   "source": [
    "for i in range (4,2,-1):\n",
    "    \n",
    "    for j in range (1,4):\n",
    "        print(i,end =  \" \")\n",
    "    print(\"\")"
   ]
  },
  {
   "cell_type": "code",
   "execution_count": 72,
   "id": "56b05b8b-90d5-4ef7-aad8-899d080362bc",
   "metadata": {},
   "outputs": [
    {
     "name": "stdout",
     "output_type": "stream",
     "text": [
      "1 2 3 4 \n",
      "5 6 7 8 \n",
      "9 10 11 12 \n"
     ]
    }
   ],
   "source": [
    "num = 0\n",
    "for i in range (1,4):\n",
    "    \n",
    "    for j in range (1,5):\n",
    "        num += 1\n",
    "        print(num,end =  \" \")\n",
    "    print(\"\")"
   ]
  },
  {
   "cell_type": "code",
   "execution_count": null,
   "id": "43bd574d-0de8-4dfc-bded-7a5d840c72ce",
   "metadata": {},
   "outputs": [],
   "source": []
  },
  {
   "cell_type": "code",
   "execution_count": 78,
   "id": "959a90de-b918-4b74-9927-3e240c2a71e5",
   "metadata": {},
   "outputs": [
    {
     "name": "stdout",
     "output_type": "stream",
     "text": [
      "*\n",
      "**\n",
      "***\n",
      "****\n",
      "*****\n"
     ]
    }
   ],
   "source": [
    "for i in range (1,6):\n",
    "    for j in range(1,i+1):#i=1 (1,2)  2(1,3)\n",
    "        print(\"*\",end = \"\")\n",
    "\n",
    "    print()"
   ]
  },
  {
   "cell_type": "code",
   "execution_count": 84,
   "id": "28f42074-6769-4c58-b2ca-41fc4d39f025",
   "metadata": {},
   "outputs": [
    {
     "name": "stdout",
     "output_type": "stream",
     "text": [
      "*****\n",
      "****\n",
      "***\n",
      "**\n",
      "*\n"
     ]
    }
   ],
   "source": [
    "for i in range (5,0,-1):\n",
    "    for j in range(1,i+1):#i=1 (1,2)  2(1,3)\n",
    "        print(\"*\",end = \"\")\n",
    "\n",
    "    print()"
   ]
  },
  {
   "cell_type": "code",
   "execution_count": null,
   "id": "8ae6fb24-a188-4fea-a9ed-18d9c75967c3",
   "metadata": {},
   "outputs": [],
   "source": []
  },
  {
   "cell_type": "code",
   "execution_count": 87,
   "id": "c905a3c2-b940-4e6c-8fd2-f47ae086c530",
   "metadata": {},
   "outputs": [
    {
     "name": "stdout",
     "output_type": "stream",
     "text": [
      "*\n",
      "**\n",
      "***\n",
      "****\n",
      "*****\n",
      "*****\n",
      "****\n",
      "***\n",
      "**\n",
      "*\n"
     ]
    }
   ],
   "source": [
    "for i in range (1,6):\n",
    "    for j in range(1,i+1):#i=1 (1,2)  2(1,3)\n",
    "        print(\"*\",end = \"\")\n",
    "\n",
    "    print()\n",
    "for i in range (5,0,-1):\n",
    "    for j in range(1,i+1):#i=1 (1,2)  2(1,3)\n",
    "        print(\"*\",end = \"\")\n",
    "\n",
    "    print()"
   ]
  },
  {
   "cell_type": "code",
   "execution_count": 91,
   "id": "6970cd07-05c1-4def-814b-65bbf6738030",
   "metadata": {},
   "outputs": [
    {
     "name": "stdout",
     "output_type": "stream",
     "text": [
      "1\n",
      "22\n",
      "333\n",
      "4444\n"
     ]
    }
   ],
   "source": [
    "for i in range (1,5):\n",
    "    for j in range(1,i+1):#i=1 (1,2)  2(1,3)\n",
    "        print(i,end = \"\")\n",
    "\n",
    "    print()"
   ]
  },
  {
   "cell_type": "code",
   "execution_count": null,
   "id": "285d55ea-6a48-4877-a886-76a89955a147",
   "metadata": {},
   "outputs": [],
   "source": []
  },
  {
   "cell_type": "code",
   "execution_count": 96,
   "id": "a1682154-4588-4515-b336-b85e98b6b307",
   "metadata": {},
   "outputs": [
    {
     "name": "stdout",
     "output_type": "stream",
     "text": [
      "10\n",
      "1112\n",
      "131415\n"
     ]
    }
   ],
   "source": [
    "num = 10\n",
    "for i in range (1,4):\n",
    "    for j in range(1,i+1):#i=1 (1,2)  2(1,3)\n",
    "        print(num,end = \"\")\n",
    "        num +=1\n",
    "\n",
    "    print()"
   ]
  },
  {
   "cell_type": "code",
   "execution_count": 100,
   "id": "a1c592ae-ecc8-452a-b0e6-cdf5733ecb0c",
   "metadata": {},
   "outputs": [
    {
     "name": "stdout",
     "output_type": "stream",
     "text": [
      "15\n",
      "1413\n",
      "121110\n"
     ]
    }
   ],
   "source": [
    "num = 15\n",
    "for i in range (1,4):\n",
    "    for j in range(1,i+1):#i=1 (1,2)  2(1,3)\n",
    "        print(num,end = \"\")\n",
    "        num -=1\n",
    "\n",
    "    print()"
   ]
  },
  {
   "cell_type": "code",
   "execution_count": null,
   "id": "15157bf5-0669-4d5f-943d-e5b11579a255",
   "metadata": {},
   "outputs": [],
   "source": []
  },
  {
   "cell_type": "code",
   "execution_count": 113,
   "id": "2099a450-7713-4f5f-a582-1a00caddf37f",
   "metadata": {},
   "outputs": [
    {
     "name": "stdout",
     "output_type": "stream",
     "text": [
      "A\n",
      "AB\n",
      "ABC\n"
     ]
    }
   ],
   "source": [
    "\n",
    "for i in range (1,4):\n",
    "    num = 65\n",
    "    for j in range(1,i+1):#i=1 (1,2)  2(1,3)\n",
    "        print(chr(num),end = \"\")\n",
    "        num+=1\n",
    "        \n",
    "\n",
    "    print()"
   ]
  },
  {
   "cell_type": "code",
   "execution_count": 114,
   "id": "4a536e12-c82a-47da-8387-97df1b577378",
   "metadata": {},
   "outputs": [
    {
     "data": {
      "text/plain": [
       "'A'"
      ]
     },
     "execution_count": 114,
     "metadata": {},
     "output_type": "execute_result"
    }
   ],
   "source": [
    "## noted point \n",
    "chr(65)"
   ]
  },
  {
   "cell_type": "code",
   "execution_count": 115,
   "id": "b58a68cf-5b0e-44cb-b72b-da24a0a95d23",
   "metadata": {},
   "outputs": [
    {
     "data": {
      "text/plain": [
       "'V'"
      ]
     },
     "execution_count": 115,
     "metadata": {},
     "output_type": "execute_result"
    }
   ],
   "source": [
    "chr (86)"
   ]
  },
  {
   "cell_type": "code",
   "execution_count": 116,
   "id": "a672a906-6207-4335-93fe-707f1112b0a6",
   "metadata": {},
   "outputs": [
    {
     "name": "stdout",
     "output_type": "stream",
     "text": [
      "A\n",
      "AB\n",
      "ABC\n"
     ]
    }
   ],
   "source": [
    "for i in range (1,4):\n",
    "    for j in range(65,65+i):#i=1 (1,2)  2(1,3)\n",
    "        print(chr(j),end = \"\")\n",
    "        num+=1\n",
    "        \n",
    "\n",
    "    print()"
   ]
  },
  {
   "cell_type": "code",
   "execution_count": null,
   "id": "a79afb8d-0f13-4f42-8b43-1b333ecda3c3",
   "metadata": {},
   "outputs": [],
   "source": []
  }
 ],
 "metadata": {
  "kernelspec": {
   "display_name": "Python 3 (ipykernel)",
   "language": "python",
   "name": "python3"
  },
  "language_info": {
   "codemirror_mode": {
    "name": "ipython",
    "version": 3
   },
   "file_extension": ".py",
   "mimetype": "text/x-python",
   "name": "python",
   "nbconvert_exporter": "python",
   "pygments_lexer": "ipython3",
   "version": "3.12.7"
  }
 },
 "nbformat": 4,
 "nbformat_minor": 5
}
