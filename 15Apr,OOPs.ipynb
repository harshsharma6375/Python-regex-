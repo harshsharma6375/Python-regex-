{
 "cells": [
  {
   "cell_type": "markdown",
   "id": "7b647535-4232-4882-b272-36ef59c3fbe2",
   "metadata": {},
   "source": [
    "# INHERITANCE in OOPs"
   ]
  },
  {
   "cell_type": "code",
   "execution_count": null,
   "id": "e498e388-30c0-444a-a6e2-cbb83c698250",
   "metadata": {},
   "outputs": [],
   "source": [
    "#  It is a fundamentsl concepts .\n",
    "# In oops it allows a class \"child class\" tp inherit attributes and methods from another class \"Parent class\". \n",
    "\n",
    "# this promotes code reuseablity and modularity.\n",
    "\n",
    "# KEY BENEFITS OF INHERITANCE:->\n",
    "\n",
    "# 1) Code Reuseablity --> the child class can reuse the code in the parent class.\n",
    "# 2) Extensibilty --> the child class can add or modify functionality of the parent class.\n",
    "# 3) Hierarchical structure --> Relationship btw classes are more organized.\n",
    "\n",
    "# TYPES OF INHERITANCE :-->\n",
    "\n",
    "# 1) single inheritance -> A child class inherits from one parent class.\n",
    "# 2) Multiple inheritance --> Single child class but multiple parent class.\n",
    "# 3) Multilevel Inheritance – A class inherits from a class which itself inherits from another.\n",
    "                # a child class inherit form a parent classs and that parent class inherit from another parent class.\n",
    "\n"
   ]
  },
  {
   "cell_type": "code",
   "execution_count": null,
   "id": "ed6edd68-e58b-4237-84d1-3e48062f11dc",
   "metadata": {},
   "outputs": [],
   "source": []
  },
  {
   "cell_type": "code",
   "execution_count": null,
   "id": "8967d815-18f1-4c94-aed8-906a9bcadcb2",
   "metadata": {},
   "outputs": [],
   "source": []
  },
  {
   "cell_type": "code",
   "execution_count": null,
   "id": "ba701948-a121-4917-8934-724aaf752176",
   "metadata": {},
   "outputs": [],
   "source": []
  },
  {
   "cell_type": "markdown",
   "id": "efdd1341-788e-42c6-b8ab-2d22ec253c04",
   "metadata": {},
   "source": [
    "## single inheritance "
   ]
  },
  {
   "cell_type": "code",
   "execution_count": 2,
   "id": "d53b515c-8e68-483f-a93d-c205650829ed",
   "metadata": {},
   "outputs": [
    {
     "name": "stdout",
     "output_type": "stream",
     "text": [
      "name of location is jaipur\n",
      "project is scheduled ...\n",
      "name of location is delhi\n"
     ]
    }
   ],
   "source": [
    "class employee:\n",
    "    def __init__(self,location):\n",
    "        self.location = location\n",
    "\n",
    "    def get_location(self):\n",
    "        print(f\"name of location is {self.location}\")\n",
    "\n",
    "class manager(employee):\n",
    "    def get_project(self):\n",
    "        print(\"project is scheduled ...\")\n",
    "\n",
    "sam = employee(\"jaipur\")\n",
    "sam.get_location()\n",
    "mohit = manager(\"delhi\")\n",
    "mohit.get_project()\n",
    "mohit.get_location()"
   ]
  },
  {
   "cell_type": "markdown",
   "id": "94f9a25f-37b6-4e37-bbd4-e789405c1949",
   "metadata": {},
   "source": [
    "## Multiple Inheritance"
   ]
  },
  {
   "cell_type": "code",
   "execution_count": 4,
   "id": "c00e76c7-2f1a-4dfb-acaa-c97cb32511b8",
   "metadata": {},
   "outputs": [
    {
     "name": "stdout",
     "output_type": "stream",
     "text": [
      "engine started\n",
      "wheeels are rotating\n",
      "car is driving \n"
     ]
    }
   ],
   "source": [
    "class engine:\n",
    "    def start_engine(self):\n",
    "        print(\"engine started\")\n",
    "\n",
    "class wheels:\n",
    "    def rotate_wheels(self):\n",
    "        print(\"wheeels are rotating\")\n",
    "\n",
    "class car (engine,wheels):  #inheriting from engine and wheels \n",
    "    def drive(self):\n",
    "              print(\"car is driving \")\n",
    "\n",
    "\n",
    "#usage \n",
    "my_car = car()\n",
    "my_car.start_engine()    #method from engine\n",
    "my_car.rotate_wheels()   #method from wheels \n",
    "my_car.drive()           #method from car\n",
    "\n",
    "            "
   ]
  },
  {
   "cell_type": "markdown",
   "id": "43ca931f-5259-4a4b-a8ff-d8cd348006bf",
   "metadata": {},
   "source": [
    "## Multilevel Inheritance "
   ]
  },
  {
   "cell_type": "code",
   "execution_count": 5,
   "id": "b7ed5af1-186a-4973-837d-0534d2c7b48a",
   "metadata": {},
   "outputs": [
    {
     "name": "stdout",
     "output_type": "stream",
     "text": [
      "animal is eating \n",
      "dog is barking \n",
      "puppy is weeping \n"
     ]
    }
   ],
   "source": [
    "class animal:\n",
    "    def eat(self):\n",
    "        print(\"animal is eating \")\n",
    "\n",
    "class dog(animal):  #dog inherits from animal\n",
    "    def bark(self):\n",
    "        print(\"dog is barking \")\n",
    "\n",
    "class puppy(dog): #puppy inherits from dog \n",
    "    def weep (self):\n",
    "        print(\"puppy is weeping \")\n",
    "\n",
    "##usage\n",
    "\n",
    "puppy = puppy()\n",
    "puppy.eat()   #method from animal \n",
    "puppy.bark()  #method from dog \n",
    "puppy.weep()  #method from puppy "
   ]
  },
  {
   "cell_type": "code",
   "execution_count": null,
   "id": "85ec44a6-354d-4061-8d8e-737e5917b628",
   "metadata": {},
   "outputs": [],
   "source": []
  },
  {
   "cell_type": "markdown",
   "id": "4e2700d4-adfd-4260-bf4c-7a260516d479",
   "metadata": {},
   "source": [
    "### Class method"
   ]
  },
  {
   "cell_type": "code",
   "execution_count": 2,
   "id": "162d1651-4e1e-403e-99fe-6ed4d2a00d51",
   "metadata": {},
   "outputs": [],
   "source": [
    "# A class method is a method that operates on the class itself rather than a instance of a class.\n",
    "\n",
    "# it is define using @classs method,decorator and it takes cls (class reference) as its first parameter.\n",
    "\n",
    "# Features Of Class Method:\n",
    "\n",
    "# 1) it operate on the class rather than instance speicific data.\n",
    "# 2) we can modify the class state using cls."
   ]
  },
  {
   "cell_type": "code",
   "execution_count": 9,
   "id": "1ee0ac33-5dc8-4b40-9ba3-252580517647",
   "metadata": {},
   "outputs": [
    {
     "name": "stdout",
     "output_type": "stream",
     "text": [
      "Tech Solutions\n",
      "Future Tech\n",
      "future tech\n",
      "Physics\n",
      "Physics\n",
      "Physics\n"
     ]
    }
   ],
   "source": [
    "class Employee:\n",
    "    company_name = \"Tech Solutions\"\n",
    "\n",
    "    def __init__(self, name, salary):   # Fixed constructor\n",
    "        self.name = name\n",
    "        self.salary = salary\n",
    "\n",
    "    @classmethod\n",
    "    def change_company_name(cls, new_name):\n",
    "        cls.company_name = new_name\n",
    "\n",
    "# Usage\n",
    "emp1 = Employee(\"Sam\", 50000)\n",
    "emp2 = Employee(\"Rahul\", 60000)\n",
    "emp3 = Employee(\"Sumit\", 75000)\n",
    "\n",
    "# Access the class attribute\n",
    "print(Employee.company_name)\n",
    "\n",
    "# Change the class attribute using class method\n",
    "Employee.change_company_name(\"Future Tech\")\n",
    "print(Employee.company_name)\n",
    "\n",
    "# Change the class attribute again\n",
    "Employee.change_company_name(\"future tech\")\n",
    "print(Employee.company_name)\n",
    "\n",
    "\n",
    "emp1.change_company_name(\"Physics\")\n",
    "print(emp1.company_name)  # Outputs: Physics\n",
    "print(emp2.company_name)  # Outputs: Physics\n",
    "print(emp3.company_name)  # Outputs: Physics\n",
    "\n",
    "\n"
   ]
  },
  {
   "cell_type": "code",
   "execution_count": 3,
   "id": "5d9763dd-f3f8-421f-8b4f-5e26c65ad583",
   "metadata": {},
   "outputs": [
    {
     "name": "stdout",
     "output_type": "stream",
     "text": [
      "Tech Solutions\n",
      "Future Tech\n",
      "future tech\n",
      "physics\n",
      "physics\n",
      "rebel\n"
     ]
    }
   ],
   "source": [
    "class Employee:\n",
    "    company_name = \"Tech Solutions\"\n",
    "\n",
    "    def __init__(self, name, salary):\n",
    "        self.name = name\n",
    "        self.salary = salary\n",
    "\n",
    "    @classmethod\n",
    "    def change_company_name(cls, new_name):\n",
    "        cls.company_name = new_name\n",
    "\n",
    "# Usage\n",
    "emp1 = Employee(\"Sam\", 50000)\n",
    "emp2 = Employee(\"Rahul\", 60000)\n",
    "emp3 = Employee(\"Sumit\", 75000)\n",
    "\n",
    "# Access the class attribute\n",
    "print(Employee.company_name)\n",
    "\n",
    "# Change the class attribute using class method\n",
    "Employee.change_company_name(\"Future Tech\")\n",
    "print(Employee.company_name)\n",
    "\n",
    "# change the class attribute using class method\n",
    "Employee.change_company_name(\"future tech\")\n",
    "print(Employee.company_name)\n",
    "\n",
    "emp1.company_name\n",
    "emp1.change_company_name('physics')\n",
    "emp1.company_name\n",
    "\n",
    "print(emp2.company_name)\n",
    "print(emp3.company_name)\n",
    "emp3.change_company_name(\"rebel\")\n",
    "print(emp3.company_name)"
   ]
  },
  {
   "cell_type": "markdown",
   "id": "cee87244-7336-4c93-9ac1-d676aee52bc4",
   "metadata": {},
   "source": [
    "## CASE STUDY 1 : E-commerce order Management "
   ]
  },
  {
   "cell_type": "markdown",
   "id": "525d4678-fc48-4675-a168-55f93e9306c1",
   "metadata": {},
   "source": [
    "Scenerio: you are desiging an e-commerce order system. the system include:\n",
    "\n",
    "customer class (with name and contact details)\n",
    "\n",
    "product class(with name and price).\n",
    "\n",
    "order class (that inherits customer and product to manage customer orders).\n",
    "\n",
    "Requirements:\n",
    "\n",
    "customer should store customer deatils.\n",
    "\n",
    "product should store product details.\n",
    "\n",
    "order should generate an order summuary for a customer,including product details."
   ]
  },
  {
   "cell_type": "code",
   "execution_count": 14,
   "id": "b8b548b8-3ac4-44fe-83f9-31849c99d8b8",
   "metadata": {},
   "outputs": [
    {
     "name": "stdout",
     "output_type": "stream",
     "text": [
      "Order for Aman, Contact: 1548523622\n"
     ]
    }
   ],
   "source": [
    "class customer:\n",
    "    def __init__(self, name, contact):\n",
    "        self.name = name\n",
    "        self.contact = contact\n",
    "\n",
    "class product:\n",
    "    def __init__(self, name, price):  \n",
    "        self.name = name\n",
    "        self.price = price\n",
    "\n",
    "class order:\n",
    "    def __init__(self, customer):\n",
    "        self.customer = customer\n",
    "        self.products = []\n",
    "\n",
    "    def add_product(self, product):\n",
    "        self.products.append(product)\n",
    "\n",
    "    def generate_summary(self):\n",
    "        return f\"Order for {self.customer.name}, Contact: {self.customer.contact}\"\n",
    "\n",
    "customer1 = customer(\"Aman\", 1548523622)\n",
    "product1 = product(\"cycle\", 7000)\n",
    "\n",
    "my_order = order(customer1)  \n",
    "my_order.add_product(product1)\n",
    "\n",
    "print(my_order.generate_summary())  "
   ]
  },
  {
   "cell_type": "code",
   "execution_count": 19,
   "id": "e04dd883-aa38-420b-b3e8-ae8bcc925573",
   "metadata": {},
   "outputs": [
    {
     "name": "stdout",
     "output_type": "stream",
     "text": [
      "----- Order Summary -----\n",
      "Customer Name: Hardik Somani\n",
      "Contact Details: 8003376769\n",
      "Product Name: MSI LAPI \n",
      "Product Price: 70000\n",
      "--------------------------\n"
     ]
    }
   ],
   "source": [
    "class customer:\n",
    "    def __init__(self,name,contact):\n",
    "        self.name = name\n",
    "        self.contact = contact\n",
    " \n",
    "    def get_customer_details(self):\n",
    "        return(f\"Customer Name: {self.name}\\nContact Details: {self.contact}\")\n",
    "\n",
    "class product:\n",
    "    def __init__(self,product_name,price):\n",
    "        self.product_name = product_name\n",
    "        self.price = price\n",
    "\n",
    "    def get_product_details(self):\n",
    "        return(f\"Product Name: {self.product_name} \\nProduct Price: {self.price}\")\n",
    "\n",
    "class order(customer,product):\n",
    "    def __init__(self,name,contact,product_name,price):\n",
    "        customer.__init__(self,name,contact)\n",
    "        product.__init__(self,product_name,price)\n",
    "\n",
    "    def generate_order_summuary(self):\n",
    "        print(\"----- Order Summary -----\")\n",
    "        print(self.get_customer_details())\n",
    "        print(self.get_product_details())\n",
    "        print(\"--------------------------\")\n",
    "\n",
    "        \n",
    "ord = order('Hardik Somani',8003376769,'MSI LAPI',70000)\n",
    "ord.generate_order_summuary()\n"
   ]
  },
  {
   "cell_type": "code",
   "execution_count": null,
   "id": "a5995de6-25c9-4f78-a1d5-0cd0fe2bb873",
   "metadata": {},
   "outputs": [],
   "source": []
  }
 ],
 "metadata": {
  "kernelspec": {
   "display_name": "Python 3 (ipykernel)",
   "language": "python",
   "name": "python3"
  },
  "language_info": {
   "codemirror_mode": {
    "name": "ipython",
    "version": 3
   },
   "file_extension": ".py",
   "mimetype": "text/x-python",
   "name": "python",
   "nbconvert_exporter": "python",
   "pygments_lexer": "ipython3",
   "version": "3.12.7"
  }
 },
 "nbformat": 4,
 "nbformat_minor": 5
}
