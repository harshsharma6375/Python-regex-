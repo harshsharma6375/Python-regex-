{
 "cells": [
  {
   "cell_type": "markdown",
   "id": "b3875e8a-37c1-4129-b6fa-1fd2ebc51274",
   "metadata": {
    "jp-MarkdownHeadingCollapsed": true
   },
   "source": [
    " ## call by value and call by refernce "
   ]
  },
  {
   "cell_type": "code",
   "execution_count": 1,
   "id": "5530be73-088b-4474-bb42-49dcf9496eb9",
   "metadata": {},
   "outputs": [
    {
     "name": "stdout",
     "output_type": "stream",
     "text": [
      "140731572236248\n",
      "140731572236248\n"
     ]
    }
   ],
   "source": [
    "x = 50\n",
    "print(id(x))\n",
    "\n",
    "a = x\n",
    "print(id(x)) , id(x),id(a))\n",
    "a = 30\n"
   ]
  },
  {
   "cell_type": "code",
   "execution_count": null,
   "id": "f096bbcf-573e-4503-b93e-bf690e00964e",
   "metadata": {},
   "outputs": [],
   "source": []
  },
  {
   "cell_type": "code",
   "execution_count": 4,
   "id": "e4eae3e1-75c2-475b-a8e8-25d6d825e7fb",
   "metadata": {},
   "outputs": [
    {
     "name": "stdout",
     "output_type": "stream",
     "text": [
      "before change 140731572236248 140731572236248\n",
      "after change  140731572236248 140731572235608\n"
     ]
    }
   ],
   "source": [
    "x = 50 \n",
    "a = x\n",
    "print(\"before change\", id(x),id(a))\n",
    "a = 30\n",
    "print(\"after change \",id(x),id(a))"
   ]
  },
  {
   "cell_type": "code",
   "execution_count": null,
   "id": "d6dd3d1c-6ee4-4886-b533-8a962fd02a83",
   "metadata": {},
   "outputs": [],
   "source": []
  },
  {
   "cell_type": "code",
   "execution_count": 5,
   "id": "35219fe3-f04b-4a23-8848-cddb5ae28ab2",
   "metadata": {},
   "outputs": [
    {
     "name": "stdout",
     "output_type": "stream",
     "text": [
      "140731572297280 140731572297280\n"
     ]
    }
   ],
   "source": [
    "a = \"a\"\n",
    "a = a\n",
    "print(id(a),id(a))"
   ]
  },
  {
   "cell_type": "markdown",
   "id": "bc7fc29c-72ec-4d84-891f-a4d08b8939d8",
   "metadata": {},
   "source": [
    "## for loop"
   ]
  },
  {
   "cell_type": "code",
   "execution_count": null,
   "id": "caff6f84-989c-4423-8fda-472f4eb4f89c",
   "metadata": {},
   "outputs": [],
   "source": [
    "# looping statemnt (for simple)\n",
    "# for (int i = 0;  i<5;  i++)\n",
    "# range (start,stop,[step = 1])"
   ]
  },
  {
   "cell_type": "code",
   "execution_count": 3,
   "id": "2c3a9ed0-630e-4c9f-8271-54e582e89b48",
   "metadata": {},
   "outputs": [
    {
     "name": "stdout",
     "output_type": "stream",
     "text": [
      "hey 1\n",
      "hey 2\n",
      "hey 3\n",
      "hey 4\n",
      "hey 5\n",
      "hey 6\n"
     ]
    }
   ],
   "source": [
    "for i in range (1,7):\n",
    "    print(\"hey\",i)\n",
    "    "
   ]
  },
  {
   "cell_type": "code",
   "execution_count": 4,
   "id": "6a1714ac-b3dd-4673-8ac7-8fdad19915bd",
   "metadata": {},
   "outputs": [
    {
     "name": "stdout",
     "output_type": "stream",
     "text": [
      "hey 0\n",
      "hey 1\n",
      "hey 2\n",
      "hey 3\n",
      "hey 4\n",
      "hey 5\n",
      "hey 6\n"
     ]
    }
   ],
   "source": [
    "for i in range (0,7):\n",
    "    print(\"hey\",i)\n",
    "    "
   ]
  },
  {
   "cell_type": "code",
   "execution_count": 5,
   "id": "a9d8548e-c188-4953-8241-6d3210a02882",
   "metadata": {},
   "outputs": [
    {
     "name": "stdout",
     "output_type": "stream",
     "text": [
      "hey 1\n",
      "hey 3\n",
      "hey 5\n"
     ]
    }
   ],
   "source": [
    "for i in range (1,7,2):\n",
    "    print(\"hey\",i)\n",
    "    "
   ]
  },
  {
   "cell_type": "code",
   "execution_count": null,
   "id": "d745e103-6a72-4260-a813-069d4e52f936",
   "metadata": {},
   "outputs": [],
   "source": []
  },
  {
   "cell_type": "code",
   "execution_count": 7,
   "id": "36bdb479-8840-4735-9272-fc14b1e85f36",
   "metadata": {},
   "outputs": [
    {
     "name": "stdout",
     "output_type": "stream",
     "text": [
      "hey 9\n",
      "hey 7\n",
      "hey 5\n",
      "hey 3\n"
     ]
    }
   ],
   "source": [
    "for i in range (9,1,-2):\n",
    "    print(\"hey\",i)"
   ]
  },
  {
   "cell_type": "code",
   "execution_count": 9,
   "id": "e3d2c207-0b42-41c7-bb00-99c368d4b13b",
   "metadata": {},
   "outputs": [
    {
     "name": "stdout",
     "output_type": "stream",
     "text": [
      "even 2\n",
      "odd 3\n",
      "even 4\n",
      "odd 5\n",
      "even 6\n",
      "odd 7\n",
      "even 8\n"
     ]
    }
   ],
   "source": [
    "\n",
    "for num in range (2,9,1):\n",
    "    if (num%2==0):\n",
    "        print(\"even\",num)\n",
    "    else:\n",
    "        print(\"odd\",num)\n",
    "    \n",
    "    "
   ]
  },
  {
   "cell_type": "code",
   "execution_count": null,
   "id": "e8335e3f-a699-40aa-96a9-851931acdf78",
   "metadata": {},
   "outputs": [],
   "source": []
  },
  {
   "cell_type": "code",
   "execution_count": 10,
   "id": "4c99706c-0356-49c0-b85a-ad76cd3cdb31",
   "metadata": {},
   "outputs": [
    {
     "name": "stdout",
     "output_type": "stream",
     "text": [
      "2\n",
      "3\n",
      "4\n",
      "5\n",
      "6\n",
      "7\n",
      "8\n",
      "9\n",
      "10\n",
      "11\n",
      "12\n",
      "13\n",
      "14\n",
      "15\n",
      "16\n",
      "17\n",
      "18\n",
      "19\n"
     ]
    }
   ],
   "source": [
    "for i in range (2,20):\n",
    "    print(i)"
   ]
  },
  {
   "cell_type": "code",
   "execution_count": null,
   "id": "1b0d8b7a-4306-491a-ae2f-b972ffe498b4",
   "metadata": {},
   "outputs": [],
   "source": []
  },
  {
   "cell_type": "code",
   "execution_count": 11,
   "id": "b46eba75-a94e-4fd4-8728-2ec4d34017f4",
   "metadata": {},
   "outputs": [
    {
     "name": "stdout",
     "output_type": "stream",
     "text": [
      "97\n",
      "96\n",
      "95\n",
      "94\n",
      "93\n",
      "92\n",
      "91\n",
      "90\n",
      "89\n",
      "88\n",
      "87\n",
      "86\n",
      "85\n",
      "84\n",
      "83\n",
      "82\n",
      "81\n",
      "80\n",
      "79\n",
      "78\n",
      "77\n",
      "76\n",
      "75\n",
      "74\n",
      "73\n",
      "72\n",
      "71\n",
      "70\n",
      "69\n",
      "68\n",
      "67\n",
      "66\n",
      "65\n",
      "64\n",
      "63\n",
      "62\n",
      "61\n",
      "60\n",
      "59\n",
      "58\n",
      "57\n",
      "56\n"
     ]
    }
   ],
   "source": [
    "for i in range (97,55,-1):\n",
    "    print(i)"
   ]
  },
  {
   "cell_type": "code",
   "execution_count": 34,
   "id": "f3d829e4-6e90-4785-82bc-63feee4ac2c5",
   "metadata": {},
   "outputs": [
    {
     "name": "stdout",
     "output_type": "stream",
     "text": [
      "before : a : 0 num => 2\n",
      "a: 2 num =>  2\n",
      "before : a : 2 num => 3\n",
      "a: 5 num =>  3\n",
      "before : a : 5 num => 4\n",
      "a: 9 num =>  4\n",
      "before : a : 9 num => 5\n",
      "a: 14 num =>  5\n",
      "before : a : 14 num => 6\n",
      "a: 20 num =>  6\n",
      "before : a : 20 num => 7\n",
      "a: 27 num =>  7\n",
      "before : a : 27 num => 8\n",
      "a: 35 num =>  8\n"
     ]
    }
   ],
   "source": [
    "a = 0\n",
    "for num in range(2,9,1):\n",
    "    print(\"before : a :\", a,\"num =>\",num)\n",
    "    a = a + num\n",
    "    print(\"a:\" ,a,\"num => \", num)    \n",
    "    "
   ]
  },
  {
   "cell_type": "code",
   "execution_count": 31,
   "id": "803aeb57-728e-4097-8bc5-7331bb8e588c",
   "metadata": {},
   "outputs": [
    {
     "name": "stdout",
     "output_type": "stream",
     "text": [
      " sum  2542\n"
     ]
    }
   ],
   "source": [
    "a = 0\n",
    "for num in range (97,66,-1):\n",
    "    a = a + num\n",
    "print(\" sum \",a)"
   ]
  },
  {
   "cell_type": "code",
   "execution_count": 32,
   "id": "832df496-aea9-4d81-86d8-502d7f4507ae",
   "metadata": {},
   "outputs": [
    {
     "name": "stdout",
     "output_type": "stream",
     "text": [
      "total 1\n",
      "total 2\n",
      "total 3\n",
      "total 4\n",
      "total 5\n",
      "total 6\n",
      "total 7\n",
      "total 8\n",
      "total 9\n",
      "total 10\n",
      "total 11\n",
      "total 12\n",
      "total 13\n",
      "total 14\n",
      "total 15\n",
      "total 16\n",
      "total 17\n",
      "total 18\n",
      "total 19\n",
      "total 20\n",
      "total 21\n",
      "total 22\n",
      "total 23\n",
      "total 24\n",
      "total 25\n",
      "total 26\n",
      "total 27\n",
      "total 28\n",
      "total 29\n",
      "total 30\n"
     ]
    }
   ],
   "source": [
    "count = 0\n",
    "for num in range (7,37):\n",
    "    count+=1\n",
    "    print(\"total\", count)"
   ]
  },
  {
   "cell_type": "code",
   "execution_count": 35,
   "id": "ed3ac12f-b9ae-4947-8c02-af56fb6a935c",
   "metadata": {},
   "outputs": [
    {
     "name": "stdout",
     "output_type": "stream",
     "text": [
      "sum 672\n"
     ]
    }
   ],
   "source": [
    "a = 0\n",
    "for num in range (11,53):\n",
    "    if (num%2==0):\n",
    "        a = a+num\n",
    "print(\"sum\",a)        "
   ]
  },
  {
   "cell_type": "code",
   "execution_count": null,
   "id": "541ee21c-3284-4702-9313-907138212972",
   "metadata": {},
   "outputs": [],
   "source": []
  },
  {
   "cell_type": "code",
   "execution_count": 38,
   "id": "c66da3e0-4b76-4c11-9f27-6ac198c07bd7",
   "metadata": {},
   "outputs": [
    {
     "name": "stdout",
     "output_type": "stream",
     "text": [
      "j\n",
      "a\n",
      "i\n",
      "p\n",
      "u\n",
      "r\n"
     ]
    }
   ],
   "source": [
    "data = \"jaipur\"\n",
    "for i in data:\n",
    "    print(i)\n",
    "    "
   ]
  },
  {
   "cell_type": "code",
   "execution_count": 44,
   "id": "d128d842-6b60-4d0f-bfff-792952f71015",
   "metadata": {},
   "outputs": [
    {
     "name": "stdout",
     "output_type": "stream",
     "text": [
      "16\n",
      "0 j\n",
      "1 a\n",
      "2 i\n",
      "3 p\n",
      "4 u\n",
      "5 r\n",
      "6  \n",
      "7 r\n",
      "8 a\n",
      "9 j\n",
      "10 a\n",
      "11 s\n",
      "12 t\n",
      "13 h\n",
      "14 a\n",
      "15 n\n"
     ]
    }
   ],
   "source": [
    "data  = \"jaipur rajasthan\"\n",
    "print(len(data))\n",
    "\n",
    "for i in range(0,len(data)):\n",
    "    print(i,data[i])"
   ]
  },
  {
   "cell_type": "code",
   "execution_count": null,
   "id": "7ce84d3f-a3d1-4470-bc5c-03b27433eca2",
   "metadata": {},
   "outputs": [],
   "source": []
  },
  {
   "cell_type": "code",
   "execution_count": null,
   "id": "b29dc25c-01fc-4064-8a85-ca41b6e63a3e",
   "metadata": {},
   "outputs": [],
   "source": []
  },
  {
   "cell_type": "code",
   "execution_count": null,
   "id": "ae5f37bf-5344-481d-9471-9583ba8538e5",
   "metadata": {},
   "outputs": [],
   "source": []
  }
 ],
 "metadata": {
  "kernelspec": {
   "display_name": "Python 3 (ipykernel)",
   "language": "python",
   "name": "python3"
  },
  "language_info": {
   "codemirror_mode": {
    "name": "ipython",
    "version": 3
   },
   "file_extension": ".py",
   "mimetype": "text/x-python",
   "name": "python",
   "nbconvert_exporter": "python",
   "pygments_lexer": "ipython3",
   "version": "3.12.7"
  }
 },
 "nbformat": 4,
 "nbformat_minor": 5
}
