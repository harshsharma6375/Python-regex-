{
 "cells": [
  {
   "cell_type": "code",
   "execution_count": 1,
   "id": "7f2ecc96-80be-411e-b2d3-44a2693ae68a",
   "metadata": {
    "jp-MarkdownHeadingCollapsed": true
   },
   "outputs": [
    {
     "data": {
      "text/plain": [
       "8"
      ]
     },
     "execution_count": 1,
     "metadata": {},
     "output_type": "execute_result"
    }
   ],
   "source": [
    "2**3"
   ]
  },
  {
   "cell_type": "code",
   "execution_count": 2,
   "id": "49373327-d163-4d2f-939e-e8d8d7f61433",
   "metadata": {},
   "outputs": [],
   "source": [
    "# int = 4 byte in python in 32 bit os .\n",
    "##nand in 64 bit it takes of 8byte "
   ]
  },
  {
   "cell_type": "code",
   "execution_count": 4,
   "id": "29059897-4b35-4d86-a5a9-f28d4fc1e4d7",
   "metadata": {},
   "outputs": [],
   "source": [
    "# arithmetic \n",
    "# ** \n",
    "# 10+3-2*5/1-2"
   ]
  },
  {
   "cell_type": "code",
   "execution_count": 5,
   "id": "135d1c74-13ca-4467-a627-3a4c998e1a53",
   "metadata": {},
   "outputs": [
    {
     "data": {
      "text/plain": [
       "10"
      ]
     },
     "execution_count": 5,
     "metadata": {},
     "output_type": "execute_result"
    }
   ],
   "source": [
    "10"
   ]
  },
  {
   "cell_type": "code",
   "execution_count": 6,
   "id": "d35370a5-fabf-4b1b-b011-60d16402c61f",
   "metadata": {},
   "outputs": [],
   "source": [
    "# comparison   >  , <  , >= ,<= , !=\n"
   ]
  },
  {
   "cell_type": "code",
   "execution_count": 7,
   "id": "505d0f67-d780-403b-85ef-ec1e4fb8c56d",
   "metadata": {},
   "outputs": [
    {
     "name": "stdout",
     "output_type": "stream",
     "text": [
      "24\n"
     ]
    }
   ],
   "source": [
    "# assignment operator \n",
    "age = 19 \n",
    "\n",
    "age =age +5\n",
    "print (age)"
   ]
  },
  {
   "cell_type": "code",
   "execution_count": 8,
   "id": "b5a04bbe-5f6c-4e4f-ac81-4e29809442b1",
   "metadata": {},
   "outputs": [
    {
     "name": "stdout",
     "output_type": "stream",
     "text": [
      "24\n"
     ]
    }
   ],
   "source": [
    "age = 19 \n",
    "age+= 5\n",
    "print(age)"
   ]
  },
  {
   "cell_type": "code",
   "execution_count": null,
   "id": "ce20acd9-01c8-4d15-bcc3-c3d3fbbb8e49",
   "metadata": {},
   "outputs": [],
   "source": []
  },
  {
   "cell_type": "code",
   "execution_count": 10,
   "id": "ba4d9e9e-e240-4730-b7b4-397cdb2a1fbe",
   "metadata": {},
   "outputs": [
    {
     "data": {
      "text/plain": [
       "True"
      ]
     },
     "execution_count": 10,
     "metadata": {},
     "output_type": "execute_result"
    }
   ],
   "source": [
    "#logical operator \n",
    "\n",
    "x = 10\n",
    "\n",
    "\n",
    "x > 5 and x < 12"
   ]
  },
  {
   "cell_type": "code",
   "execution_count": 11,
   "id": "71998344-bfee-46ba-ae85-28150365f50b",
   "metadata": {},
   "outputs": [
    {
     "data": {
      "text/plain": [
       "True"
      ]
     },
     "execution_count": 11,
     "metadata": {},
     "output_type": "execute_result"
    }
   ],
   "source": [
    "x = 10\n",
    "\n",
    "\n",
    "(x > 5 and x < 12 ) or x == 10"
   ]
  },
  {
   "cell_type": "code",
   "execution_count": 12,
   "id": "84535e4a-1419-44fd-a1a4-649fe9e37088",
   "metadata": {},
   "outputs": [
    {
     "data": {
      "text/plain": [
       "False"
      ]
     },
     "execution_count": 12,
     "metadata": {},
     "output_type": "execute_result"
    }
   ],
   "source": [
    " x = True \n",
    "not x"
   ]
  },
  {
   "cell_type": "code",
   "execution_count": null,
   "id": "ae1247b6-8ddc-4153-9af9-1d0d212f3a9f",
   "metadata": {},
   "outputs": [],
   "source": []
  },
  {
   "cell_type": "code",
   "execution_count": 13,
   "id": "2b940092-aee0-441b-8dbf-324cc6f4611e",
   "metadata": {},
   "outputs": [
    {
     "data": {
      "text/plain": [
       "True"
      ]
     },
     "execution_count": 13,
     "metadata": {},
     "output_type": "execute_result"
    }
   ],
   "source": [
    "# membership operator \n",
    "\"h\" in \"harsh\""
   ]
  },
  {
   "cell_type": "code",
   "execution_count": 15,
   "id": "b3f8e7ec-0b45-49c3-bf52-cc2516e98851",
   "metadata": {},
   "outputs": [
    {
     "data": {
      "text/plain": [
       "False"
      ]
     },
     "execution_count": 15,
     "metadata": {},
     "output_type": "execute_result"
    }
   ],
   "source": [
    "\"H\" in \"harsh\"\n",
    "\n",
    "# it can't give the  true condition because it is case sensitive in python ."
   ]
  },
  {
   "cell_type": "code",
   "execution_count": null,
   "id": "fb692b79-c5bb-4818-a611-a141bf2204d7",
   "metadata": {},
   "outputs": [],
   "source": [
    "###list in member ship  "
   ]
  },
  {
   "cell_type": "code",
   "execution_count": 17,
   "id": "3a3b5948-cc22-4c3e-b325-c2be40d3484a",
   "metadata": {},
   "outputs": [
    {
     "data": {
      "text/plain": [
       "True"
      ]
     },
     "execution_count": 17,
     "metadata": {},
     "output_type": "execute_result"
    }
   ],
   "source": [
    "\"y\" in \"yash\""
   ]
  },
  {
   "cell_type": "code",
   "execution_count": 18,
   "id": "fafa70cc-5549-4297-82c4-9ac7b5052848",
   "metadata": {
    "jp-MarkdownHeadingCollapsed": true
   },
   "outputs": [
    {
     "data": {
      "text/plain": [
       "False"
      ]
     },
     "execution_count": 18,
     "metadata": {},
     "output_type": "execute_result"
    }
   ],
   "source": [
    "\"y\" not  in \"yash\""
   ]
  },
  {
   "cell_type": "code",
   "execution_count": 19,
   "id": "f6292632-0370-4a01-9410-fb77312b6505",
   "metadata": {},
   "outputs": [
    {
     "data": {
      "text/plain": [
       "False"
      ]
     },
     "execution_count": 19,
     "metadata": {},
     "output_type": "execute_result"
    }
   ],
   "source": [
    "\"as\" not in \"yash\""
   ]
  },
  {
   "cell_type": "code",
   "execution_count": null,
   "id": "216dee8f-c643-4054-83c4-b0b9761dbfcb",
   "metadata": {},
   "outputs": [],
   "source": []
  },
  {
   "cell_type": "code",
   "execution_count": 20,
   "id": "241ba226-24ed-4024-ba71-101b5275548f",
   "metadata": {},
   "outputs": [
    {
     "data": {
      "text/plain": [
       "True"
      ]
     },
     "execution_count": 20,
     "metadata": {},
     "output_type": "execute_result"
    }
   ],
   "source": [
    "#identity  operator \n",
    "\n",
    "# its used to check whether a object having \n",
    "\n",
    "x = 10 \n",
    "\n",
    "type (x) is int "
   ]
  },
  {
   "cell_type": "code",
   "execution_count": null,
   "id": "6d407451-8a89-496b-acc4-304a6b9183d1",
   "metadata": {},
   "outputs": [],
   "source": []
  },
  {
   "cell_type": "code",
   "execution_count": 21,
   "id": "7ba9eaa5-c421-43f1-9682-2aef101fd9f8",
   "metadata": {},
   "outputs": [
    {
     "name": "stdout",
     "output_type": "stream",
     "text": [
      "x 2088898768976\n",
      "y 2088898768976\n"
     ]
    }
   ],
   "source": [
    "x = 600\n",
    "print(\"x\" , id(x))\n",
    "y= x     #refernce is same (memory )\n",
    "print(\"y\",id(y) )"
   ]
  },
  {
   "cell_type": "code",
   "execution_count": 22,
   "id": "033699d2-b3a5-4d19-8e4f-c20d18b92d81",
   "metadata": {},
   "outputs": [
    {
     "name": "stdout",
     "output_type": "stream",
     "text": [
      "x 2088898768144\n",
      "y 2088898768912\n"
     ]
    }
   ],
   "source": [
    "x = 600\n",
    "print(\"x\" , id(x))\n",
    "y= 600    # (new memory address )\n",
    "print(\"y\",id(y) )"
   ]
  },
  {
   "cell_type": "markdown",
   "id": "2aa9c3a0-2440-45bc-a97b-c1fc49f2b28a",
   "metadata": {},
   "source": [
    "# conditional statement "
   ]
  },
  {
   "cell_type": "code",
   "execution_count": 23,
   "id": "e55d3468-4d0b-4297-89e0-212c911a65ee",
   "metadata": {},
   "outputs": [
    {
     "name": "stdout",
     "output_type": "stream",
     "text": [
      "hello\n"
     ]
    }
   ],
   "source": [
    "if (True ):\n",
    "    print(\"hello\")"
   ]
  },
  {
   "cell_type": "code",
   "execution_count": 26,
   "id": "9697474b-8d0e-4aaf-b3fd-dee04b0900b5",
   "metadata": {},
   "outputs": [
    {
     "name": "stdout",
     "output_type": "stream",
     "text": [
      "hello\n"
     ]
    }
   ],
   "source": [
    "age = 18\n",
    "if (age == 18):\n",
    "    print(\"hello\")"
   ]
  },
  {
   "cell_type": "code",
   "execution_count": 27,
   "id": "efe79c05-d5c9-4289-934e-8e80bd8fdf5b",
   "metadata": {},
   "outputs": [
    {
     "name": "stdout",
     "output_type": "stream",
     "text": [
      "greater than 18\n"
     ]
    }
   ],
   "source": [
    "age = 19\n",
    "if (age == 18):\n",
    "    print(\"hello\")\n",
    "else : \n",
    "    print(\"greater than 18\")\n",
    "    "
   ]
  },
  {
   "cell_type": "code",
   "execution_count": 30,
   "id": "06a7dc54-d90c-4450-9eed-c7ac6992746a",
   "metadata": {},
   "outputs": [
    {
     "name": "stdout",
     "output_type": "stream",
     "text": [
      "divisible\n"
     ]
    }
   ],
   "source": [
    "a = 60\n",
    "if (a%2 == 0  and a%5 == 0):\n",
    "    print(\"divisible\")\n",
    "else :\n",
    "    print(\"not divisible\")"
   ]
  },
  {
   "cell_type": "code",
   "execution_count": 32,
   "id": "ca2d05f2-11cb-43ec-bc7a-61ab100fe8f5",
   "metadata": {},
   "outputs": [
    {
     "name": "stdout",
     "output_type": "stream",
     "text": [
      "divisible by 5\n"
     ]
    }
   ],
   "source": [
    "a = 55\n",
    "if (a%2 == 0 ):\n",
    "    print(\"divisible by 2 \")\n",
    "elif(a%5 == 0 ):\n",
    "    print(\"divisible by 5\")\n",
    "else :\n",
    "    print(\"not divisible\")"
   ]
  },
  {
   "cell_type": "code",
   "execution_count": 35,
   "id": "d0a3df7d-9af9-4a9b-92fa-1307e67e0242",
   "metadata": {},
   "outputs": [
    {
     "name": "stdout",
     "output_type": "stream",
     "text": [
      "a is min \n"
     ]
    }
   ],
   "source": [
    "a = 1 \n",
    "b = 2\n",
    "c = 3 \n",
    "if (a < b and a < c):\n",
    "    print(\"a is min \")\n",
    "elif (a > b and b < c):\n",
    "    print(\"b is min\")   \n",
    "else :\n",
    "    print(\"c is min\")\n",
    "    "
   ]
  },
  {
   "cell_type": "code",
   "execution_count": null,
   "id": "02b3dc2a-7dfe-4f54-a6a5-d829458cd998",
   "metadata": {},
   "outputs": [],
   "source": []
  },
  {
   "cell_type": "code",
   "execution_count": null,
   "id": "7153ef99-dd23-4ead-9454-c099eb22335d",
   "metadata": {},
   "outputs": [],
   "source": []
  },
  {
   "cell_type": "code",
   "execution_count": null,
   "id": "129a5020-35d1-416d-b75a-0947e74475dd",
   "metadata": {},
   "outputs": [],
   "source": []
  }
 ],
 "metadata": {
  "kernelspec": {
   "display_name": "Python 3 (ipykernel)",
   "language": "python",
   "name": "python3"
  },
  "language_info": {
   "codemirror_mode": {
    "name": "ipython",
    "version": 3
   },
   "file_extension": ".py",
   "mimetype": "text/x-python",
   "name": "python",
   "nbconvert_exporter": "python",
   "pygments_lexer": "ipython3",
   "version": "3.12.7"
  }
 },
 "nbformat": 4,
 "nbformat_minor": 5
}
