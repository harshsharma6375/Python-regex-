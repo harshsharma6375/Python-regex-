{
 "cells": [
  {
   "cell_type": "markdown",
   "id": "659a6671-c18b-4087-9485-604444e84dd0",
   "metadata": {},
   "source": [
    "## lambda function"
   ]
  },
  {
   "cell_type": "code",
   "execution_count": null,
   "id": "6d1d718c-6f3e-4f6c-aa86-2e06c0abbad3",
   "metadata": {},
   "outputs": [],
   "source": [
    "# one line functions\n",
    "# inline functions\n",
    "# annynomus functions \n",
    "# used with high order function \n",
    "# map and filter are high order function "
   ]
  },
  {
   "cell_type": "code",
   "execution_count": 2,
   "id": "23e83203-1d03-4782-ae50-a892f9c1b018",
   "metadata": {},
   "outputs": [],
   "source": [
    "def func(x):\n",
    "    return\"hey\""
   ]
  },
  {
   "cell_type": "code",
   "execution_count": 3,
   "id": "cad26602-4aa5-4b3a-bac8-e6a139441da2",
   "metadata": {},
   "outputs": [
    {
     "name": "stdout",
     "output_type": "stream",
     "text": [
      "<function func at 0x0000027DE284E5C0>\n"
     ]
    }
   ],
   "source": [
    "print(func)"
   ]
  },
  {
   "cell_type": "code",
   "execution_count": 4,
   "id": "4fc55a42-de26-4401-8865-dcdf23fb9dc1",
   "metadata": {},
   "outputs": [
    {
     "data": {
      "text/plain": [
       "<function __main__.<lambda>(x)>"
      ]
     },
     "execution_count": 4,
     "metadata": {},
     "output_type": "execute_result"
    }
   ],
   "source": [
    "lambda x: \"hey\"\n"
   ]
  },
  {
   "cell_type": "code",
   "execution_count": 6,
   "id": "5637e6d9-d3c1-483e-9fa8-915b966b7b56",
   "metadata": {},
   "outputs": [
    {
     "data": {
      "text/plain": [
       "'hey'"
      ]
     },
     "execution_count": 6,
     "metadata": {},
     "output_type": "execute_result"
    }
   ],
   "source": [
    "out = lambda x: \"hey\" \n",
    "out (10)\n",
    "# x = parameter "
   ]
  },
  {
   "cell_type": "code",
   "execution_count": null,
   "id": "5f96338b-db6c-4d35-ae98-d0c13c69dd8f",
   "metadata": {},
   "outputs": [],
   "source": [
    "# we use lambda with high order function "
   ]
  },
  {
   "cell_type": "markdown",
   "id": "5840fea2-8da3-4303-984f-df7e19bb9a91",
   "metadata": {},
   "source": [
    "##### MAP (FUNCTION)"
   ]
  },
  {
   "cell_type": "code",
   "execution_count": null,
   "id": "f2398d2c-e100-42ad-b952-a92364728821",
   "metadata": {},
   "outputs": [],
   "source": [
    "# it generate the function as per the user request "
   ]
  },
  {
   "cell_type": "code",
   "execution_count": 12,
   "id": "7d261c5b-e44d-4895-9968-d82e9a0e8d67",
   "metadata": {},
   "outputs": [],
   "source": [
    "def number_square(x):\n",
    "    return x**2"
   ]
  },
  {
   "cell_type": "code",
   "execution_count": null,
   "id": "9ea60ad0-5edb-452c-8fe0-88fd8231b6f6",
   "metadata": {},
   "outputs": [],
   "source": []
  },
  {
   "cell_type": "code",
   "execution_count": 11,
   "id": "6cf4688d-4e73-4182-abe5-53a3c2d1cf92",
   "metadata": {},
   "outputs": [],
   "source": [
    "# map (function, iterable )\n",
    "y = map(number_square,[5,7,8])\n",
    "# in this (next) is used to call the next function request as per the user ."
   ]
  },
  {
   "cell_type": "code",
   "execution_count": 13,
   "id": "d6c4d468-9af6-48ad-b1da-3745b6ecdd95",
   "metadata": {},
   "outputs": [
    {
     "data": {
      "text/plain": [
       "25"
      ]
     },
     "execution_count": 13,
     "metadata": {},
     "output_type": "execute_result"
    }
   ],
   "source": [
    "next(y)"
   ]
  },
  {
   "cell_type": "code",
   "execution_count": 15,
   "id": "4cd5f6c9-4b16-448b-bb29-209f92d265e8",
   "metadata": {},
   "outputs": [
    {
     "data": {
      "text/plain": [
       "49"
      ]
     },
     "execution_count": 15,
     "metadata": {},
     "output_type": "execute_result"
    }
   ],
   "source": [
    "next(y)"
   ]
  },
  {
   "cell_type": "code",
   "execution_count": 16,
   "id": "3d248f43-1187-4d01-a633-33920a08fc66",
   "metadata": {},
   "outputs": [],
   "source": [
    "# with lambda function\n",
    "y = map(lambda x:x**2,[5,7,8])\n",
    "# lambda parameter : expression "
   ]
  },
  {
   "cell_type": "code",
   "execution_count": 17,
   "id": "9573fb33-8382-4030-8fdc-7f277150d51e",
   "metadata": {},
   "outputs": [
    {
     "data": {
      "text/plain": [
       "25"
      ]
     },
     "execution_count": 17,
     "metadata": {},
     "output_type": "execute_result"
    }
   ],
   "source": [
    "next(y)"
   ]
  },
  {
   "cell_type": "code",
   "execution_count": null,
   "id": "1d4e8460-09df-4192-94df-ce80aa6736f3",
   "metadata": {},
   "outputs": [],
   "source": [
    "# with for loop "
   ]
  },
  {
   "cell_type": "code",
   "execution_count": null,
   "id": "6830d146-fea0-4d0e-837b-2ea1c3b3e3cf",
   "metadata": {},
   "outputs": [],
   "source": []
  },
  {
   "cell_type": "code",
   "execution_count": 18,
   "id": "32dd68b4-5ea1-4924-9ee1-adc4f426b012",
   "metadata": {},
   "outputs": [
    {
     "data": {
      "text/plain": [
       "[25, 49, 64]"
      ]
     },
     "execution_count": 18,
     "metadata": {},
     "output_type": "execute_result"
    }
   ],
   "source": [
    "list( map(lambda x:x**2,[5,7,8]))"
   ]
  },
  {
   "cell_type": "code",
   "execution_count": 21,
   "id": "091e44a9-d117-4cb4-8e66-8b7dfa09f571",
   "metadata": {},
   "outputs": [
    {
     "data": {
      "text/plain": [
       "[[25], [49], [64]]"
      ]
     },
     "execution_count": 21,
     "metadata": {},
     "output_type": "execute_result"
    }
   ],
   "source": [
    "# with nested list \n",
    "list( map(lambda x:[x**2],[5,7,8]))"
   ]
  },
  {
   "cell_type": "code",
   "execution_count": 19,
   "id": "04728c5f-0365-4323-ade9-e97cf5b2122f",
   "metadata": {},
   "outputs": [
    {
     "data": {
      "text/plain": [
       "(25, 49, 64)"
      ]
     },
     "execution_count": 19,
     "metadata": {},
     "output_type": "execute_result"
    }
   ],
   "source": [
    "tuple( map(lambda x:x**2,[5,7,8]))"
   ]
  },
  {
   "cell_type": "code",
   "execution_count": 22,
   "id": "60ce5769-7e25-4627-9c14-7e730cbceebd",
   "metadata": {
    "scrolled": true
   },
   "outputs": [
    {
     "data": {
      "text/plain": [
       "[False, False, True]"
      ]
     },
     "execution_count": 22,
     "metadata": {},
     "output_type": "execute_result"
    }
   ],
   "source": [
    "list( map(lambda x:x%2==0,[5,7,8]))\n",
    "# in this it works on comparison operator that return the output in true / false ."
   ]
  },
  {
   "cell_type": "code",
   "execution_count": 34,
   "id": "f3cd2aaf-9d9f-4dff-b8c7-c400fcc1854b",
   "metadata": {},
   "outputs": [
    {
     "name": "stdout",
     "output_type": "stream",
     "text": [
      "{5: 25, 7: 49, 8: 64}\n"
     ]
    }
   ],
   "source": [
    "result = dict( map(lambda x:(x,x**2),[5,7,8]))\n",
    "print(result)"
   ]
  },
  {
   "cell_type": "code",
   "execution_count": 32,
   "id": "c0971240-1df0-4951-b02f-eb21c4716996",
   "metadata": {
    "scrolled": true
   },
   "outputs": [
    {
     "data": {
      "text/plain": [
       "[(5, 1), (7, 1), (8, 1)]"
      ]
     },
     "execution_count": 32,
     "metadata": {},
     "output_type": "execute_result"
    }
   ],
   "source": [
    "list( map(lambda x:(x,1),[5,7,8]))\n",
    "# in tuple "
   ]
  },
  {
   "cell_type": "code",
   "execution_count": 35,
   "id": "bb467316-0ba3-457f-9bb1-7b650fc33986",
   "metadata": {},
   "outputs": [
    {
     "data": {
      "text/plain": [
       "{5: 25, 7: 49, 8: 64}"
      ]
     },
     "execution_count": 35,
     "metadata": {},
     "output_type": "execute_result"
    }
   ],
   "source": [
    "result = list( map(lambda x:(x,x**2),[5,7,8]))\n",
    "dict(result)"
   ]
  },
  {
   "cell_type": "markdown",
   "id": "36578806-ba00-4db5-a3ad-e5ae06792a67",
   "metadata": {},
   "source": [
    "#### FILTER FUNCTION"
   ]
  },
  {
   "cell_type": "code",
   "execution_count": null,
   "id": "e236394a-da2c-4a72-a6d2-0b7633e4af9d",
   "metadata": {},
   "outputs": [],
   "source": [
    "# it returns only the True / False  as per the condtions "
   ]
  },
  {
   "cell_type": "code",
   "execution_count": 26,
   "id": "2d5d0bde-5c26-4337-b6ad-972712182426",
   "metadata": {},
   "outputs": [
    {
     "data": {
      "text/plain": [
       "[8]"
      ]
     },
     "execution_count": 26,
     "metadata": {},
     "output_type": "execute_result"
    }
   ],
   "source": [
    "list( filter (lambda x:x%2==0,[5,7,8]))"
   ]
  },
  {
   "cell_type": "markdown",
   "id": "f8682082-237b-4d74-8910-79989c825da0",
   "metadata": {},
   "source": [
    "## FILE HANDLING "
   ]
  },
  {
   "cell_type": "code",
   "execution_count": null,
   "id": "9449de4a-7a55-493f-b7b3-1fcf4e1d2356",
   "metadata": {},
   "outputs": [],
   "source": [
    " # it is a type of mechanism which is used to read and write the file . "
   ]
  },
  {
   "cell_type": "code",
   "execution_count": null,
   "id": "01baab06-9e73-4c0c-86fe-310603b9f541",
   "metadata": {},
   "outputs": [],
   "source": []
  },
  {
   "cell_type": "code",
   "execution_count": 40,
   "id": "bc47aa20-b44c-41c7-a267-f28e819cabb6",
   "metadata": {},
   "outputs": [
    {
     "name": "stdout",
     "output_type": "stream",
     "text": [
      "hey harsh\n"
     ]
    }
   ],
   "source": [
    "# open \n",
    "# read write \n",
    "# close \n",
    "f = open(\"data.txt\")\n",
    "var = f.read()\n",
    "f.close()\n",
    "\n",
    "print(var)"
   ]
  },
  {
   "cell_type": "code",
   "execution_count": 41,
   "id": "28a25a71-10e6-4d43-abea-625fec6636cb",
   "metadata": {},
   "outputs": [],
   "source": [
    "# open (\"access mode\")\n",
    "# read write \n",
    "# close \n",
    "fi = open(\"data.txt\",\"w\")\n",
    "fi.write (\"rajasthan\")\n",
    "f.close()\n"
   ]
  },
  {
   "cell_type": "code",
   "execution_count": null,
   "id": "6dc0bbf4-4eb0-42c3-8f78-e0e275bc82a7",
   "metadata": {},
   "outputs": [],
   "source": []
  }
 ],
 "metadata": {
  "kernelspec": {
   "display_name": "Python 3 (ipykernel)",
   "language": "python",
   "name": "python3"
  },
  "language_info": {
   "codemirror_mode": {
    "name": "ipython",
    "version": 3
   },
   "file_extension": ".py",
   "mimetype": "text/x-python",
   "name": "python",
   "nbconvert_exporter": "python",
   "pygments_lexer": "ipython3",
   "version": "3.12.7"
  }
 },
 "nbformat": 4,
 "nbformat_minor": 5
}
