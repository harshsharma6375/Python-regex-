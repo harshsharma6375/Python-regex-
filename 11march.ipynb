{
 "cells": [
  {
   "cell_type": "code",
   "execution_count": 10,
   "id": "d934dcfd-f099-448d-89d4-52cb48e6de94",
   "metadata": {},
   "outputs": [
    {
     "name": "stdout",
     "output_type": "stream",
     "text": [
      "* * * * * \n",
      "  * * * * \n",
      "    * * * \n",
      "      * * \n",
      "        * \n"
     ]
    }
   ],
   "source": [
    "for i in range(1,6):\n",
    "    for j in range (1,i):\n",
    "        print(\" \",end = \" \")\n",
    "\n",
    "    for k in range (i,6):\n",
    "        print(\"*\",end = \" \")\n",
    "\n",
    "    print()"
   ]
  },
  {
   "cell_type": "code",
   "execution_count": 16,
   "id": "8c2a1b65-cc02-400a-a5c1-3bc42463b4f8",
   "metadata": {},
   "outputs": [
    {
     "name": "stdout",
     "output_type": "stream",
     "text": [
      "* * * * * \n",
      "  *     * \n",
      "    *   * \n",
      "      * * \n",
      "        * \n"
     ]
    }
   ],
   "source": [
    "for i in range(1,6):\n",
    "    for j in range (1,i):\n",
    "        print(\" \",end = \" \")\n",
    "\n",
    "    for k in range (i,6):\n",
    "        if i == k or i ==1  or k == 5:\n",
    "            print(\"*\",end = \" \")\n",
    "\n",
    "        else :\n",
    "            print(\" \",end = \" \")\n",
    "\n",
    "    print()"
   ]
  },
  {
   "cell_type": "code",
   "execution_count": 24,
   "id": "5a9622c4-de98-465d-bca8-f917ce2b5a8e",
   "metadata": {},
   "outputs": [
    {
     "name": "stdout",
     "output_type": "stream",
     "text": [
      "        * \n",
      "      * * \n",
      "    *   * \n",
      "  *     * \n",
      "* * * * * \n"
     ]
    }
   ],
   "source": [
    "\n",
    "for i in range(1,6):\n",
    "    for j in range (i,5):\n",
    "        print(\" \",end = \" \")\n",
    "\n",
    "    for k in range (1,i+1):\n",
    "        if i == 5 or k==1  or k == i:\n",
    "            print(\"*\",end = \" \")\n",
    "\n",
    "        else :\n",
    "            print(\" \",end = \" \")\n",
    "        \n",
    "\n",
    "    print()"
   ]
  },
  {
   "cell_type": "markdown",
   "id": "84648913-1fe0-4543-9cae-0c7b61a1758a",
   "metadata": {},
   "source": [
    " ## data in string "
   ]
  },
  {
   "cell_type": "code",
   "execution_count": 30,
   "id": "86790956-06f0-4986-8d35-5189dcae344e",
   "metadata": {},
   "outputs": [
    {
     "name": "stdout",
     "output_type": "stream",
     "text": [
      "5 f\n",
      "4 e\n",
      "3 d\n",
      "2 c\n",
      "1 b\n",
      "0 a\n"
     ]
    }
   ],
   "source": [
    "data  = \"abcdef\"\n",
    "\n",
    "for i in range (5,-1,-1):\n",
    "    print(i,data[i])\n",
    "\n",
    "#iterable "
   ]
  },
  {
   "cell_type": "code",
   "execution_count": 36,
   "id": "2f1d0456-9ea9-4129-8ceb-076b66735623",
   "metadata": {},
   "outputs": [
    {
     "name": "stdout",
     "output_type": "stream",
     "text": [
      "5 f\n",
      "4 e\n",
      "3 d\n",
      "2 c\n",
      "1 b\n",
      "0 a\n",
      "fedcba\n"
     ]
    }
   ],
   "source": [
    "data  = \"abcdef\"\n",
    "word = ''\n",
    "for i in range (5,-1,-1):\n",
    "    \n",
    "    print(i,data[i])\n",
    "    word = word+data[i]\n",
    "print(word)\n",
    "#iterable "
   ]
  },
  {
   "cell_type": "code",
   "execution_count": 35,
   "id": "f4973669-f927-4355-8c66-853d559ab147",
   "metadata": {},
   "outputs": [
    {
     "name": "stdout",
     "output_type": "stream",
     "text": [
      "pallindrome \n"
     ]
    }
   ],
   "source": [
    "data  = \"saras\"\n",
    "s = ''\n",
    "r= \"\"\n",
    "for i in range (0,len(data)):\n",
    "    s = s+data[i]\n",
    "\n",
    "for i in range (len(data)-1,-1,-1):\n",
    "    r+= data[i]\n",
    "\n",
    "if (s==r):\n",
    "    print(\"pallindrome \")\n",
    "else :\n",
    "    print(\"not pallindrome \")\n",
    "    "
   ]
  },
  {
   "cell_type": "code",
   "execution_count": null,
   "id": "0e8e7f0f-adef-4de8-8557-d07f01d74f00",
   "metadata": {},
   "outputs": [],
   "source": [
    "data  = \"saras\"\n",
    "s = ''\n",
    "for i in range (0,len(data)):\n",
    "    s = s+data[i]\n",
    "    print(s)"
   ]
  }
 ],
 "metadata": {
  "kernelspec": {
   "display_name": "Python 3 (ipykernel)",
   "language": "python",
   "name": "python3"
  },
  "language_info": {
   "codemirror_mode": {
    "name": "ipython",
    "version": 3
   },
   "file_extension": ".py",
   "mimetype": "text/x-python",
   "name": "python",
   "nbconvert_exporter": "python",
   "pygments_lexer": "ipython3",
   "version": "3.12.7"
  }
 },
 "nbformat": 4,
 "nbformat_minor": 5
}
