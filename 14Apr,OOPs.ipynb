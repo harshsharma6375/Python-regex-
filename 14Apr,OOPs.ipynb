{
 "cells": [
  {
   "cell_type": "markdown",
   "id": "08553c2d-1872-464b-8381-140d95bc0c5a",
   "metadata": {},
   "source": [
    "### ENCAPUSALTION"
   ]
  },
  {
   "cell_type": "markdown",
   "id": "7ee7c61e-8d9b-463e-9965-d8f0ae5d6325",
   "metadata": {},
   "source": [
    "Encapsulation is one of the core concepts of Object-Oriented Programming (OOP) (along with inheritance, polymorphism, and abstraction)."
   ]
  },
  {
   "cell_type": "markdown",
   "id": "06b66896-52ea-41e3-96a2-a1a151a9ef91",
   "metadata": {},
   "source": [
    "Protects Data — You control who can read or change your object's data.\n",
    "\n",
    "Hides Complexity — Users don't need to know the inner workings, just the interface.\n",
    "\n",
    "Increases Flexibility — You can change the inner code later without affecting external code.\n",
    "\n"
   ]
  },
  {
   "cell_type": "code",
   "execution_count": null,
   "id": "803a3f76-5606-4a6a-a989-69a4fd6a733f",
   "metadata": {},
   "outputs": [],
   "source": [
    "class Employee:\n",
    "    def __init__(self,name,salary):\n",
    "        self.name = name ##public attribute \n",
    "        self.__salary = salary ## private attribute\n",
    "\n",
    "    def getinfo(self):\n",
    "        print(f\"name of employee is :{self.name} and salary is :{self.__salary}\")\n",
    "\n",
    "\n",
    "a = Employee(\"sam\",20000)\n",
    "a.getinfo()\n",
    "print(a.name)\n",
    "#print(a.__salary)"
   ]
  },
  {
   "cell_type": "code",
   "execution_count": null,
   "id": "a6002dd4-90ce-4b70-aeb3-8e810dc00eab",
   "metadata": {},
   "outputs": [],
   "source": []
  },
  {
   "cell_type": "markdown",
   "id": "f68dbc92-532f-44a5-9e35-46cdf12d8649",
   "metadata": {},
   "source": [
    "### Example 1- BANK ACCOUNT"
   ]
  },
  {
   "cell_type": "code",
   "execution_count": null,
   "id": "888d83a6-4b28-4b31-a236-2c93ef67185b",
   "metadata": {},
   "outputs": [],
   "source": []
  },
  {
   "cell_type": "code",
   "execution_count": 14,
   "id": "7202a9fe-0a02-492a-9068-cc064a19ea12",
   "metadata": {},
   "outputs": [
    {
     "name": "stdout",
     "output_type": "stream",
     "text": [
      "Harsh\n",
      "5000\n",
      "Deposit successful! New balance: 6000\n",
      "Withdrawal successful! New balance: 4000\n"
     ]
    }
   ],
   "source": [
    "class BankAccount:\n",
    "    def __init__(self, account_holder, balance=0):\n",
    "        self.__account_holder = account_holder     # Private attribute \n",
    "        self.__balance = balance                   # Private attribute \n",
    "\n",
    "    # Getter for account holder \n",
    "    def get_account_holder(self):\n",
    "        return self.__account_holder \n",
    "\n",
    "    # Getter for balance \n",
    "    def get_balance(self):\n",
    "        return self.__balance \n",
    "\n",
    "    def deposit(self, amount):\n",
    "        if amount > 0:\n",
    "            self.__balance += amount \n",
    "            return f\"Deposit successful! New balance: {self.__balance}\"\n",
    "        else:\n",
    "            return \"Invalid deposit amount.\"\n",
    "\n",
    "    # Method to withdraw money\n",
    "    def withdraw(self, amount):\n",
    "        if amount <= self.__balance:\n",
    "            self.__balance -= amount\n",
    "            return f\"Withdrawal successful! New balance: {self.__balance}\" \n",
    "        else:\n",
    "            return \"Insufficient funds.\"\n",
    "\n",
    "# Using the class\n",
    "\n",
    "# Test the BankAccount class\n",
    "account = BankAccount(\"Harsh\", 5000)\n",
    "print(account.get_account_holder())     # Output: Harsh\n",
    "print(account.get_balance())            # Output: 5000\n",
    "print(account.deposit(1000))            # Output: Deposit successful! New balance: 6000\n",
    "print(account.withdraw(2000))           # Output: Withdrawal successful! New balance: 4000\n"
   ]
  },
  {
   "cell_type": "code",
   "execution_count": null,
   "id": "2231475a-968e-45e3-be7d-33ea1ba02c56",
   "metadata": {},
   "outputs": [],
   "source": []
  },
  {
   "cell_type": "code",
   "execution_count": null,
   "id": "8e6512ab-d8b4-49a8-b395-f4d489300e2b",
   "metadata": {},
   "outputs": [],
   "source": []
  },
  {
   "cell_type": "markdown",
   "id": "321707d4-3d57-49fd-baca-a4b68a2d468a",
   "metadata": {},
   "source": [
    "### Example 2 :Student Data "
   ]
  },
  {
   "cell_type": "code",
   "execution_count": 19,
   "id": "8979524f-168b-4935-b1e7-d3004f417697",
   "metadata": {},
   "outputs": [
    {
     "name": "stdout",
     "output_type": "stream",
     "text": [
      "rohit\n",
      "85\n",
      "grade update successfully!\n",
      "75\n",
      "invalid grade! must be between 0 and 100\n"
     ]
    }
   ],
   "source": [
    "class student :\n",
    "    def __init__(self,name,grade ):\n",
    "        self.name = name \n",
    "        self.__grade  = grade \n",
    "\n",
    "    def get_grade(self):\n",
    "        return self.__grade \n",
    "\n",
    "    def set_grade (self, new_grade ):\n",
    "        if 0 <= new_grade <= 100 :\n",
    "            self.__grade = new_grade\n",
    "            return \"grade update successfully!\"\n",
    "\n",
    "        else:\n",
    "            return \"invalid grade! must be between 0 and 100\"\n",
    "\n",
    "\n",
    "#using the class \n",
    "student  = student(\"rohit\",85)\n",
    "print(student.name)\n",
    "print(student.get_grade())\n",
    "print(student.set_grade(75))\n",
    "print(student.get_grade())\n",
    "#attempt to set an in valid grade \n",
    "print(student.set_grade (152))\n"
   ]
  },
  {
   "cell_type": "markdown",
   "id": "1e5e3b6c-da9e-4202-b7d8-6b9d3602aaa6",
   "metadata": {},
   "source": [
    "###  Example 3 \n",
    "#### Case Study 1: Healthcare System (Patient Record Management)\n",
    "\n",
    "problem : develop a system for managing patient records in a hospital where :\n",
    "\n",
    "patient details(name,age , and medical history ) should be private .\n",
    "\n",
    "only authorized methods cab retrieve or update medical history\n",
    "\n",
    "provide a method to add new medical records while kepooing previous data secure ."
   ]
  },
  {
   "cell_type": "code",
   "execution_count": 27,
   "id": "e5b7a56e-a8ff-443f-afee-d95f38db3ed2",
   "metadata": {},
   "outputs": [
    {
     "name": "stdout",
     "output_type": "stream",
     "text": [
      "Medical record added for Karan.\n",
      "Medical record added for Karan.\n",
      "Medical record added for Karan.\n",
      "Medical history for Karan: ['2020: Flu', '2021: Dengue', '2022: Covid', '2020:flu', '2021:dengue', '2020:covid']\n"
     ]
    }
   ],
   "source": [
    "class patient:\n",
    "    def __init__(self,name,age):\n",
    "        self.__name = name\n",
    "        self.__age = age \n",
    "        self.__medical_hisstory = []\n",
    "\n",
    "    def add_medical_record (self,record):\n",
    "        self.__medical_history.append(record)\n",
    "        return f\"medical record added for {self.__name}.\"\n",
    "\n",
    "    def get_medical_history(self):\n",
    "        return f\"medical history for {self.__name} :{self.__medical_history}\"\n",
    "\n",
    "pateint1 = patient (\"karan\",30)\n",
    "print(patient1.add_medical_record(\"2020:flu\"))\n",
    "print(patient1.add_medical_record(\"2021:dengue\"))\n",
    "print(patient1.add_medical_record(\"2020:covid\"))\n",
    "\n",
    "print(patient1.get_medical_history())"
   ]
  },
  {
   "cell_type": "code",
   "execution_count": 29,
   "id": "c7dddf57-cd1c-480f-91c9-a18fae8b5466",
   "metadata": {},
   "outputs": [
    {
     "name": "stdout",
     "output_type": "stream",
     "text": [
      "Medical record added for Karan.\n",
      "Medical record added for Karan.\n",
      "Medical record added for Karan.\n",
      "Medical history for Karan: ['2020: Flu', '2021: Dengue', '2022: Covid']\n"
     ]
    }
   ],
   "source": [
    "class Patient:\n",
    "    def __init__(self, name, age):\n",
    "        self.__name = name\n",
    "        self.__age = age \n",
    "        self.__medical_history = []  # Fixed typo\n",
    "\n",
    "    def add_medical_record(self, record):\n",
    "        self.__medical_history.append(record)  # Fixed typo\n",
    "        return f\"Medical record added for {self.__name}.\"\n",
    "\n",
    "    def get_medical_history(self):\n",
    "        return f\"Medical history for {self.__name}: {self.__medical_history}\"\n",
    "\n",
    "# Creating patient object\n",
    "patient1 = Patient(\"Karan\", 30)\n",
    "\n",
    "# Adding medical records\n",
    "print(patient1.add_medical_record(\"2020: Flu\"))\n",
    "print(patient1.add_medical_record(\"2021: Dengue\"))\n",
    "print(patient1.add_medical_record(\"2022: Covid\"))\n",
    "\n",
    "# Displaying medical history\n",
    "print(patient1.get_medical_history())\n"
   ]
  },
  {
   "cell_type": "code",
   "execution_count": null,
   "id": "24df9cfd-e3d7-4d67-abb5-7fd2eada7d36",
   "metadata": {},
   "outputs": [],
   "source": []
  },
  {
   "cell_type": "code",
   "execution_count": null,
   "id": "9ea5452b-a69d-4725-ad26-9171a5beb4df",
   "metadata": {},
   "outputs": [],
   "source": []
  },
  {
   "cell_type": "code",
   "execution_count": null,
   "id": "f7b15b55-78ac-461c-9df8-3430c165817f",
   "metadata": {},
   "outputs": [],
   "source": []
  },
  {
   "cell_type": "code",
   "execution_count": null,
   "id": "2141a116-1bff-4109-aec8-492bed402bb3",
   "metadata": {},
   "outputs": [],
   "source": []
  }
 ],
 "metadata": {
  "kernelspec": {
   "display_name": "Python 3 (ipykernel)",
   "language": "python",
   "name": "python3"
  },
  "language_info": {
   "codemirror_mode": {
    "name": "ipython",
    "version": 3
   },
   "file_extension": ".py",
   "mimetype": "text/x-python",
   "name": "python",
   "nbconvert_exporter": "python",
   "pygments_lexer": "ipython3",
   "version": "3.12.7"
  }
 },
 "nbformat": 4,
 "nbformat_minor": 5
}
